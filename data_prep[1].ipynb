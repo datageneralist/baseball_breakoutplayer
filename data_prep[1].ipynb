{
 "metadata": {
  "language_info": {
   "codemirror_mode": {
    "name": "ipython",
    "version": 3
   },
   "file_extension": ".py",
   "mimetype": "text/x-python",
   "name": "python",
   "nbconvert_exporter": "python",
   "pygments_lexer": "ipython3",
   "version": "3.8.8-final"
  },
  "orig_nbformat": 2,
  "kernelspec": {
   "name": "python388jvsc74a57bd0e13a37ce5d3ecb05ca1efab779283ad44f108db019ad9771d2ea45cb3b656a8e",
   "display_name": "Python 3.8.8 64-bit ('cse6242-final-project': conda)"
  }
 },
 "nbformat": 4,
 "nbformat_minor": 2,
 "cells": [
  {
   "cell_type": "code",
   "execution_count": 1,
   "metadata": {},
   "outputs": [],
   "source": [
    "import pandas as pd\n",
    "from IPython.display import display\n",
    "import datetime as dt\n",
    "from matplotlib import pylab\n",
    "import numpy as np\n",
    "import scipy as sp\n",
    "import statsmodels.api as sm\n",
    "import warnings \n",
    "warnings.filterwarnings(\"ignore\")\n",
    "import sqlite3"
   ]
  },
  {
   "cell_type": "code",
   "execution_count": 2,
   "metadata": {},
   "outputs": [
    {
     "output_type": "display_data",
     "data": {
      "text/plain": "    playerID  yearID  stint teamID lgID   G   AB   R   H  2B  ...   RBI   SB  \\\n0  abercda01    1871      1    TRO  NaN   1    4   0   0   0  ...   0.0  0.0   \n1   addybo01    1871      1    RC1  NaN  25  118  30  32   6  ...  13.0  8.0   \n2  allisar01    1871      1    CL1  NaN  29  137  28  40   4  ...  19.0  3.0   \n3  allisdo01    1871      1    WS3  NaN  27  133  28  44  10  ...  27.0  1.0   \n4  ansonca01    1871      1    RC1  NaN  25  120  29  39  11  ...  16.0  6.0   \n\n    CS  BB   SO  IBB  HBP  SH  SF  GIDP  \n0  0.0   0  0.0  NaN  NaN NaN NaN   0.0  \n1  1.0   4  0.0  NaN  NaN NaN NaN   0.0  \n2  1.0   2  5.0  NaN  NaN NaN NaN   1.0  \n3  1.0   0  2.0  NaN  NaN NaN NaN   0.0  \n4  2.0   2  1.0  NaN  NaN NaN NaN   0.0  \n\n[5 rows x 22 columns]",
      "text/html": "<div>\n<style scoped>\n    .dataframe tbody tr th:only-of-type {\n        vertical-align: middle;\n    }\n\n    .dataframe tbody tr th {\n        vertical-align: top;\n    }\n\n    .dataframe thead th {\n        text-align: right;\n    }\n</style>\n<table border=\"1\" class=\"dataframe\">\n  <thead>\n    <tr style=\"text-align: right;\">\n      <th></th>\n      <th>playerID</th>\n      <th>yearID</th>\n      <th>stint</th>\n      <th>teamID</th>\n      <th>lgID</th>\n      <th>G</th>\n      <th>AB</th>\n      <th>R</th>\n      <th>H</th>\n      <th>2B</th>\n      <th>...</th>\n      <th>RBI</th>\n      <th>SB</th>\n      <th>CS</th>\n      <th>BB</th>\n      <th>SO</th>\n      <th>IBB</th>\n      <th>HBP</th>\n      <th>SH</th>\n      <th>SF</th>\n      <th>GIDP</th>\n    </tr>\n  </thead>\n  <tbody>\n    <tr>\n      <th>0</th>\n      <td>abercda01</td>\n      <td>1871</td>\n      <td>1</td>\n      <td>TRO</td>\n      <td>NaN</td>\n      <td>1</td>\n      <td>4</td>\n      <td>0</td>\n      <td>0</td>\n      <td>0</td>\n      <td>...</td>\n      <td>0.0</td>\n      <td>0.0</td>\n      <td>0.0</td>\n      <td>0</td>\n      <td>0.0</td>\n      <td>NaN</td>\n      <td>NaN</td>\n      <td>NaN</td>\n      <td>NaN</td>\n      <td>0.0</td>\n    </tr>\n    <tr>\n      <th>1</th>\n      <td>addybo01</td>\n      <td>1871</td>\n      <td>1</td>\n      <td>RC1</td>\n      <td>NaN</td>\n      <td>25</td>\n      <td>118</td>\n      <td>30</td>\n      <td>32</td>\n      <td>6</td>\n      <td>...</td>\n      <td>13.0</td>\n      <td>8.0</td>\n      <td>1.0</td>\n      <td>4</td>\n      <td>0.0</td>\n      <td>NaN</td>\n      <td>NaN</td>\n      <td>NaN</td>\n      <td>NaN</td>\n      <td>0.0</td>\n    </tr>\n    <tr>\n      <th>2</th>\n      <td>allisar01</td>\n      <td>1871</td>\n      <td>1</td>\n      <td>CL1</td>\n      <td>NaN</td>\n      <td>29</td>\n      <td>137</td>\n      <td>28</td>\n      <td>40</td>\n      <td>4</td>\n      <td>...</td>\n      <td>19.0</td>\n      <td>3.0</td>\n      <td>1.0</td>\n      <td>2</td>\n      <td>5.0</td>\n      <td>NaN</td>\n      <td>NaN</td>\n      <td>NaN</td>\n      <td>NaN</td>\n      <td>1.0</td>\n    </tr>\n    <tr>\n      <th>3</th>\n      <td>allisdo01</td>\n      <td>1871</td>\n      <td>1</td>\n      <td>WS3</td>\n      <td>NaN</td>\n      <td>27</td>\n      <td>133</td>\n      <td>28</td>\n      <td>44</td>\n      <td>10</td>\n      <td>...</td>\n      <td>27.0</td>\n      <td>1.0</td>\n      <td>1.0</td>\n      <td>0</td>\n      <td>2.0</td>\n      <td>NaN</td>\n      <td>NaN</td>\n      <td>NaN</td>\n      <td>NaN</td>\n      <td>0.0</td>\n    </tr>\n    <tr>\n      <th>4</th>\n      <td>ansonca01</td>\n      <td>1871</td>\n      <td>1</td>\n      <td>RC1</td>\n      <td>NaN</td>\n      <td>25</td>\n      <td>120</td>\n      <td>29</td>\n      <td>39</td>\n      <td>11</td>\n      <td>...</td>\n      <td>16.0</td>\n      <td>6.0</td>\n      <td>2.0</td>\n      <td>2</td>\n      <td>1.0</td>\n      <td>NaN</td>\n      <td>NaN</td>\n      <td>NaN</td>\n      <td>NaN</td>\n      <td>0.0</td>\n    </tr>\n  </tbody>\n</table>\n<p>5 rows × 22 columns</p>\n</div>"
     },
     "metadata": {}
    },
    {
     "output_type": "display_data",
     "data": {
      "text/plain": "   yearID teamID lgID   playerID  G_all    GS  G_batting  G_defense  G_p  G_c  \\\n0    1871    TRO  NaN  abercda01      1   1.0          1        1.0    0    0   \n1    1871    RC1  NaN   addybo01     25  25.0         25       25.0    0    0   \n2    1871    CL1  NaN  allisar01     29  29.0         29       29.0    0    0   \n3    1871    WS3  NaN  allisdo01     27  27.0         27       27.0    0   27   \n4    1871    RC1  NaN  ansonca01     25  25.0         25       25.0    0    5   \n\n   ...  G_2b  G_3b  G_ss  G_lf  G_cf  G_rf  G_of  G_dh  G_ph  G_pr  \n0  ...     0     0     1     0     0     0     0   0.0   0.0   0.0  \n1  ...    22     0     3     0     0     0     0   0.0   0.0   0.0  \n2  ...     2     0     0     0    29     0    29   0.0   0.0   0.0  \n3  ...     0     0     0     0     0     0     0   0.0   0.0   0.0  \n4  ...     2    20     0     1     0     0     1   0.0   0.0   0.0  \n\n[5 rows x 21 columns]",
      "text/html": "<div>\n<style scoped>\n    .dataframe tbody tr th:only-of-type {\n        vertical-align: middle;\n    }\n\n    .dataframe tbody tr th {\n        vertical-align: top;\n    }\n\n    .dataframe thead th {\n        text-align: right;\n    }\n</style>\n<table border=\"1\" class=\"dataframe\">\n  <thead>\n    <tr style=\"text-align: right;\">\n      <th></th>\n      <th>yearID</th>\n      <th>teamID</th>\n      <th>lgID</th>\n      <th>playerID</th>\n      <th>G_all</th>\n      <th>GS</th>\n      <th>G_batting</th>\n      <th>G_defense</th>\n      <th>G_p</th>\n      <th>G_c</th>\n      <th>...</th>\n      <th>G_2b</th>\n      <th>G_3b</th>\n      <th>G_ss</th>\n      <th>G_lf</th>\n      <th>G_cf</th>\n      <th>G_rf</th>\n      <th>G_of</th>\n      <th>G_dh</th>\n      <th>G_ph</th>\n      <th>G_pr</th>\n    </tr>\n  </thead>\n  <tbody>\n    <tr>\n      <th>0</th>\n      <td>1871</td>\n      <td>TRO</td>\n      <td>NaN</td>\n      <td>abercda01</td>\n      <td>1</td>\n      <td>1.0</td>\n      <td>1</td>\n      <td>1.0</td>\n      <td>0</td>\n      <td>0</td>\n      <td>...</td>\n      <td>0</td>\n      <td>0</td>\n      <td>1</td>\n      <td>0</td>\n      <td>0</td>\n      <td>0</td>\n      <td>0</td>\n      <td>0.0</td>\n      <td>0.0</td>\n      <td>0.0</td>\n    </tr>\n    <tr>\n      <th>1</th>\n      <td>1871</td>\n      <td>RC1</td>\n      <td>NaN</td>\n      <td>addybo01</td>\n      <td>25</td>\n      <td>25.0</td>\n      <td>25</td>\n      <td>25.0</td>\n      <td>0</td>\n      <td>0</td>\n      <td>...</td>\n      <td>22</td>\n      <td>0</td>\n      <td>3</td>\n      <td>0</td>\n      <td>0</td>\n      <td>0</td>\n      <td>0</td>\n      <td>0.0</td>\n      <td>0.0</td>\n      <td>0.0</td>\n    </tr>\n    <tr>\n      <th>2</th>\n      <td>1871</td>\n      <td>CL1</td>\n      <td>NaN</td>\n      <td>allisar01</td>\n      <td>29</td>\n      <td>29.0</td>\n      <td>29</td>\n      <td>29.0</td>\n      <td>0</td>\n      <td>0</td>\n      <td>...</td>\n      <td>2</td>\n      <td>0</td>\n      <td>0</td>\n      <td>0</td>\n      <td>29</td>\n      <td>0</td>\n      <td>29</td>\n      <td>0.0</td>\n      <td>0.0</td>\n      <td>0.0</td>\n    </tr>\n    <tr>\n      <th>3</th>\n      <td>1871</td>\n      <td>WS3</td>\n      <td>NaN</td>\n      <td>allisdo01</td>\n      <td>27</td>\n      <td>27.0</td>\n      <td>27</td>\n      <td>27.0</td>\n      <td>0</td>\n      <td>27</td>\n      <td>...</td>\n      <td>0</td>\n      <td>0</td>\n      <td>0</td>\n      <td>0</td>\n      <td>0</td>\n      <td>0</td>\n      <td>0</td>\n      <td>0.0</td>\n      <td>0.0</td>\n      <td>0.0</td>\n    </tr>\n    <tr>\n      <th>4</th>\n      <td>1871</td>\n      <td>RC1</td>\n      <td>NaN</td>\n      <td>ansonca01</td>\n      <td>25</td>\n      <td>25.0</td>\n      <td>25</td>\n      <td>25.0</td>\n      <td>0</td>\n      <td>5</td>\n      <td>...</td>\n      <td>2</td>\n      <td>20</td>\n      <td>0</td>\n      <td>1</td>\n      <td>0</td>\n      <td>0</td>\n      <td>1</td>\n      <td>0.0</td>\n      <td>0.0</td>\n      <td>0.0</td>\n    </tr>\n  </tbody>\n</table>\n<p>5 rows × 21 columns</p>\n</div>"
     },
     "metadata": {}
    },
    {
     "output_type": "display_data",
     "data": {
      "text/plain": "  park.key                      park.name  \\\n0    ALB01                 Riverside Park   \n1    ALT01                  Columbia Park   \n2    ANA01       Angel Stadium of Anaheim   \n3    ARL01              Arlington Stadium   \n4    ARL02  Rangers Ballpark in Arlington   \n\n                                 park.alias       city state country  \n0                                       NaN     Albany    NY      US  \n1                                       NaN    Altoona    PA      US  \n2             Edison Field; Anaheim Stadium    Anaheim    CA      US  \n3                                       NaN  Arlington    TX      US  \n4  The Ballpark in Arlington; Ameriquest Fl  Arlington    TX      US  ",
      "text/html": "<div>\n<style scoped>\n    .dataframe tbody tr th:only-of-type {\n        vertical-align: middle;\n    }\n\n    .dataframe tbody tr th {\n        vertical-align: top;\n    }\n\n    .dataframe thead th {\n        text-align: right;\n    }\n</style>\n<table border=\"1\" class=\"dataframe\">\n  <thead>\n    <tr style=\"text-align: right;\">\n      <th></th>\n      <th>park.key</th>\n      <th>park.name</th>\n      <th>park.alias</th>\n      <th>city</th>\n      <th>state</th>\n      <th>country</th>\n    </tr>\n  </thead>\n  <tbody>\n    <tr>\n      <th>0</th>\n      <td>ALB01</td>\n      <td>Riverside Park</td>\n      <td>NaN</td>\n      <td>Albany</td>\n      <td>NY</td>\n      <td>US</td>\n    </tr>\n    <tr>\n      <th>1</th>\n      <td>ALT01</td>\n      <td>Columbia Park</td>\n      <td>NaN</td>\n      <td>Altoona</td>\n      <td>PA</td>\n      <td>US</td>\n    </tr>\n    <tr>\n      <th>2</th>\n      <td>ANA01</td>\n      <td>Angel Stadium of Anaheim</td>\n      <td>Edison Field; Anaheim Stadium</td>\n      <td>Anaheim</td>\n      <td>CA</td>\n      <td>US</td>\n    </tr>\n    <tr>\n      <th>3</th>\n      <td>ARL01</td>\n      <td>Arlington Stadium</td>\n      <td>NaN</td>\n      <td>Arlington</td>\n      <td>TX</td>\n      <td>US</td>\n    </tr>\n    <tr>\n      <th>4</th>\n      <td>ARL02</td>\n      <td>Rangers Ballpark in Arlington</td>\n      <td>The Ballpark in Arlington; Ameriquest Fl</td>\n      <td>Arlington</td>\n      <td>TX</td>\n      <td>US</td>\n    </tr>\n  </tbody>\n</table>\n</div>"
     },
     "metadata": {}
    },
    {
     "output_type": "display_data",
     "data": {
      "text/plain": "    playerID  birthYear  birthMonth nameFirst nameLast       nameGiven  \\\n0  aardsda01     1981.0        12.0     David  Aardsma     David Allan   \n1  aaronha01     1934.0         2.0      Hank    Aaron     Henry Louis   \n2  aaronto01     1939.0         8.0    Tommie    Aaron      Tommie Lee   \n3   aasedo01     1954.0         9.0       Don     Aase  Donald William   \n4   abadan01     1972.0         8.0      Andy     Abad   Fausto Andres   \n\n   weight  height bats throws       debut   finalGame   retroID    bbrefID  \n0   215.0    75.0    R      R  2004-04-06  2015-08-23  aardd001  aardsda01  \n1   180.0    72.0    R      R  1954-04-13  1976-10-03  aaroh101  aaronha01  \n2   190.0    75.0    R      R  1962-04-10  1971-09-26  aarot101  aaronto01  \n3   190.0    75.0    R      R  1977-07-26  1990-10-03  aased001   aasedo01  \n4   184.0    73.0    L      L  2001-09-10  2006-04-13  abada001   abadan01  ",
      "text/html": "<div>\n<style scoped>\n    .dataframe tbody tr th:only-of-type {\n        vertical-align: middle;\n    }\n\n    .dataframe tbody tr th {\n        vertical-align: top;\n    }\n\n    .dataframe thead th {\n        text-align: right;\n    }\n</style>\n<table border=\"1\" class=\"dataframe\">\n  <thead>\n    <tr style=\"text-align: right;\">\n      <th></th>\n      <th>playerID</th>\n      <th>birthYear</th>\n      <th>birthMonth</th>\n      <th>nameFirst</th>\n      <th>nameLast</th>\n      <th>nameGiven</th>\n      <th>weight</th>\n      <th>height</th>\n      <th>bats</th>\n      <th>throws</th>\n      <th>debut</th>\n      <th>finalGame</th>\n      <th>retroID</th>\n      <th>bbrefID</th>\n    </tr>\n  </thead>\n  <tbody>\n    <tr>\n      <th>0</th>\n      <td>aardsda01</td>\n      <td>1981.0</td>\n      <td>12.0</td>\n      <td>David</td>\n      <td>Aardsma</td>\n      <td>David Allan</td>\n      <td>215.0</td>\n      <td>75.0</td>\n      <td>R</td>\n      <td>R</td>\n      <td>2004-04-06</td>\n      <td>2015-08-23</td>\n      <td>aardd001</td>\n      <td>aardsda01</td>\n    </tr>\n    <tr>\n      <th>1</th>\n      <td>aaronha01</td>\n      <td>1934.0</td>\n      <td>2.0</td>\n      <td>Hank</td>\n      <td>Aaron</td>\n      <td>Henry Louis</td>\n      <td>180.0</td>\n      <td>72.0</td>\n      <td>R</td>\n      <td>R</td>\n      <td>1954-04-13</td>\n      <td>1976-10-03</td>\n      <td>aaroh101</td>\n      <td>aaronha01</td>\n    </tr>\n    <tr>\n      <th>2</th>\n      <td>aaronto01</td>\n      <td>1939.0</td>\n      <td>8.0</td>\n      <td>Tommie</td>\n      <td>Aaron</td>\n      <td>Tommie Lee</td>\n      <td>190.0</td>\n      <td>75.0</td>\n      <td>R</td>\n      <td>R</td>\n      <td>1962-04-10</td>\n      <td>1971-09-26</td>\n      <td>aarot101</td>\n      <td>aaronto01</td>\n    </tr>\n    <tr>\n      <th>3</th>\n      <td>aasedo01</td>\n      <td>1954.0</td>\n      <td>9.0</td>\n      <td>Don</td>\n      <td>Aase</td>\n      <td>Donald William</td>\n      <td>190.0</td>\n      <td>75.0</td>\n      <td>R</td>\n      <td>R</td>\n      <td>1977-07-26</td>\n      <td>1990-10-03</td>\n      <td>aased001</td>\n      <td>aasedo01</td>\n    </tr>\n    <tr>\n      <th>4</th>\n      <td>abadan01</td>\n      <td>1972.0</td>\n      <td>8.0</td>\n      <td>Andy</td>\n      <td>Abad</td>\n      <td>Fausto Andres</td>\n      <td>184.0</td>\n      <td>73.0</td>\n      <td>L</td>\n      <td>L</td>\n      <td>2001-09-10</td>\n      <td>2006-04-13</td>\n      <td>abada001</td>\n      <td>abadan01</td>\n    </tr>\n  </tbody>\n</table>\n</div>"
     },
     "metadata": {}
    },
    {
     "output_type": "display_data",
     "data": {
      "text/plain": "    playerID  yearID  stint teamID lgID POS   G    GS\n0  abercda01    1871      1    TRO  NaN  SS   1   1.0\n1   addybo01    1871      1    RC1  NaN  2B  22  22.0\n2   addybo01    1871      1    RC1  NaN  SS   3   3.0\n3  allisar01    1871      1    CL1  NaN  2B   2   0.0\n4  allisar01    1871      1    CL1  NaN  OF  29  29.0",
      "text/html": "<div>\n<style scoped>\n    .dataframe tbody tr th:only-of-type {\n        vertical-align: middle;\n    }\n\n    .dataframe tbody tr th {\n        vertical-align: top;\n    }\n\n    .dataframe thead th {\n        text-align: right;\n    }\n</style>\n<table border=\"1\" class=\"dataframe\">\n  <thead>\n    <tr style=\"text-align: right;\">\n      <th></th>\n      <th>playerID</th>\n      <th>yearID</th>\n      <th>stint</th>\n      <th>teamID</th>\n      <th>lgID</th>\n      <th>POS</th>\n      <th>G</th>\n      <th>GS</th>\n    </tr>\n  </thead>\n  <tbody>\n    <tr>\n      <th>0</th>\n      <td>abercda01</td>\n      <td>1871</td>\n      <td>1</td>\n      <td>TRO</td>\n      <td>NaN</td>\n      <td>SS</td>\n      <td>1</td>\n      <td>1.0</td>\n    </tr>\n    <tr>\n      <th>1</th>\n      <td>addybo01</td>\n      <td>1871</td>\n      <td>1</td>\n      <td>RC1</td>\n      <td>NaN</td>\n      <td>2B</td>\n      <td>22</td>\n      <td>22.0</td>\n    </tr>\n    <tr>\n      <th>2</th>\n      <td>addybo01</td>\n      <td>1871</td>\n      <td>1</td>\n      <td>RC1</td>\n      <td>NaN</td>\n      <td>SS</td>\n      <td>3</td>\n      <td>3.0</td>\n    </tr>\n    <tr>\n      <th>3</th>\n      <td>allisar01</td>\n      <td>1871</td>\n      <td>1</td>\n      <td>CL1</td>\n      <td>NaN</td>\n      <td>2B</td>\n      <td>2</td>\n      <td>0.0</td>\n    </tr>\n    <tr>\n      <th>4</th>\n      <td>allisar01</td>\n      <td>1871</td>\n      <td>1</td>\n      <td>CL1</td>\n      <td>NaN</td>\n      <td>OF</td>\n      <td>29</td>\n      <td>29.0</td>\n    </tr>\n  </tbody>\n</table>\n</div>"
     },
     "metadata": {}
    },
    {
     "output_type": "display_data",
     "data": {
      "text/plain": "   yearID lgID teamID franchID divID  Rank   G  Ghome   W   L  \\\n0    1871  NaN    BS1      BNA   NaN     3  31    NaN  20  10   \n1    1871  NaN    CH1      CNA   NaN     2  28    NaN  19   9   \n2    1871  NaN    CL1      CFC   NaN     8  29    NaN  10  19   \n3    1871  NaN    FW1      KEK   NaN     7  19    NaN   7  12   \n4    1871  NaN    NY2      NNA   NaN     5  33    NaN  16  17   \n\n                      name                          park  \n0     Boston Red Stockings           South End Grounds I  \n1  Chicago White Stockings       Union Base-Ball Grounds  \n2   Cleveland Forest Citys  National Association Grounds  \n3     Fort Wayne Kekiongas                Hamilton Field  \n4         New York Mutuals      Union Grounds (Brooklyn)  ",
      "text/html": "<div>\n<style scoped>\n    .dataframe tbody tr th:only-of-type {\n        vertical-align: middle;\n    }\n\n    .dataframe tbody tr th {\n        vertical-align: top;\n    }\n\n    .dataframe thead th {\n        text-align: right;\n    }\n</style>\n<table border=\"1\" class=\"dataframe\">\n  <thead>\n    <tr style=\"text-align: right;\">\n      <th></th>\n      <th>yearID</th>\n      <th>lgID</th>\n      <th>teamID</th>\n      <th>franchID</th>\n      <th>divID</th>\n      <th>Rank</th>\n      <th>G</th>\n      <th>Ghome</th>\n      <th>W</th>\n      <th>L</th>\n      <th>name</th>\n      <th>park</th>\n    </tr>\n  </thead>\n  <tbody>\n    <tr>\n      <th>0</th>\n      <td>1871</td>\n      <td>NaN</td>\n      <td>BS1</td>\n      <td>BNA</td>\n      <td>NaN</td>\n      <td>3</td>\n      <td>31</td>\n      <td>NaN</td>\n      <td>20</td>\n      <td>10</td>\n      <td>Boston Red Stockings</td>\n      <td>South End Grounds I</td>\n    </tr>\n    <tr>\n      <th>1</th>\n      <td>1871</td>\n      <td>NaN</td>\n      <td>CH1</td>\n      <td>CNA</td>\n      <td>NaN</td>\n      <td>2</td>\n      <td>28</td>\n      <td>NaN</td>\n      <td>19</td>\n      <td>9</td>\n      <td>Chicago White Stockings</td>\n      <td>Union Base-Ball Grounds</td>\n    </tr>\n    <tr>\n      <th>2</th>\n      <td>1871</td>\n      <td>NaN</td>\n      <td>CL1</td>\n      <td>CFC</td>\n      <td>NaN</td>\n      <td>8</td>\n      <td>29</td>\n      <td>NaN</td>\n      <td>10</td>\n      <td>19</td>\n      <td>Cleveland Forest Citys</td>\n      <td>National Association Grounds</td>\n    </tr>\n    <tr>\n      <th>3</th>\n      <td>1871</td>\n      <td>NaN</td>\n      <td>FW1</td>\n      <td>KEK</td>\n      <td>NaN</td>\n      <td>7</td>\n      <td>19</td>\n      <td>NaN</td>\n      <td>7</td>\n      <td>12</td>\n      <td>Fort Wayne Kekiongas</td>\n      <td>Hamilton Field</td>\n    </tr>\n    <tr>\n      <th>4</th>\n      <td>1871</td>\n      <td>NaN</td>\n      <td>NY2</td>\n      <td>NNA</td>\n      <td>NaN</td>\n      <td>5</td>\n      <td>33</td>\n      <td>NaN</td>\n      <td>16</td>\n      <td>17</td>\n      <td>New York Mutuals</td>\n      <td>Union Grounds (Brooklyn)</td>\n    </tr>\n  </tbody>\n</table>\n</div>"
     },
     "metadata": {}
    },
    {
     "output_type": "display_data",
     "data": {
      "text/plain": "  franchID                     franchName active\n0      ALT          Altoona Mountain City      N\n1      ANA  Los Angeles Angels of Anaheim      Y\n2      ARI           Arizona Diamondbacks      Y\n3      ATH         Philadelphia Athletics      N\n4      ATL                 Atlanta Braves      Y",
      "text/html": "<div>\n<style scoped>\n    .dataframe tbody tr th:only-of-type {\n        vertical-align: middle;\n    }\n\n    .dataframe tbody tr th {\n        vertical-align: top;\n    }\n\n    .dataframe thead th {\n        text-align: right;\n    }\n</style>\n<table border=\"1\" class=\"dataframe\">\n  <thead>\n    <tr style=\"text-align: right;\">\n      <th></th>\n      <th>franchID</th>\n      <th>franchName</th>\n      <th>active</th>\n    </tr>\n  </thead>\n  <tbody>\n    <tr>\n      <th>0</th>\n      <td>ALT</td>\n      <td>Altoona Mountain City</td>\n      <td>N</td>\n    </tr>\n    <tr>\n      <th>1</th>\n      <td>ANA</td>\n      <td>Los Angeles Angels of Anaheim</td>\n      <td>Y</td>\n    </tr>\n    <tr>\n      <th>2</th>\n      <td>ARI</td>\n      <td>Arizona Diamondbacks</td>\n      <td>Y</td>\n    </tr>\n    <tr>\n      <th>3</th>\n      <td>ATH</td>\n      <td>Philadelphia Athletics</td>\n      <td>N</td>\n    </tr>\n    <tr>\n      <th>4</th>\n      <td>ATL</td>\n      <td>Atlanta Braves</td>\n      <td>Y</td>\n    </tr>\n  </tbody>\n</table>\n</div>"
     },
     "metadata": {}
    }
   ],
   "source": [
    "batting_data = \"./data/csv_data/core/Batting.csv\"\n",
    "people_data = \"./data/csv_data/core/People.csv\"\n",
    "fielding_data = \"./data/csv_data/core/Fielding.csv\"\n",
    "franchise_data = \"./data/csv_data/core/TeamsFranchises.csv\"\n",
    "teams_data = \"./data/csv_data/core/Teams.csv\"\n",
    "appearances_data = \"./data/csv_data/core/Appearances.csv\"\n",
    "park_data = \"./data/csv_data/core/Parks.csv\"\n",
    "\n",
    "# include all batting columns\n",
    "# include all appearances columns\n",
    "# include all parks columns\n",
    "\n",
    "people_cols = ['playerID', 'birthYear', 'birthMonth', 'nameFirst', 'nameLast', 'nameGiven', 'weight', 'height', 'bats', 'throws', 'debut', 'finalGame', 'retroID', 'bbrefID']\n",
    "\n",
    "fielding_cols = ['playerID', 'yearID', 'stint', 'teamID', 'lgID', 'POS', 'G', 'GS']\n",
    "\n",
    "team_cols = ['yearID', 'lgID', 'teamID', 'franchID', 'divID', 'Rank', 'G', 'Ghome', 'W', 'L', 'park', 'name']\n",
    "\n",
    "franch_cols = ['franchID', 'franchName', 'active']\n",
    "\n",
    "\n",
    "df_batting = pd.read_csv(batting_data, header=0)\n",
    "df_app = pd.read_csv(appearances_data, header=0)\n",
    "df_parks = pd.read_csv(park_data, header=0)\n",
    "df_people = pd.read_csv(people_data, header=0, usecols=people_cols)\n",
    "df_fielding = pd.read_csv(fielding_data, header=0, usecols=fielding_cols)\n",
    "df_teams = pd.read_csv(teams_data, header=0, usecols=team_cols)\n",
    "df_franch = pd.read_csv(franchise_data, header=0, usecols=franch_cols)\n",
    "\n",
    "display(df_batting.head(5))\n",
    "display(df_app.head(5))\n",
    "display(df_parks.head(5))\n",
    "display(df_people.head(5))\n",
    "display(df_fielding.head(5))\n",
    "display(df_teams.head(5))\n",
    "display(df_franch.head(5))"
   ]
  },
  {
   "source": [
    "In order to filter/merge the ballparks based on teams parks needs to be extended in order to account for alias name references."
   ],
   "cell_type": "markdown",
   "metadata": {}
  },
  {
   "cell_type": "code",
   "execution_count": 3,
   "metadata": {},
   "outputs": [
    {
     "output_type": "stream",
     "name": "stdout",
     "text": [
      "Number of parks not including alias names: 255\nNumber of parks including alias names 326\n"
     ]
    }
   ],
   "source": [
    "df_park_split = df_parks['park.alias'].str.split(\";\", n=5, expand=True)\n",
    "#display(df_park_split)\n",
    "\n",
    "df_parks2 = df_parks.merge(df_park_split, how='left', left_index=True, right_index=True)\n",
    "#display(df_parks2.head(5))\n",
    "\n",
    "df_park_extend_0 = df_parks2[['park.key', 0, 'city', 'state', 'country']]\n",
    "df_park_extend_1 = df_parks2[['park.key', 1, 'city', 'state', 'country']]\n",
    "df_park_extend_2 = df_parks2[['park.key', 2, 'city', 'state', 'country']]\n",
    "df_park_extend_3 = df_parks2[['park.key', 3, 'city', 'state', 'country']]\n",
    "\n",
    "df_park_extend_0.rename(columns={0: 'park.name'}, inplace=True)\n",
    "df_park_extend_1.rename(columns={1: 'park.name'}, inplace=True)\n",
    "df_park_extend_2.rename(columns={2: 'park.name'}, inplace=True)\n",
    "df_park_extend_3.rename(columns={3: 'park.name'}, inplace=True)\n",
    "\n",
    "df_park_extend_0.dropna(subset=['park.name'], inplace=True)\n",
    "df_park_extend_1.dropna(subset=['park.name'], inplace=True)\n",
    "df_park_extend_2.dropna(subset=['park.name'], inplace=True)\n",
    "df_park_extend_3.dropna(subset=['park.name'], inplace=True)\n",
    "\n",
    "print(f\"Number of parks not including alias names: {len(df_parks.index)}\")\n",
    "\n",
    "df_parks = df_parks.append(df_park_extend_0, ignore_index=True)\n",
    "df_parks = df_parks.append(df_park_extend_1, ignore_index=True)\n",
    "df_parks = df_parks.append(df_park_extend_2, ignore_index=True)\n",
    "df_parks = df_parks.append(df_park_extend_3, ignore_index=True)\n",
    "\n",
    "df_parks.drop_duplicates(inplace=True, ignore_index=True)\n",
    "\n",
    "print(f\"Number of parks including alias names {len(df_parks.index)}\")\n",
    "#display(df_parks.head(5))\n",
    "#display(df_parks.tail(5))"
   ]
  },
  {
   "source": [
    "Initial Constrains:\n",
    "- Minimum number of at bats = 150\n",
    "- Exclude Pitchers\n",
    "    - players that are pitchers the majority of their games played\n",
    "- Minimum debut year = 1970\n",
    "    - we want the stats of a player over his full career and stats prior to this year may be missing and/or inaccurate\n",
    "    - drop players with missing debut year\n"
   ],
   "cell_type": "markdown",
   "metadata": {}
  },
  {
   "cell_type": "code",
   "execution_count": 4,
   "metadata": {},
   "outputs": [
    {
     "output_type": "stream",
     "name": "stdout",
     "text": [
      "19892\n9193\n9193\n"
     ]
    }
   ],
   "source": [
    "df_people = df_people.dropna(axis=0, subset=['debut'])\n",
    "\n",
    "def get_year(cell):\n",
    "\n",
    "    if isinstance(cell, str):\n",
    "        debut_dt = dt.datetime.strptime(cell, \"%Y-%m-%d\")\n",
    "        return debut_dt.year \n",
    "    \n",
    "    return np.nan\n",
    "\n",
    "def get_month(cell):\n",
    "\n",
    "    if isinstance(cell, str):\n",
    "        final_dt = dt.datetime.strptime(cell, \"%Y-%m-%d\")\n",
    "        return final_dt.month\n",
    "    \n",
    "    return np.nan\n",
    "\n",
    "df_people['debut_yr'] = df_people['debut'].apply(get_year)\n",
    "\n",
    "print(len(df_people.index))\n",
    "df_people = df_people[df_people['debut_yr'] > 1970]\n",
    "print(len(df_people.index))\n",
    "\n",
    "df_people['final_month'] = df_people['finalGame'].apply(get_month)\n",
    "df_people['final_yr'] = df_people['finalGame'].apply(get_year)\n",
    "df_people['final_yr_adj'] = np.where(df_people['final_month'] < 5, df_people['final_yr'] - 1, df_people['final_yr'])\n",
    "df_people['seasons_exp'] = df_people['final_yr_adj'] - df_people['debut_yr']\n",
    "\n",
    "print(len(df_people.index)) # shouldn't change"
   ]
  },
  {
   "source": [
    "Get actual number of seasons played and check if a player missed any seasons.\n",
    "This captures any missing seasons, regardless of reason (injuries, time off, or our exclusion critieria)"
   ],
   "cell_type": "markdown",
   "metadata": {}
  },
  {
   "cell_type": "code",
   "execution_count": 5,
   "metadata": {},
   "outputs": [
    {
     "output_type": "display_data",
     "data": {
      "text/plain": "    playerID  seasons_act\n0  aardsda01            9\n1  aaronha01           23\n2  aaronto01            7\n3   aasedo01           13\n4   abadan01            3",
      "text/html": "<div>\n<style scoped>\n    .dataframe tbody tr th:only-of-type {\n        vertical-align: middle;\n    }\n\n    .dataframe tbody tr th {\n        vertical-align: top;\n    }\n\n    .dataframe thead th {\n        text-align: right;\n    }\n</style>\n<table border=\"1\" class=\"dataframe\">\n  <thead>\n    <tr style=\"text-align: right;\">\n      <th></th>\n      <th>playerID</th>\n      <th>seasons_act</th>\n    </tr>\n  </thead>\n  <tbody>\n    <tr>\n      <th>0</th>\n      <td>aardsda01</td>\n      <td>9</td>\n    </tr>\n    <tr>\n      <th>1</th>\n      <td>aaronha01</td>\n      <td>23</td>\n    </tr>\n    <tr>\n      <th>2</th>\n      <td>aaronto01</td>\n      <td>7</td>\n    </tr>\n    <tr>\n      <th>3</th>\n      <td>aasedo01</td>\n      <td>13</td>\n    </tr>\n    <tr>\n      <th>4</th>\n      <td>abadan01</td>\n      <td>3</td>\n    </tr>\n  </tbody>\n</table>\n</div>"
     },
     "metadata": {}
    },
    {
     "output_type": "stream",
     "name": "stdout",
     "text": [
      "9192\n"
     ]
    },
    {
     "output_type": "display_data",
     "data": {
      "text/plain": "    playerID  birthYear  birthMonth nameFirst nameLast         nameGiven  \\\n0  aardsda01     1981.0        12.0     David  Aardsma       David Allan   \n1   aasedo01     1954.0         9.0       Don     Aase    Donald William   \n2   abadan01     1972.0         8.0      Andy     Abad     Fausto Andres   \n3   abadfe01     1985.0        12.0  Fernando     Abad  Fernando Antonio   \n4  abbotgl01     1951.0         2.0     Glenn   Abbott     William Glenn   \n\n   weight  height bats throws  ...   finalGame   retroID    bbrefID debut_yr  \\\n0   215.0    75.0    R      R  ...  2015-08-23  aardd001  aardsda01     2004   \n1   190.0    75.0    R      R  ...  1990-10-03  aased001   aasedo01     1977   \n2   184.0    73.0    L      L  ...  2006-04-13  abada001   abadan01     2001   \n3   235.0    74.0    L      L  ...  2019-09-28  abadf001   abadfe01     2010   \n4   200.0    78.0    R      R  ...  1984-08-08  abbog001  abbotgl01     1973   \n\n   final_month  final_yr  final_yr_adj  seasons_exp  seasons_act  missed_any  \n0            8      2015          2015           11          9.0           1  \n1           10      1990          1990           13         13.0           0  \n2            4      2006          2005            4          3.0           1  \n3            9      2019          2019            9         10.0           1  \n4            8      1984          1984           11         12.0           1  \n\n[5 rows x 21 columns]",
      "text/html": "<div>\n<style scoped>\n    .dataframe tbody tr th:only-of-type {\n        vertical-align: middle;\n    }\n\n    .dataframe tbody tr th {\n        vertical-align: top;\n    }\n\n    .dataframe thead th {\n        text-align: right;\n    }\n</style>\n<table border=\"1\" class=\"dataframe\">\n  <thead>\n    <tr style=\"text-align: right;\">\n      <th></th>\n      <th>playerID</th>\n      <th>birthYear</th>\n      <th>birthMonth</th>\n      <th>nameFirst</th>\n      <th>nameLast</th>\n      <th>nameGiven</th>\n      <th>weight</th>\n      <th>height</th>\n      <th>bats</th>\n      <th>throws</th>\n      <th>...</th>\n      <th>finalGame</th>\n      <th>retroID</th>\n      <th>bbrefID</th>\n      <th>debut_yr</th>\n      <th>final_month</th>\n      <th>final_yr</th>\n      <th>final_yr_adj</th>\n      <th>seasons_exp</th>\n      <th>seasons_act</th>\n      <th>missed_any</th>\n    </tr>\n  </thead>\n  <tbody>\n    <tr>\n      <th>0</th>\n      <td>aardsda01</td>\n      <td>1981.0</td>\n      <td>12.0</td>\n      <td>David</td>\n      <td>Aardsma</td>\n      <td>David Allan</td>\n      <td>215.0</td>\n      <td>75.0</td>\n      <td>R</td>\n      <td>R</td>\n      <td>...</td>\n      <td>2015-08-23</td>\n      <td>aardd001</td>\n      <td>aardsda01</td>\n      <td>2004</td>\n      <td>8</td>\n      <td>2015</td>\n      <td>2015</td>\n      <td>11</td>\n      <td>9.0</td>\n      <td>1</td>\n    </tr>\n    <tr>\n      <th>1</th>\n      <td>aasedo01</td>\n      <td>1954.0</td>\n      <td>9.0</td>\n      <td>Don</td>\n      <td>Aase</td>\n      <td>Donald William</td>\n      <td>190.0</td>\n      <td>75.0</td>\n      <td>R</td>\n      <td>R</td>\n      <td>...</td>\n      <td>1990-10-03</td>\n      <td>aased001</td>\n      <td>aasedo01</td>\n      <td>1977</td>\n      <td>10</td>\n      <td>1990</td>\n      <td>1990</td>\n      <td>13</td>\n      <td>13.0</td>\n      <td>0</td>\n    </tr>\n    <tr>\n      <th>2</th>\n      <td>abadan01</td>\n      <td>1972.0</td>\n      <td>8.0</td>\n      <td>Andy</td>\n      <td>Abad</td>\n      <td>Fausto Andres</td>\n      <td>184.0</td>\n      <td>73.0</td>\n      <td>L</td>\n      <td>L</td>\n      <td>...</td>\n      <td>2006-04-13</td>\n      <td>abada001</td>\n      <td>abadan01</td>\n      <td>2001</td>\n      <td>4</td>\n      <td>2006</td>\n      <td>2005</td>\n      <td>4</td>\n      <td>3.0</td>\n      <td>1</td>\n    </tr>\n    <tr>\n      <th>3</th>\n      <td>abadfe01</td>\n      <td>1985.0</td>\n      <td>12.0</td>\n      <td>Fernando</td>\n      <td>Abad</td>\n      <td>Fernando Antonio</td>\n      <td>235.0</td>\n      <td>74.0</td>\n      <td>L</td>\n      <td>L</td>\n      <td>...</td>\n      <td>2019-09-28</td>\n      <td>abadf001</td>\n      <td>abadfe01</td>\n      <td>2010</td>\n      <td>9</td>\n      <td>2019</td>\n      <td>2019</td>\n      <td>9</td>\n      <td>10.0</td>\n      <td>1</td>\n    </tr>\n    <tr>\n      <th>4</th>\n      <td>abbotgl01</td>\n      <td>1951.0</td>\n      <td>2.0</td>\n      <td>Glenn</td>\n      <td>Abbott</td>\n      <td>William Glenn</td>\n      <td>200.0</td>\n      <td>78.0</td>\n      <td>R</td>\n      <td>R</td>\n      <td>...</td>\n      <td>1984-08-08</td>\n      <td>abbog001</td>\n      <td>abbotgl01</td>\n      <td>1973</td>\n      <td>8</td>\n      <td>1984</td>\n      <td>1984</td>\n      <td>11</td>\n      <td>12.0</td>\n      <td>1</td>\n    </tr>\n  </tbody>\n</table>\n<p>5 rows × 21 columns</p>\n</div>"
     },
     "metadata": {}
    }
   ],
   "source": [
    "batting_seasons = df_batting[['playerID', 'yearID']]\n",
    "season_count = batting_seasons.groupby(['playerID'])['yearID'].count()\n",
    "season_count = season_count.to_frame().reset_index().rename(columns={'yearID': 'seasons_act'})\n",
    "display(season_count.head())\n",
    "\n",
    "df_people = df_people.merge(season_count, how='left', on='playerID')\n",
    "df_people.dropna(subset=['seasons_act'], inplace=True) # don't need to do this if I do inner merge\n",
    "df_people['missed_any'] = np.where(df_people['seasons_exp'] != df_people['seasons_act'], 1, 0)\n",
    "\n",
    "print(len(df_people.index))\n",
    "display(df_people.head())"
   ]
  },
  {
   "source": [
    "Identify player's primary position and filter out pitchers."
   ],
   "cell_type": "markdown",
   "metadata": {}
  },
  {
   "cell_type": "code",
   "execution_count": 6,
   "metadata": {},
   "outputs": [
    {
     "output_type": "stream",
     "name": "stdout",
     "text": [
      "9192\n4096\n"
     ]
    }
   ],
   "source": [
    "# identify player by primary position\n",
    "df_pos = df_fielding.groupby(['playerID', 'POS'])['G'].count()\n",
    "df_pos = df_pos.unstack()\n",
    "\n",
    "pos_cols = ['1B', '2B', '3B', 'C', 'OF', 'P', 'SS']\n",
    "\n",
    "def get_main_pos(row):\n",
    "    # return col name for max pos\n",
    "    max_col_val = 0\n",
    "    max_col = ''\n",
    "    for col in pos_cols:\n",
    "        if row[col] > max_col_val:\n",
    "            max_col = col\n",
    "\n",
    "    return max_col\n",
    "\n",
    "df_pos['p_pos'] = df_pos.apply(get_main_pos, axis=1) \n",
    "df_pos.reset_index(inplace=True)\n",
    "df_pos = df_pos[['playerID', 'p_pos']]\n",
    "df_pos = df_pos.rename_axis(None, axis=1)\n",
    "#display(df_pos.head(5))\n",
    "print(len(df_people.index))\n",
    "df_people = df_people.merge(df_pos, how='inner', on='playerID')\n",
    "df_people = df_people[df_people['p_pos'] != 'P']\n",
    "print(len(df_people.index))"
   ]
  },
  {
   "cell_type": "code",
   "execution_count": 7,
   "metadata": {},
   "outputs": [
    {
     "output_type": "stream",
     "name": "stdout",
     "text": [
      "Batting start count: 108789\n",
      "Appearance start cound: 108717\n",
      "Parks start count: 326\n",
      "Fielding start count: 144768\n",
      "Teams start count: 2955\n",
      "Franchise start count: 120\n",
      "\n",
      " ---------- \n",
      "\n",
      "Batting end count: 26665\n",
      "Appearance end count: 26652\n",
      "Parks end count: 61\n",
      "Fielding end count: 42100\n",
      "Teams end count: 1414\n",
      "Franchise end count: 30\n"
     ]
    }
   ],
   "source": [
    "debut_filter = df_people[['playerID']]\n",
    "\n",
    "print(f\"Batting start count: {len(df_batting.index)}\")\n",
    "print(f\"Appearance start cound: {len(df_app.index)}\")\n",
    "print(f\"Parks start count: {len(df_parks.index)}\")\n",
    "print(f\"Fielding start count: {len(df_fielding.index)}\")\n",
    "print(f\"Teams start count: {len(df_teams.index)}\")\n",
    "print(f\"Franchise start count: {len(df_franch.index)}\")\n",
    "\n",
    "# Filter the remaining dataframes to include restricted player sample\n",
    "df_batting = df_batting.merge(debut_filter, how='inner', on='playerID') \n",
    "df_app = df_app.merge(debut_filter, how='inner', on='playerID') \n",
    "df_fielding = df_fielding.merge(debut_filter, how='inner', on='playerID')\n",
    "\n",
    "# Teams can be filtered by yearID\n",
    "df_teams = df_teams[df_teams['yearID'] >= 1970]\n",
    "\n",
    "# Parks can be filtered by remaining parks from filtered teams\n",
    "park_filter = df_teams[['park']]\n",
    "df_parks = df_parks.merge(park_filter, how='inner', left_on='park.name', right_on='park')\n",
    "\n",
    "# Franchises can be filtered by remaining franchID from filtered teams\n",
    "franch_filter = df_teams[['franchID']]\n",
    "df_franch = df_franch.merge(franch_filter, how='inner', on='franchID')\n",
    "\n",
    "df_batting.drop_duplicates(inplace=True, ignore_index=True)\n",
    "df_app.drop_duplicates(inplace=True, ignore_index=True)\n",
    "df_fielding.drop_duplicates(inplace=True, ignore_index=True)\n",
    "df_teams.drop_duplicates(inplace=True, ignore_index=True)\n",
    "df_parks.drop_duplicates(inplace=True, ignore_index=True)\n",
    "df_franch.drop_duplicates(inplace=True, ignore_index=True)\n",
    "\n",
    "\n",
    "print(\"\\n ---------- \\n\")\n",
    "print(f\"Batting end count: {len(df_batting.index)}\")\n",
    "print(f\"Appearance end count: {len(df_app.index)}\")\n",
    "print(f\"Parks end count: {len(df_parks.index)}\")\n",
    "print(f\"Fielding end count: {len(df_fielding.index)}\")\n",
    "print(f\"Teams end count: {len(df_teams.index)}\")\n",
    "print(f\"Franchise end count: {len(df_franch.index)}\")"
   ]
  },
  {
   "cell_type": "code",
   "execution_count": 8,
   "metadata": {},
   "outputs": [
    {
     "output_type": "stream",
     "name": "stdout",
     "text": [
      "Final count of batting instances: 14224\n"
     ]
    }
   ],
   "source": [
    "# Only include instances where a player had at least the minimum number of at bats\n",
    "ab_min = 150\n",
    "df_batting = df_batting[df_batting.AB >= ab_min]\n",
    "print(f\"Final count of batting instances: {len(df_batting.index)}\")"
   ]
  },
  {
   "source": [
    "Calculate TB, OBP, SLG, and OPS"
   ],
   "cell_type": "markdown",
   "metadata": {}
  },
  {
   "cell_type": "code",
   "execution_count": 9,
   "metadata": {},
   "outputs": [],
   "source": [
    "df_batting['1B'] = df_batting['H'] - (df_batting['2B'] + df_batting['3B'] + df_batting['HR'])\n",
    "df_batting['TB'] = df_batting['1B'] + (df_batting['2B'] * 2) + (df_batting['3B'] * 3) + (df_batting['HR'] * 4)\n",
    "df_batting['obp'] = (df_batting.H + df_batting.BB + df_batting.HBP) / (df_batting.AB + df_batting.BB + df_batting.SF + df_batting.HBP)\n",
    "df_batting['slg'] = df_batting.TB / df_batting.AB\n",
    "df_batting['ops'] = df_batting['obp'] + df_batting['slg']"
   ]
  },
  {
   "source": [
    "Identify if a player bats and throws with the same hand (bt_same)"
   ],
   "cell_type": "markdown",
   "metadata": {}
  },
  {
   "cell_type": "code",
   "execution_count": 10,
   "metadata": {},
   "outputs": [],
   "source": [
    "df_people['bt_same'] = np.where(df_people['bats'] == df_people['throws'], 1, 0)"
   ]
  },
  {
   "source": [
    "Calculate Players Age and years of experience (yoe)"
   ],
   "cell_type": "markdown",
   "metadata": {}
  },
  {
   "cell_type": "code",
   "execution_count": 11,
   "metadata": {},
   "outputs": [
    {
     "output_type": "stream",
     "name": "stdout",
     "text": [
      "14224\n"
     ]
    },
    {
     "output_type": "display_data",
     "data": {
      "text/plain": "    playerID  yearID  stint teamID lgID    G   AB   R    H  2B  ...       ops  \\\n0  arnolch01    1974      1    SFN   NL   78  174  22   42   7  ...  0.635417   \n1  auerbri01    1971      1    ML4   AL   79  236  22   48  10  ...  0.529792   \n2  auerbri01    1972      1    ML4   AL  153  554  50  121  16  ...  0.545620   \n3  auerbri01    1975      1    LAN   NL   85  170  18   38   9  ...  0.574343   \n4  beniqju01    1974      1    BOS   AL  106  389  60  104  14  ...  0.669826   \n\n   final_yr_adj  debut_yr  missed_any  bt_same  p_pos  height  weight   age  \\\n0          1976      1971           1        1     SS    70.0   160.0  27.0   \n1          1981      1971           1        1     SS    72.0   165.0  21.0   \n2          1981      1971           1        1     SS    72.0   165.0  22.0   \n3          1981      1971           1        1     SS    72.0   165.0  25.0   \n4          1988      1971           1        1     SS    71.0   150.0  24.0   \n\n   yoe  \n0    3  \n1    0  \n2    1  \n3    4  \n4    3  \n\n[5 rows x 36 columns]",
      "text/html": "<div>\n<style scoped>\n    .dataframe tbody tr th:only-of-type {\n        vertical-align: middle;\n    }\n\n    .dataframe tbody tr th {\n        vertical-align: top;\n    }\n\n    .dataframe thead th {\n        text-align: right;\n    }\n</style>\n<table border=\"1\" class=\"dataframe\">\n  <thead>\n    <tr style=\"text-align: right;\">\n      <th></th>\n      <th>playerID</th>\n      <th>yearID</th>\n      <th>stint</th>\n      <th>teamID</th>\n      <th>lgID</th>\n      <th>G</th>\n      <th>AB</th>\n      <th>R</th>\n      <th>H</th>\n      <th>2B</th>\n      <th>...</th>\n      <th>ops</th>\n      <th>final_yr_adj</th>\n      <th>debut_yr</th>\n      <th>missed_any</th>\n      <th>bt_same</th>\n      <th>p_pos</th>\n      <th>height</th>\n      <th>weight</th>\n      <th>age</th>\n      <th>yoe</th>\n    </tr>\n  </thead>\n  <tbody>\n    <tr>\n      <th>0</th>\n      <td>arnolch01</td>\n      <td>1974</td>\n      <td>1</td>\n      <td>SFN</td>\n      <td>NL</td>\n      <td>78</td>\n      <td>174</td>\n      <td>22</td>\n      <td>42</td>\n      <td>7</td>\n      <td>...</td>\n      <td>0.635417</td>\n      <td>1976</td>\n      <td>1971</td>\n      <td>1</td>\n      <td>1</td>\n      <td>SS</td>\n      <td>70.0</td>\n      <td>160.0</td>\n      <td>27.0</td>\n      <td>3</td>\n    </tr>\n    <tr>\n      <th>1</th>\n      <td>auerbri01</td>\n      <td>1971</td>\n      <td>1</td>\n      <td>ML4</td>\n      <td>AL</td>\n      <td>79</td>\n      <td>236</td>\n      <td>22</td>\n      <td>48</td>\n      <td>10</td>\n      <td>...</td>\n      <td>0.529792</td>\n      <td>1981</td>\n      <td>1971</td>\n      <td>1</td>\n      <td>1</td>\n      <td>SS</td>\n      <td>72.0</td>\n      <td>165.0</td>\n      <td>21.0</td>\n      <td>0</td>\n    </tr>\n    <tr>\n      <th>2</th>\n      <td>auerbri01</td>\n      <td>1972</td>\n      <td>1</td>\n      <td>ML4</td>\n      <td>AL</td>\n      <td>153</td>\n      <td>554</td>\n      <td>50</td>\n      <td>121</td>\n      <td>16</td>\n      <td>...</td>\n      <td>0.545620</td>\n      <td>1981</td>\n      <td>1971</td>\n      <td>1</td>\n      <td>1</td>\n      <td>SS</td>\n      <td>72.0</td>\n      <td>165.0</td>\n      <td>22.0</td>\n      <td>1</td>\n    </tr>\n    <tr>\n      <th>3</th>\n      <td>auerbri01</td>\n      <td>1975</td>\n      <td>1</td>\n      <td>LAN</td>\n      <td>NL</td>\n      <td>85</td>\n      <td>170</td>\n      <td>18</td>\n      <td>38</td>\n      <td>9</td>\n      <td>...</td>\n      <td>0.574343</td>\n      <td>1981</td>\n      <td>1971</td>\n      <td>1</td>\n      <td>1</td>\n      <td>SS</td>\n      <td>72.0</td>\n      <td>165.0</td>\n      <td>25.0</td>\n      <td>4</td>\n    </tr>\n    <tr>\n      <th>4</th>\n      <td>beniqju01</td>\n      <td>1974</td>\n      <td>1</td>\n      <td>BOS</td>\n      <td>AL</td>\n      <td>106</td>\n      <td>389</td>\n      <td>60</td>\n      <td>104</td>\n      <td>14</td>\n      <td>...</td>\n      <td>0.669826</td>\n      <td>1988</td>\n      <td>1971</td>\n      <td>1</td>\n      <td>1</td>\n      <td>SS</td>\n      <td>71.0</td>\n      <td>150.0</td>\n      <td>24.0</td>\n      <td>3</td>\n    </tr>\n  </tbody>\n</table>\n<p>5 rows × 36 columns</p>\n</div>"
     },
     "metadata": {}
    }
   ],
   "source": [
    "df_birth_years = df_people[['playerID','birthYear', 'final_yr_adj', 'debut_yr', 'missed_any', 'bt_same', 'p_pos', 'height', 'weight']]\n",
    "\n",
    "df_main = df_batting.merge(df_birth_years, how='inner', on='playerID')\n",
    "df_main['age'] = df_main['yearID'] - df_main['birthYear']\n",
    "df_main['yoe'] = df_main['yearID'] - df_main['debut_yr']\n",
    "\n",
    "df_main.drop(columns=['birthYear'], inplace=True)\n",
    "print(len(df_main.index))\n",
    "display(df_main.head())"
   ]
  },
  {
   "source": [
    "Calculate adjusted years of experience (yoe_adj).\n",
    "yoe_adj is the numbers of years a player has been included in our data.\n",
    "i.e. only count seasons they played and had at least 150 at bats (AB)."
   ],
   "cell_type": "markdown",
   "metadata": {}
  },
  {
   "cell_type": "code",
   "execution_count": 12,
   "metadata": {},
   "outputs": [],
   "source": [
    "df_start_end = df_main[['playerID', 'yearID', 'debut_yr', 'final_yr_adj', 'yoe']]\n",
    "df_start_end.sort_values(by=['yearID'], inplace=True)\n",
    "\n",
    "\n",
    "player_careers = {}\n",
    "count = 0\n",
    "\n",
    "for ind, row in df_start_end.iterrows():\n",
    "\n",
    "    if row['playerID'] not in player_careers:\n",
    "        player_careers[row['playerID']] = {}\n",
    "\n",
    "    player_careers[row['playerID']]['exp_career'] = [x for x in range(row['debut_yr'], row['final_yr_adj'] + 1)]\n",
    "    \n",
    "    if 'act_career' not in player_careers[row['playerID']].keys():\n",
    "        player_careers[row['playerID']]['act_career'] = []\n",
    "\n",
    "    player_careers[row['playerID']]['act_career'].append(row['yearID'])\n",
    "\n",
    "missed_years = {}\n",
    "for player in player_careers:\n",
    "    exp_years = set(player_careers[player]['exp_career'])\n",
    "    act_years = set(player_careers[player]['act_career'])\n",
    "\n",
    "    if exp_years != act_years:\n",
    "        missed_years[player] = [int(x) for x in exp_years.difference(act_years)]\n",
    "\n",
    "\n",
    "\n",
    "df_sub_main = df_main[['playerID','yearID','yoe']]\n",
    "\n",
    "for index, row in df_main.iterrows():\n",
    "    player = row['playerID']\n",
    "    yearID = row['yearID']\n",
    "    yoe_adj = row['yoe']\n",
    "\n",
    "    if player in missed_years:\n",
    "        \n",
    "        for year in missed_years[player]:\n",
    "            if yearID > year:\n",
    "                yoe_adj -= 1\n",
    "    \n",
    "    df_sub_main['yoe'].iloc[index] = yoe_adj\n",
    "\n",
    "\n",
    "df_sub_main.rename(columns={'yoe': 'yoe_adj'}, inplace=True)\n",
    "df_main = df_main.merge(df_sub_main, how='inner', on=['playerID','yearID'])\n",
    "\n",
    "#print(missed_years['auerbri01'])\n",
    "#display(df_sub_main[df_sub_main['playerID'] == 'auerbri01'])\n",
    "#display(df_main[df_main['playerID'] == 'auerbri01'])"
   ]
  },
  {
   "source": [
    "classify breakout seasons and classify if a player ever has a breakout season.\n",
    "\n",
    "Defining breakout players by approximately the 90th percentile in ops increase, which corresponds to approximately >= .175 increase in ops from one year to the next."
   ],
   "cell_type": "markdown",
   "metadata": {}
  },
  {
   "cell_type": "code",
   "execution_count": 13,
   "metadata": {},
   "outputs": [
    {
     "output_type": "display_data",
     "data": {
      "text/plain": "    playerID  yearID  stint teamID lgID    G   AB   R    H  2B  ...  debut_yr  \\\n2  auerbri01    1972      1    ML4   AL  153  554  50  121  16  ...      1971   \n3  auerbri01    1975      1    LAN   NL   85  170  18   38   9  ...      1971   \n5  beniqju01    1975      1    BOS   AL   78  254  43   74  14  ...      1971   \n6  beniqju01    1976      1    TEX   AL  145  478  49  122  14  ...      1971   \n7  beniqju01    1977      1    TEX   AL  123  424  56  114  19  ...      1971   \n\n   missed_any  bt_same  p_pos  height  weight   age  yoe  yoe_adj  \\\n2           1        1     SS    72.0   165.0  22.0    1        1   \n3           1        1     SS    72.0   165.0  25.0    4        2   \n5           1        1     SS    71.0   150.0  25.0    4        1   \n6           1        1     SS    71.0   150.0  26.0    5        2   \n7           1        1     SS    71.0   150.0  27.0    6        3   \n\n   ops_per_delta  \n2       0.029875  \n3       0.052643  \n5       0.134220  \n6      -0.189141  \n7       0.215689  \n\n[5 rows x 38 columns]",
      "text/html": "<div>\n<style scoped>\n    .dataframe tbody tr th:only-of-type {\n        vertical-align: middle;\n    }\n\n    .dataframe tbody tr th {\n        vertical-align: top;\n    }\n\n    .dataframe thead th {\n        text-align: right;\n    }\n</style>\n<table border=\"1\" class=\"dataframe\">\n  <thead>\n    <tr style=\"text-align: right;\">\n      <th></th>\n      <th>playerID</th>\n      <th>yearID</th>\n      <th>stint</th>\n      <th>teamID</th>\n      <th>lgID</th>\n      <th>G</th>\n      <th>AB</th>\n      <th>R</th>\n      <th>H</th>\n      <th>2B</th>\n      <th>...</th>\n      <th>debut_yr</th>\n      <th>missed_any</th>\n      <th>bt_same</th>\n      <th>p_pos</th>\n      <th>height</th>\n      <th>weight</th>\n      <th>age</th>\n      <th>yoe</th>\n      <th>yoe_adj</th>\n      <th>ops_per_delta</th>\n    </tr>\n  </thead>\n  <tbody>\n    <tr>\n      <th>2</th>\n      <td>auerbri01</td>\n      <td>1972</td>\n      <td>1</td>\n      <td>ML4</td>\n      <td>AL</td>\n      <td>153</td>\n      <td>554</td>\n      <td>50</td>\n      <td>121</td>\n      <td>16</td>\n      <td>...</td>\n      <td>1971</td>\n      <td>1</td>\n      <td>1</td>\n      <td>SS</td>\n      <td>72.0</td>\n      <td>165.0</td>\n      <td>22.0</td>\n      <td>1</td>\n      <td>1</td>\n      <td>0.029875</td>\n    </tr>\n    <tr>\n      <th>3</th>\n      <td>auerbri01</td>\n      <td>1975</td>\n      <td>1</td>\n      <td>LAN</td>\n      <td>NL</td>\n      <td>85</td>\n      <td>170</td>\n      <td>18</td>\n      <td>38</td>\n      <td>9</td>\n      <td>...</td>\n      <td>1971</td>\n      <td>1</td>\n      <td>1</td>\n      <td>SS</td>\n      <td>72.0</td>\n      <td>165.0</td>\n      <td>25.0</td>\n      <td>4</td>\n      <td>2</td>\n      <td>0.052643</td>\n    </tr>\n    <tr>\n      <th>5</th>\n      <td>beniqju01</td>\n      <td>1975</td>\n      <td>1</td>\n      <td>BOS</td>\n      <td>AL</td>\n      <td>78</td>\n      <td>254</td>\n      <td>43</td>\n      <td>74</td>\n      <td>14</td>\n      <td>...</td>\n      <td>1971</td>\n      <td>1</td>\n      <td>1</td>\n      <td>SS</td>\n      <td>71.0</td>\n      <td>150.0</td>\n      <td>25.0</td>\n      <td>4</td>\n      <td>1</td>\n      <td>0.134220</td>\n    </tr>\n    <tr>\n      <th>6</th>\n      <td>beniqju01</td>\n      <td>1976</td>\n      <td>1</td>\n      <td>TEX</td>\n      <td>AL</td>\n      <td>145</td>\n      <td>478</td>\n      <td>49</td>\n      <td>122</td>\n      <td>14</td>\n      <td>...</td>\n      <td>1971</td>\n      <td>1</td>\n      <td>1</td>\n      <td>SS</td>\n      <td>71.0</td>\n      <td>150.0</td>\n      <td>26.0</td>\n      <td>5</td>\n      <td>2</td>\n      <td>-0.189141</td>\n    </tr>\n    <tr>\n      <th>7</th>\n      <td>beniqju01</td>\n      <td>1977</td>\n      <td>1</td>\n      <td>TEX</td>\n      <td>AL</td>\n      <td>123</td>\n      <td>424</td>\n      <td>56</td>\n      <td>114</td>\n      <td>19</td>\n      <td>...</td>\n      <td>1971</td>\n      <td>1</td>\n      <td>1</td>\n      <td>SS</td>\n      <td>71.0</td>\n      <td>150.0</td>\n      <td>27.0</td>\n      <td>6</td>\n      <td>3</td>\n      <td>0.215689</td>\n    </tr>\n  </tbody>\n</table>\n<p>5 rows × 38 columns</p>\n</div>"
     },
     "metadata": {}
    },
    {
     "output_type": "display_data",
     "data": {
      "text/plain": "    playerID  yearID  stint teamID lgID    G   AB   R    H  2B  ...  bt_same  \\\n0  auerbri01    1972      1    ML4   AL  153  554  50  121  16  ...        1   \n1  auerbri01    1975      1    LAN   NL   85  170  18   38   9  ...        1   \n2  beniqju01    1975      1    BOS   AL   78  254  43   74  14  ...        1   \n3  beniqju01    1975      1    BOS   AL   78  254  43   74  14  ...        1   \n4  beniqju01    1976      1    TEX   AL  145  478  49  122  14  ...        1   \n\n   p_pos  height  weight   age  yoe  yoe_adj  ops_per_delta  bo_season  \\\n0     SS    72.0   165.0  22.0    1        1       0.029875          0   \n1     SS    72.0   165.0  25.0    4        2       0.052643          0   \n2     SS    71.0   150.0  25.0    4        1       0.134220          0   \n3     SS    71.0   150.0  25.0    4        1       0.134220          0   \n4     SS    71.0   150.0  26.0    5        2      -0.189141          0   \n\n   bo_ever  \n0      0.0  \n1      0.0  \n2      1.0  \n3      1.0  \n4      1.0  \n\n[5 rows x 40 columns]",
      "text/html": "<div>\n<style scoped>\n    .dataframe tbody tr th:only-of-type {\n        vertical-align: middle;\n    }\n\n    .dataframe tbody tr th {\n        vertical-align: top;\n    }\n\n    .dataframe thead th {\n        text-align: right;\n    }\n</style>\n<table border=\"1\" class=\"dataframe\">\n  <thead>\n    <tr style=\"text-align: right;\">\n      <th></th>\n      <th>playerID</th>\n      <th>yearID</th>\n      <th>stint</th>\n      <th>teamID</th>\n      <th>lgID</th>\n      <th>G</th>\n      <th>AB</th>\n      <th>R</th>\n      <th>H</th>\n      <th>2B</th>\n      <th>...</th>\n      <th>bt_same</th>\n      <th>p_pos</th>\n      <th>height</th>\n      <th>weight</th>\n      <th>age</th>\n      <th>yoe</th>\n      <th>yoe_adj</th>\n      <th>ops_per_delta</th>\n      <th>bo_season</th>\n      <th>bo_ever</th>\n    </tr>\n  </thead>\n  <tbody>\n    <tr>\n      <th>0</th>\n      <td>auerbri01</td>\n      <td>1972</td>\n      <td>1</td>\n      <td>ML4</td>\n      <td>AL</td>\n      <td>153</td>\n      <td>554</td>\n      <td>50</td>\n      <td>121</td>\n      <td>16</td>\n      <td>...</td>\n      <td>1</td>\n      <td>SS</td>\n      <td>72.0</td>\n      <td>165.0</td>\n      <td>22.0</td>\n      <td>1</td>\n      <td>1</td>\n      <td>0.029875</td>\n      <td>0</td>\n      <td>0.0</td>\n    </tr>\n    <tr>\n      <th>1</th>\n      <td>auerbri01</td>\n      <td>1975</td>\n      <td>1</td>\n      <td>LAN</td>\n      <td>NL</td>\n      <td>85</td>\n      <td>170</td>\n      <td>18</td>\n      <td>38</td>\n      <td>9</td>\n      <td>...</td>\n      <td>1</td>\n      <td>SS</td>\n      <td>72.0</td>\n      <td>165.0</td>\n      <td>25.0</td>\n      <td>4</td>\n      <td>2</td>\n      <td>0.052643</td>\n      <td>0</td>\n      <td>0.0</td>\n    </tr>\n    <tr>\n      <th>2</th>\n      <td>beniqju01</td>\n      <td>1975</td>\n      <td>1</td>\n      <td>BOS</td>\n      <td>AL</td>\n      <td>78</td>\n      <td>254</td>\n      <td>43</td>\n      <td>74</td>\n      <td>14</td>\n      <td>...</td>\n      <td>1</td>\n      <td>SS</td>\n      <td>71.0</td>\n      <td>150.0</td>\n      <td>25.0</td>\n      <td>4</td>\n      <td>1</td>\n      <td>0.134220</td>\n      <td>0</td>\n      <td>1.0</td>\n    </tr>\n    <tr>\n      <th>3</th>\n      <td>beniqju01</td>\n      <td>1975</td>\n      <td>1</td>\n      <td>BOS</td>\n      <td>AL</td>\n      <td>78</td>\n      <td>254</td>\n      <td>43</td>\n      <td>74</td>\n      <td>14</td>\n      <td>...</td>\n      <td>1</td>\n      <td>SS</td>\n      <td>71.0</td>\n      <td>150.0</td>\n      <td>25.0</td>\n      <td>4</td>\n      <td>1</td>\n      <td>0.134220</td>\n      <td>0</td>\n      <td>1.0</td>\n    </tr>\n    <tr>\n      <th>4</th>\n      <td>beniqju01</td>\n      <td>1976</td>\n      <td>1</td>\n      <td>TEX</td>\n      <td>AL</td>\n      <td>145</td>\n      <td>478</td>\n      <td>49</td>\n      <td>122</td>\n      <td>14</td>\n      <td>...</td>\n      <td>1</td>\n      <td>SS</td>\n      <td>71.0</td>\n      <td>150.0</td>\n      <td>26.0</td>\n      <td>5</td>\n      <td>2</td>\n      <td>-0.189141</td>\n      <td>0</td>\n      <td>1.0</td>\n    </tr>\n  </tbody>\n</table>\n<p>5 rows × 40 columns</p>\n</div>"
     },
     "metadata": {}
    }
   ],
   "source": [
    "#df_main.sort_values(by=['playerID', 'yearID'], inplace=True)\n",
    "#df_main['ops_per_delta'] = df_main['ops'].pct_change(periods=1, fill_method='ffill')\n",
    "#df_main.dropna(subset=['ops_per_delta'], inplace=True)\n",
    "\n",
    "df_main['ops_per_delta'] = df_main.groupby(['playerID'])['ops'].apply(lambda x: pd.Series.pct_change(x, periods=1, fill_method='ffill'))\n",
    "df_main.dropna(subset=['ops_per_delta'], inplace=True)\n",
    "display(df_main.head())\n",
    "\n",
    "df_post_debut = df_main[df_main['yoe_adj'] > 0]\n",
    "#df_post_debut['ops_per_delta'].describe([.5, .75, .8, .9, .95])\n",
    "df_main['bo_season'] = np.where( (df_main['ops_per_delta'] >= .175) & (df_main['yoe_adj'] > 0), 1, 0)\n",
    "#display(df_main[df_main['bo_season'] == 1]) #1178 instance\n",
    "\n",
    "breakout_players = df_main[df_main['bo_season'] == 1]\n",
    "breakout_players = breakout_players[['playerID', 'bo_season']]\n",
    "breakout_players.rename(columns={'bo_season': 'bo_ever'}, inplace=True)\n",
    "\n",
    "df_main = df_main.merge(breakout_players, how='left', on='playerID')\n",
    "df_main['bo_ever'].fillna(0, inplace=True)\n",
    "display(df_main.head())"
   ]
  },
  {
   "source": [
    "Add frachID and park names onto main table to be used in final output, not as a model factor of interest (at this time)."
   ],
   "cell_type": "markdown",
   "metadata": {}
  },
  {
   "cell_type": "code",
   "execution_count": 14,
   "metadata": {},
   "outputs": [
    {
     "output_type": "stream",
     "name": "stdout",
     "text": [
      "Final length of df_main: 11593\n"
     ]
    }
   ],
   "source": [
    "df_teams_subset = df_teams[['yearID', 'teamID', 'franchID', 'name', 'park']]\n",
    "df_main = df_main.merge(df_teams_subset, on=['yearID', 'teamID'], how='inner')\n",
    "df_main.drop_duplicates(subset=['playerID', 'yearID'], inplace=True)\n",
    "\n",
    "print(f\"Final length of df_main: {len(df_main.index)}\")"
   ]
  },
  {
   "cell_type": "code",
   "execution_count": 15,
   "metadata": {},
   "outputs": [
    {
     "output_type": "execute_result",
     "data": {
      "text/plain": [
       "playerID          object\n",
       "yearID             int64\n",
       "stint              int64\n",
       "teamID            object\n",
       "lgID              object\n",
       "G                  int64\n",
       "AB                 int64\n",
       "R                  int64\n",
       "H                  int64\n",
       "2B                 int64\n",
       "3B                 int64\n",
       "HR                 int64\n",
       "RBI              float64\n",
       "SB               float64\n",
       "CS               float64\n",
       "BB                 int64\n",
       "SO               float64\n",
       "IBB              float64\n",
       "HBP              float64\n",
       "SH               float64\n",
       "SF               float64\n",
       "GIDP             float64\n",
       "1B                 int64\n",
       "TB                 int64\n",
       "obp              float64\n",
       "slg              float64\n",
       "ops              float64\n",
       "final_yr_adj       int64\n",
       "debut_yr           int64\n",
       "missed_any         int32\n",
       "bt_same            int32\n",
       "p_pos             object\n",
       "height           float64\n",
       "weight           float64\n",
       "age                int32\n",
       "yoe                int64\n",
       "yoe_adj            int64\n",
       "ops_per_delta    float64\n",
       "bo_season          int32\n",
       "bo_ever            int32\n",
       "franchID          object\n",
       "name              object\n",
       "park              object\n",
       "dtype: object"
      ]
     },
     "metadata": {},
     "execution_count": 15
    }
   ],
   "source": [
    "df_main['bo_ever'] = df_main['bo_ever'].astype('int32')\n",
    "df_main['age'] = df_main['age'].astype('int32')\n",
    "\n",
    "df_main.dtypes"
   ]
  },
  {
   "source": [
    "Arbitrary Column formatting"
   ],
   "cell_type": "markdown",
   "metadata": {}
  },
  {
   "cell_type": "code",
   "execution_count": 16,
   "metadata": {},
   "outputs": [],
   "source": [
    "# Batting cols float to int\n",
    "batting_ints = {'RBI':'int32', 'SB':'int32', 'CS':'int32', 'SO':'int32', 'IBB':'int32', 'HBP':'int32', 'SH':'int32', 'SF':'int32', 'GIDP':'int32'}\n",
    "\n",
    "app_ints = {'GS':'int32', 'G_defense':'int32', 'G_dh':'int32', 'G_ph':'int32', 'G_pr':'int32'}\n",
    "\n",
    "fielding_ints = {'GS':'int32'}\n",
    "\n",
    "# leaving weight and height as floats\n",
    "people_ints = {'birthYear':'int32', 'birthMonth':'int32'}\n",
    "\n",
    "team_ints = {'Ghome':'int32'}\n",
    "\n",
    "df_main = df_main.astype(batting_ints)\n",
    "df_batting = df_batting.astype(batting_ints)\n",
    "df_app = df_app.astype(app_ints)\n",
    "df_fielding = df_fielding.astype(fielding_ints)\n",
    "df_people = df_people.astype(people_ints)\n",
    "df_teams = df_teams.astype(team_ints)"
   ]
  },
  {
   "source": [
    "Write to csv files"
   ],
   "cell_type": "markdown",
   "metadata": {}
  },
  {
   "cell_type": "code",
   "execution_count": 17,
   "metadata": {},
   "outputs": [],
   "source": [
    "df_batting.to_csv(\"./data/cleaned_data/batting_clean.csv\" , index=False)\n",
    "df_app.to_csv(\"./data/cleaned_data/appearance_clean.csv\" , index=False)\n",
    "df_people.to_csv(\"./data/cleaned_data/people_clean.csv\", index=False)\n",
    "df_fielding.to_csv(\"./data/cleaned_data/fielding_clean.csv\" , index=False)\n",
    "df_teams.to_csv(\"./data/cleaned_data/teams_clean.csv\", index=False)\n",
    "df_parks.to_csv(\"./data/cleaned_data/parks_clean.csv\", index=False)\n",
    "df_franch.to_csv(\"./data/cleaned_data/franch_clean.csv\", index=False)\n",
    "df_main.to_csv(\"./data/cleaned_data/main_clean.csv\", index=False)"
   ]
  },
  {
   "source": [
    "Write to sqlite db"
   ],
   "cell_type": "markdown",
   "metadata": {}
  },
  {
   "cell_type": "code",
   "execution_count": 18,
   "metadata": {},
   "outputs": [],
   "source": [
    "con = sqlite3.connect('./data/cleaned_data/cleaned_data.db')\n",
    "\n",
    "df_batting.to_sql(\"batting_clean\", con, index=False, if_exists='replace')\n",
    "df_app.to_sql(\"appearance_clean\", con,  index=False, if_exists='replace')\n",
    "df_people.to_sql(\"people_clean\", con, index=False, if_exists='replace')\n",
    "df_fielding.to_sql(\"fielding_clean\", con, index=False, if_exists='replace')\n",
    "df_teams.to_sql(\"teams_clean\", con, index=False, if_exists='replace')\n",
    "df_parks.to_sql(\"parks_clean\", con, index=False, if_exists='replace')\n",
    "df_franch.to_sql(\"franch_clean\", con, index=False, if_exists='replace')\n",
    "df_main.to_sql(\"main_clean\", con, index=False, if_exists='replace')\n",
    "\n",
    "con.commit()\n",
    "con.close()"
   ]
  },
  {
   "cell_type": "code",
   "execution_count": null,
   "metadata": {},
   "outputs": [],
   "source": []
  }
 ]
}