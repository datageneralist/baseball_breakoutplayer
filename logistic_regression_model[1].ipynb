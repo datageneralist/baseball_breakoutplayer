{
 "cells": [
  {
   "cell_type": "code",
   "execution_count": 1,
   "metadata": {},
   "outputs": [
    {
     "name": "stderr",
     "output_type": "stream",
     "text": [
      "C:\\Users\\71104861\\AppData\\Local\\Continuum\\anaconda3\\lib\\site-packages\\statsmodels\\compat\\pandas.py:49: FutureWarning: The Panel class is removed from pandas. Accessing it from the top-level namespace will also be removed in the next version\n",
      "  data_klasses = (pandas.Series, pandas.DataFrame, pandas.Panel)\n"
     ]
    }
   ],
   "source": [
    "import pandas as pd\n",
    "from IPython.display import display\n",
    "import datetime as dt\n",
    "from matplotlib import pylab\n",
    "import numpy as np\n",
    "import scipy as sp\n",
    "import statsmodels.api as sm\n",
    "import warnings \n",
    "warnings.filterwarnings(\"ignore\")\n",
    "import sqlite3"
   ]
  },
  {
   "cell_type": "code",
   "execution_count": 2,
   "metadata": {},
   "outputs": [
    {
     "data": {
      "text/html": [
       "<div>\n",
       "<style scoped>\n",
       "    .dataframe tbody tr th:only-of-type {\n",
       "        vertical-align: middle;\n",
       "    }\n",
       "\n",
       "    .dataframe tbody tr th {\n",
       "        vertical-align: top;\n",
       "    }\n",
       "\n",
       "    .dataframe thead th {\n",
       "        text-align: right;\n",
       "    }\n",
       "</style>\n",
       "<table border=\"1\" class=\"dataframe\">\n",
       "  <thead>\n",
       "    <tr style=\"text-align: right;\">\n",
       "      <th></th>\n",
       "      <th>playerID</th>\n",
       "      <th>yearID</th>\n",
       "      <th>stint</th>\n",
       "      <th>teamID</th>\n",
       "      <th>lgID</th>\n",
       "      <th>G</th>\n",
       "      <th>AB</th>\n",
       "      <th>R</th>\n",
       "      <th>H</th>\n",
       "      <th>2B</th>\n",
       "      <th>...</th>\n",
       "      <th>RBI</th>\n",
       "      <th>SB</th>\n",
       "      <th>CS</th>\n",
       "      <th>BB</th>\n",
       "      <th>SO</th>\n",
       "      <th>IBB</th>\n",
       "      <th>HBP</th>\n",
       "      <th>SH</th>\n",
       "      <th>SF</th>\n",
       "      <th>GIDP</th>\n",
       "    </tr>\n",
       "  </thead>\n",
       "  <tbody>\n",
       "    <tr>\n",
       "      <th>0</th>\n",
       "      <td>abercda01</td>\n",
       "      <td>1871</td>\n",
       "      <td>1</td>\n",
       "      <td>TRO</td>\n",
       "      <td>NaN</td>\n",
       "      <td>1</td>\n",
       "      <td>4</td>\n",
       "      <td>0</td>\n",
       "      <td>0</td>\n",
       "      <td>0</td>\n",
       "      <td>...</td>\n",
       "      <td>0.0</td>\n",
       "      <td>0.0</td>\n",
       "      <td>0.0</td>\n",
       "      <td>0</td>\n",
       "      <td>0.0</td>\n",
       "      <td>NaN</td>\n",
       "      <td>NaN</td>\n",
       "      <td>NaN</td>\n",
       "      <td>NaN</td>\n",
       "      <td>0.0</td>\n",
       "    </tr>\n",
       "    <tr>\n",
       "      <th>1</th>\n",
       "      <td>addybo01</td>\n",
       "      <td>1871</td>\n",
       "      <td>1</td>\n",
       "      <td>RC1</td>\n",
       "      <td>NaN</td>\n",
       "      <td>25</td>\n",
       "      <td>118</td>\n",
       "      <td>30</td>\n",
       "      <td>32</td>\n",
       "      <td>6</td>\n",
       "      <td>...</td>\n",
       "      <td>13.0</td>\n",
       "      <td>8.0</td>\n",
       "      <td>1.0</td>\n",
       "      <td>4</td>\n",
       "      <td>0.0</td>\n",
       "      <td>NaN</td>\n",
       "      <td>NaN</td>\n",
       "      <td>NaN</td>\n",
       "      <td>NaN</td>\n",
       "      <td>0.0</td>\n",
       "    </tr>\n",
       "    <tr>\n",
       "      <th>2</th>\n",
       "      <td>allisar01</td>\n",
       "      <td>1871</td>\n",
       "      <td>1</td>\n",
       "      <td>CL1</td>\n",
       "      <td>NaN</td>\n",
       "      <td>29</td>\n",
       "      <td>137</td>\n",
       "      <td>28</td>\n",
       "      <td>40</td>\n",
       "      <td>4</td>\n",
       "      <td>...</td>\n",
       "      <td>19.0</td>\n",
       "      <td>3.0</td>\n",
       "      <td>1.0</td>\n",
       "      <td>2</td>\n",
       "      <td>5.0</td>\n",
       "      <td>NaN</td>\n",
       "      <td>NaN</td>\n",
       "      <td>NaN</td>\n",
       "      <td>NaN</td>\n",
       "      <td>1.0</td>\n",
       "    </tr>\n",
       "    <tr>\n",
       "      <th>3</th>\n",
       "      <td>allisdo01</td>\n",
       "      <td>1871</td>\n",
       "      <td>1</td>\n",
       "      <td>WS3</td>\n",
       "      <td>NaN</td>\n",
       "      <td>27</td>\n",
       "      <td>133</td>\n",
       "      <td>28</td>\n",
       "      <td>44</td>\n",
       "      <td>10</td>\n",
       "      <td>...</td>\n",
       "      <td>27.0</td>\n",
       "      <td>1.0</td>\n",
       "      <td>1.0</td>\n",
       "      <td>0</td>\n",
       "      <td>2.0</td>\n",
       "      <td>NaN</td>\n",
       "      <td>NaN</td>\n",
       "      <td>NaN</td>\n",
       "      <td>NaN</td>\n",
       "      <td>0.0</td>\n",
       "    </tr>\n",
       "    <tr>\n",
       "      <th>4</th>\n",
       "      <td>ansonca01</td>\n",
       "      <td>1871</td>\n",
       "      <td>1</td>\n",
       "      <td>RC1</td>\n",
       "      <td>NaN</td>\n",
       "      <td>25</td>\n",
       "      <td>120</td>\n",
       "      <td>29</td>\n",
       "      <td>39</td>\n",
       "      <td>11</td>\n",
       "      <td>...</td>\n",
       "      <td>16.0</td>\n",
       "      <td>6.0</td>\n",
       "      <td>2.0</td>\n",
       "      <td>2</td>\n",
       "      <td>1.0</td>\n",
       "      <td>NaN</td>\n",
       "      <td>NaN</td>\n",
       "      <td>NaN</td>\n",
       "      <td>NaN</td>\n",
       "      <td>0.0</td>\n",
       "    </tr>\n",
       "  </tbody>\n",
       "</table>\n",
       "<p>5 rows × 22 columns</p>\n",
       "</div>"
      ],
      "text/plain": [
       "    playerID  yearID  stint teamID lgID   G   AB   R   H  2B  ...   RBI   SB  \\\n",
       "0  abercda01    1871      1    TRO  NaN   1    4   0   0   0  ...   0.0  0.0   \n",
       "1   addybo01    1871      1    RC1  NaN  25  118  30  32   6  ...  13.0  8.0   \n",
       "2  allisar01    1871      1    CL1  NaN  29  137  28  40   4  ...  19.0  3.0   \n",
       "3  allisdo01    1871      1    WS3  NaN  27  133  28  44  10  ...  27.0  1.0   \n",
       "4  ansonca01    1871      1    RC1  NaN  25  120  29  39  11  ...  16.0  6.0   \n",
       "\n",
       "    CS  BB   SO  IBB  HBP  SH  SF  GIDP  \n",
       "0  0.0   0  0.0  NaN  NaN NaN NaN   0.0  \n",
       "1  1.0   4  0.0  NaN  NaN NaN NaN   0.0  \n",
       "2  1.0   2  5.0  NaN  NaN NaN NaN   1.0  \n",
       "3  1.0   0  2.0  NaN  NaN NaN NaN   0.0  \n",
       "4  2.0   2  1.0  NaN  NaN NaN NaN   0.0  \n",
       "\n",
       "[5 rows x 22 columns]"
      ]
     },
     "metadata": {},
     "output_type": "display_data"
    },
    {
     "data": {
      "text/html": [
       "<div>\n",
       "<style scoped>\n",
       "    .dataframe tbody tr th:only-of-type {\n",
       "        vertical-align: middle;\n",
       "    }\n",
       "\n",
       "    .dataframe tbody tr th {\n",
       "        vertical-align: top;\n",
       "    }\n",
       "\n",
       "    .dataframe thead th {\n",
       "        text-align: right;\n",
       "    }\n",
       "</style>\n",
       "<table border=\"1\" class=\"dataframe\">\n",
       "  <thead>\n",
       "    <tr style=\"text-align: right;\">\n",
       "      <th></th>\n",
       "      <th>yearID</th>\n",
       "      <th>teamID</th>\n",
       "      <th>lgID</th>\n",
       "      <th>playerID</th>\n",
       "      <th>G_all</th>\n",
       "      <th>GS</th>\n",
       "      <th>G_batting</th>\n",
       "      <th>G_defense</th>\n",
       "      <th>G_p</th>\n",
       "      <th>G_c</th>\n",
       "      <th>...</th>\n",
       "      <th>G_2b</th>\n",
       "      <th>G_3b</th>\n",
       "      <th>G_ss</th>\n",
       "      <th>G_lf</th>\n",
       "      <th>G_cf</th>\n",
       "      <th>G_rf</th>\n",
       "      <th>G_of</th>\n",
       "      <th>G_dh</th>\n",
       "      <th>G_ph</th>\n",
       "      <th>G_pr</th>\n",
       "    </tr>\n",
       "  </thead>\n",
       "  <tbody>\n",
       "    <tr>\n",
       "      <th>0</th>\n",
       "      <td>1871</td>\n",
       "      <td>TRO</td>\n",
       "      <td>NaN</td>\n",
       "      <td>abercda01</td>\n",
       "      <td>1</td>\n",
       "      <td>1.0</td>\n",
       "      <td>1</td>\n",
       "      <td>1.0</td>\n",
       "      <td>0</td>\n",
       "      <td>0</td>\n",
       "      <td>...</td>\n",
       "      <td>0</td>\n",
       "      <td>0</td>\n",
       "      <td>1</td>\n",
       "      <td>0</td>\n",
       "      <td>0</td>\n",
       "      <td>0</td>\n",
       "      <td>0</td>\n",
       "      <td>0.0</td>\n",
       "      <td>0.0</td>\n",
       "      <td>0.0</td>\n",
       "    </tr>\n",
       "    <tr>\n",
       "      <th>1</th>\n",
       "      <td>1871</td>\n",
       "      <td>RC1</td>\n",
       "      <td>NaN</td>\n",
       "      <td>addybo01</td>\n",
       "      <td>25</td>\n",
       "      <td>25.0</td>\n",
       "      <td>25</td>\n",
       "      <td>25.0</td>\n",
       "      <td>0</td>\n",
       "      <td>0</td>\n",
       "      <td>...</td>\n",
       "      <td>22</td>\n",
       "      <td>0</td>\n",
       "      <td>3</td>\n",
       "      <td>0</td>\n",
       "      <td>0</td>\n",
       "      <td>0</td>\n",
       "      <td>0</td>\n",
       "      <td>0.0</td>\n",
       "      <td>0.0</td>\n",
       "      <td>0.0</td>\n",
       "    </tr>\n",
       "    <tr>\n",
       "      <th>2</th>\n",
       "      <td>1871</td>\n",
       "      <td>CL1</td>\n",
       "      <td>NaN</td>\n",
       "      <td>allisar01</td>\n",
       "      <td>29</td>\n",
       "      <td>29.0</td>\n",
       "      <td>29</td>\n",
       "      <td>29.0</td>\n",
       "      <td>0</td>\n",
       "      <td>0</td>\n",
       "      <td>...</td>\n",
       "      <td>2</td>\n",
       "      <td>0</td>\n",
       "      <td>0</td>\n",
       "      <td>0</td>\n",
       "      <td>29</td>\n",
       "      <td>0</td>\n",
       "      <td>29</td>\n",
       "      <td>0.0</td>\n",
       "      <td>0.0</td>\n",
       "      <td>0.0</td>\n",
       "    </tr>\n",
       "    <tr>\n",
       "      <th>3</th>\n",
       "      <td>1871</td>\n",
       "      <td>WS3</td>\n",
       "      <td>NaN</td>\n",
       "      <td>allisdo01</td>\n",
       "      <td>27</td>\n",
       "      <td>27.0</td>\n",
       "      <td>27</td>\n",
       "      <td>27.0</td>\n",
       "      <td>0</td>\n",
       "      <td>27</td>\n",
       "      <td>...</td>\n",
       "      <td>0</td>\n",
       "      <td>0</td>\n",
       "      <td>0</td>\n",
       "      <td>0</td>\n",
       "      <td>0</td>\n",
       "      <td>0</td>\n",
       "      <td>0</td>\n",
       "      <td>0.0</td>\n",
       "      <td>0.0</td>\n",
       "      <td>0.0</td>\n",
       "    </tr>\n",
       "    <tr>\n",
       "      <th>4</th>\n",
       "      <td>1871</td>\n",
       "      <td>RC1</td>\n",
       "      <td>NaN</td>\n",
       "      <td>ansonca01</td>\n",
       "      <td>25</td>\n",
       "      <td>25.0</td>\n",
       "      <td>25</td>\n",
       "      <td>25.0</td>\n",
       "      <td>0</td>\n",
       "      <td>5</td>\n",
       "      <td>...</td>\n",
       "      <td>2</td>\n",
       "      <td>20</td>\n",
       "      <td>0</td>\n",
       "      <td>1</td>\n",
       "      <td>0</td>\n",
       "      <td>0</td>\n",
       "      <td>1</td>\n",
       "      <td>0.0</td>\n",
       "      <td>0.0</td>\n",
       "      <td>0.0</td>\n",
       "    </tr>\n",
       "  </tbody>\n",
       "</table>\n",
       "<p>5 rows × 21 columns</p>\n",
       "</div>"
      ],
      "text/plain": [
       "   yearID teamID lgID   playerID  G_all    GS  G_batting  G_defense  G_p  G_c  \\\n",
       "0    1871    TRO  NaN  abercda01      1   1.0          1        1.0    0    0   \n",
       "1    1871    RC1  NaN   addybo01     25  25.0         25       25.0    0    0   \n",
       "2    1871    CL1  NaN  allisar01     29  29.0         29       29.0    0    0   \n",
       "3    1871    WS3  NaN  allisdo01     27  27.0         27       27.0    0   27   \n",
       "4    1871    RC1  NaN  ansonca01     25  25.0         25       25.0    0    5   \n",
       "\n",
       "   ...  G_2b  G_3b  G_ss  G_lf  G_cf  G_rf  G_of  G_dh  G_ph  G_pr  \n",
       "0  ...     0     0     1     0     0     0     0   0.0   0.0   0.0  \n",
       "1  ...    22     0     3     0     0     0     0   0.0   0.0   0.0  \n",
       "2  ...     2     0     0     0    29     0    29   0.0   0.0   0.0  \n",
       "3  ...     0     0     0     0     0     0     0   0.0   0.0   0.0  \n",
       "4  ...     2    20     0     1     0     0     1   0.0   0.0   0.0  \n",
       "\n",
       "[5 rows x 21 columns]"
      ]
     },
     "metadata": {},
     "output_type": "display_data"
    },
    {
     "data": {
      "text/html": [
       "<div>\n",
       "<style scoped>\n",
       "    .dataframe tbody tr th:only-of-type {\n",
       "        vertical-align: middle;\n",
       "    }\n",
       "\n",
       "    .dataframe tbody tr th {\n",
       "        vertical-align: top;\n",
       "    }\n",
       "\n",
       "    .dataframe thead th {\n",
       "        text-align: right;\n",
       "    }\n",
       "</style>\n",
       "<table border=\"1\" class=\"dataframe\">\n",
       "  <thead>\n",
       "    <tr style=\"text-align: right;\">\n",
       "      <th></th>\n",
       "      <th>park.key</th>\n",
       "      <th>park.name</th>\n",
       "      <th>park.alias</th>\n",
       "      <th>city</th>\n",
       "      <th>state</th>\n",
       "      <th>country</th>\n",
       "    </tr>\n",
       "  </thead>\n",
       "  <tbody>\n",
       "    <tr>\n",
       "      <th>0</th>\n",
       "      <td>ALB01</td>\n",
       "      <td>Riverside Park</td>\n",
       "      <td>NaN</td>\n",
       "      <td>Albany</td>\n",
       "      <td>NY</td>\n",
       "      <td>US</td>\n",
       "    </tr>\n",
       "    <tr>\n",
       "      <th>1</th>\n",
       "      <td>ALT01</td>\n",
       "      <td>Columbia Park</td>\n",
       "      <td>NaN</td>\n",
       "      <td>Altoona</td>\n",
       "      <td>PA</td>\n",
       "      <td>US</td>\n",
       "    </tr>\n",
       "    <tr>\n",
       "      <th>2</th>\n",
       "      <td>ANA01</td>\n",
       "      <td>Angel Stadium of Anaheim</td>\n",
       "      <td>Edison Field; Anaheim Stadium</td>\n",
       "      <td>Anaheim</td>\n",
       "      <td>CA</td>\n",
       "      <td>US</td>\n",
       "    </tr>\n",
       "    <tr>\n",
       "      <th>3</th>\n",
       "      <td>ARL01</td>\n",
       "      <td>Arlington Stadium</td>\n",
       "      <td>NaN</td>\n",
       "      <td>Arlington</td>\n",
       "      <td>TX</td>\n",
       "      <td>US</td>\n",
       "    </tr>\n",
       "    <tr>\n",
       "      <th>4</th>\n",
       "      <td>ARL02</td>\n",
       "      <td>Rangers Ballpark in Arlington</td>\n",
       "      <td>The Ballpark in Arlington; Ameriquest Fl</td>\n",
       "      <td>Arlington</td>\n",
       "      <td>TX</td>\n",
       "      <td>US</td>\n",
       "    </tr>\n",
       "  </tbody>\n",
       "</table>\n",
       "</div>"
      ],
      "text/plain": [
       "  park.key                      park.name  \\\n",
       "0    ALB01                 Riverside Park   \n",
       "1    ALT01                  Columbia Park   \n",
       "2    ANA01       Angel Stadium of Anaheim   \n",
       "3    ARL01              Arlington Stadium   \n",
       "4    ARL02  Rangers Ballpark in Arlington   \n",
       "\n",
       "                                 park.alias       city state country  \n",
       "0                                       NaN     Albany    NY      US  \n",
       "1                                       NaN    Altoona    PA      US  \n",
       "2             Edison Field; Anaheim Stadium    Anaheim    CA      US  \n",
       "3                                       NaN  Arlington    TX      US  \n",
       "4  The Ballpark in Arlington; Ameriquest Fl  Arlington    TX      US  "
      ]
     },
     "metadata": {},
     "output_type": "display_data"
    },
    {
     "data": {
      "text/html": [
       "<div>\n",
       "<style scoped>\n",
       "    .dataframe tbody tr th:only-of-type {\n",
       "        vertical-align: middle;\n",
       "    }\n",
       "\n",
       "    .dataframe tbody tr th {\n",
       "        vertical-align: top;\n",
       "    }\n",
       "\n",
       "    .dataframe thead th {\n",
       "        text-align: right;\n",
       "    }\n",
       "</style>\n",
       "<table border=\"1\" class=\"dataframe\">\n",
       "  <thead>\n",
       "    <tr style=\"text-align: right;\">\n",
       "      <th></th>\n",
       "      <th>playerID</th>\n",
       "      <th>birthYear</th>\n",
       "      <th>birthMonth</th>\n",
       "      <th>nameFirst</th>\n",
       "      <th>nameLast</th>\n",
       "      <th>nameGiven</th>\n",
       "      <th>weight</th>\n",
       "      <th>height</th>\n",
       "      <th>bats</th>\n",
       "      <th>throws</th>\n",
       "      <th>debut</th>\n",
       "      <th>finalGame</th>\n",
       "      <th>retroID</th>\n",
       "      <th>bbrefID</th>\n",
       "    </tr>\n",
       "  </thead>\n",
       "  <tbody>\n",
       "    <tr>\n",
       "      <th>0</th>\n",
       "      <td>aardsda01</td>\n",
       "      <td>1981.0</td>\n",
       "      <td>12.0</td>\n",
       "      <td>David</td>\n",
       "      <td>Aardsma</td>\n",
       "      <td>David Allan</td>\n",
       "      <td>215.0</td>\n",
       "      <td>75.0</td>\n",
       "      <td>R</td>\n",
       "      <td>R</td>\n",
       "      <td>2004-04-06</td>\n",
       "      <td>2015-08-23</td>\n",
       "      <td>aardd001</td>\n",
       "      <td>aardsda01</td>\n",
       "    </tr>\n",
       "    <tr>\n",
       "      <th>1</th>\n",
       "      <td>aaronha01</td>\n",
       "      <td>1934.0</td>\n",
       "      <td>2.0</td>\n",
       "      <td>Hank</td>\n",
       "      <td>Aaron</td>\n",
       "      <td>Henry Louis</td>\n",
       "      <td>180.0</td>\n",
       "      <td>72.0</td>\n",
       "      <td>R</td>\n",
       "      <td>R</td>\n",
       "      <td>1954-04-13</td>\n",
       "      <td>1976-10-03</td>\n",
       "      <td>aaroh101</td>\n",
       "      <td>aaronha01</td>\n",
       "    </tr>\n",
       "    <tr>\n",
       "      <th>2</th>\n",
       "      <td>aaronto01</td>\n",
       "      <td>1939.0</td>\n",
       "      <td>8.0</td>\n",
       "      <td>Tommie</td>\n",
       "      <td>Aaron</td>\n",
       "      <td>Tommie Lee</td>\n",
       "      <td>190.0</td>\n",
       "      <td>75.0</td>\n",
       "      <td>R</td>\n",
       "      <td>R</td>\n",
       "      <td>1962-04-10</td>\n",
       "      <td>1971-09-26</td>\n",
       "      <td>aarot101</td>\n",
       "      <td>aaronto01</td>\n",
       "    </tr>\n",
       "    <tr>\n",
       "      <th>3</th>\n",
       "      <td>aasedo01</td>\n",
       "      <td>1954.0</td>\n",
       "      <td>9.0</td>\n",
       "      <td>Don</td>\n",
       "      <td>Aase</td>\n",
       "      <td>Donald William</td>\n",
       "      <td>190.0</td>\n",
       "      <td>75.0</td>\n",
       "      <td>R</td>\n",
       "      <td>R</td>\n",
       "      <td>1977-07-26</td>\n",
       "      <td>1990-10-03</td>\n",
       "      <td>aased001</td>\n",
       "      <td>aasedo01</td>\n",
       "    </tr>\n",
       "    <tr>\n",
       "      <th>4</th>\n",
       "      <td>abadan01</td>\n",
       "      <td>1972.0</td>\n",
       "      <td>8.0</td>\n",
       "      <td>Andy</td>\n",
       "      <td>Abad</td>\n",
       "      <td>Fausto Andres</td>\n",
       "      <td>184.0</td>\n",
       "      <td>73.0</td>\n",
       "      <td>L</td>\n",
       "      <td>L</td>\n",
       "      <td>2001-09-10</td>\n",
       "      <td>2006-04-13</td>\n",
       "      <td>abada001</td>\n",
       "      <td>abadan01</td>\n",
       "    </tr>\n",
       "  </tbody>\n",
       "</table>\n",
       "</div>"
      ],
      "text/plain": [
       "    playerID  birthYear  birthMonth nameFirst nameLast       nameGiven  \\\n",
       "0  aardsda01     1981.0        12.0     David  Aardsma     David Allan   \n",
       "1  aaronha01     1934.0         2.0      Hank    Aaron     Henry Louis   \n",
       "2  aaronto01     1939.0         8.0    Tommie    Aaron      Tommie Lee   \n",
       "3   aasedo01     1954.0         9.0       Don     Aase  Donald William   \n",
       "4   abadan01     1972.0         8.0      Andy     Abad   Fausto Andres   \n",
       "\n",
       "   weight  height bats throws       debut   finalGame   retroID    bbrefID  \n",
       "0   215.0    75.0    R      R  2004-04-06  2015-08-23  aardd001  aardsda01  \n",
       "1   180.0    72.0    R      R  1954-04-13  1976-10-03  aaroh101  aaronha01  \n",
       "2   190.0    75.0    R      R  1962-04-10  1971-09-26  aarot101  aaronto01  \n",
       "3   190.0    75.0    R      R  1977-07-26  1990-10-03  aased001   aasedo01  \n",
       "4   184.0    73.0    L      L  2001-09-10  2006-04-13  abada001   abadan01  "
      ]
     },
     "metadata": {},
     "output_type": "display_data"
    },
    {
     "data": {
      "text/html": [
       "<div>\n",
       "<style scoped>\n",
       "    .dataframe tbody tr th:only-of-type {\n",
       "        vertical-align: middle;\n",
       "    }\n",
       "\n",
       "    .dataframe tbody tr th {\n",
       "        vertical-align: top;\n",
       "    }\n",
       "\n",
       "    .dataframe thead th {\n",
       "        text-align: right;\n",
       "    }\n",
       "</style>\n",
       "<table border=\"1\" class=\"dataframe\">\n",
       "  <thead>\n",
       "    <tr style=\"text-align: right;\">\n",
       "      <th></th>\n",
       "      <th>playerID</th>\n",
       "      <th>yearID</th>\n",
       "      <th>stint</th>\n",
       "      <th>teamID</th>\n",
       "      <th>lgID</th>\n",
       "      <th>POS</th>\n",
       "      <th>G</th>\n",
       "      <th>GS</th>\n",
       "    </tr>\n",
       "  </thead>\n",
       "  <tbody>\n",
       "    <tr>\n",
       "      <th>0</th>\n",
       "      <td>abercda01</td>\n",
       "      <td>1871</td>\n",
       "      <td>1</td>\n",
       "      <td>TRO</td>\n",
       "      <td>NaN</td>\n",
       "      <td>SS</td>\n",
       "      <td>1</td>\n",
       "      <td>1.0</td>\n",
       "    </tr>\n",
       "    <tr>\n",
       "      <th>1</th>\n",
       "      <td>addybo01</td>\n",
       "      <td>1871</td>\n",
       "      <td>1</td>\n",
       "      <td>RC1</td>\n",
       "      <td>NaN</td>\n",
       "      <td>2B</td>\n",
       "      <td>22</td>\n",
       "      <td>22.0</td>\n",
       "    </tr>\n",
       "    <tr>\n",
       "      <th>2</th>\n",
       "      <td>addybo01</td>\n",
       "      <td>1871</td>\n",
       "      <td>1</td>\n",
       "      <td>RC1</td>\n",
       "      <td>NaN</td>\n",
       "      <td>SS</td>\n",
       "      <td>3</td>\n",
       "      <td>3.0</td>\n",
       "    </tr>\n",
       "    <tr>\n",
       "      <th>3</th>\n",
       "      <td>allisar01</td>\n",
       "      <td>1871</td>\n",
       "      <td>1</td>\n",
       "      <td>CL1</td>\n",
       "      <td>NaN</td>\n",
       "      <td>2B</td>\n",
       "      <td>2</td>\n",
       "      <td>0.0</td>\n",
       "    </tr>\n",
       "    <tr>\n",
       "      <th>4</th>\n",
       "      <td>allisar01</td>\n",
       "      <td>1871</td>\n",
       "      <td>1</td>\n",
       "      <td>CL1</td>\n",
       "      <td>NaN</td>\n",
       "      <td>OF</td>\n",
       "      <td>29</td>\n",
       "      <td>29.0</td>\n",
       "    </tr>\n",
       "  </tbody>\n",
       "</table>\n",
       "</div>"
      ],
      "text/plain": [
       "    playerID  yearID  stint teamID lgID POS   G    GS\n",
       "0  abercda01    1871      1    TRO  NaN  SS   1   1.0\n",
       "1   addybo01    1871      1    RC1  NaN  2B  22  22.0\n",
       "2   addybo01    1871      1    RC1  NaN  SS   3   3.0\n",
       "3  allisar01    1871      1    CL1  NaN  2B   2   0.0\n",
       "4  allisar01    1871      1    CL1  NaN  OF  29  29.0"
      ]
     },
     "metadata": {},
     "output_type": "display_data"
    },
    {
     "data": {
      "text/html": [
       "<div>\n",
       "<style scoped>\n",
       "    .dataframe tbody tr th:only-of-type {\n",
       "        vertical-align: middle;\n",
       "    }\n",
       "\n",
       "    .dataframe tbody tr th {\n",
       "        vertical-align: top;\n",
       "    }\n",
       "\n",
       "    .dataframe thead th {\n",
       "        text-align: right;\n",
       "    }\n",
       "</style>\n",
       "<table border=\"1\" class=\"dataframe\">\n",
       "  <thead>\n",
       "    <tr style=\"text-align: right;\">\n",
       "      <th></th>\n",
       "      <th>yearID</th>\n",
       "      <th>lgID</th>\n",
       "      <th>teamID</th>\n",
       "      <th>franchID</th>\n",
       "      <th>divID</th>\n",
       "      <th>Rank</th>\n",
       "      <th>G</th>\n",
       "      <th>Ghome</th>\n",
       "      <th>W</th>\n",
       "      <th>L</th>\n",
       "      <th>park</th>\n",
       "    </tr>\n",
       "  </thead>\n",
       "  <tbody>\n",
       "    <tr>\n",
       "      <th>0</th>\n",
       "      <td>1871</td>\n",
       "      <td>NaN</td>\n",
       "      <td>BS1</td>\n",
       "      <td>BNA</td>\n",
       "      <td>NaN</td>\n",
       "      <td>3</td>\n",
       "      <td>31</td>\n",
       "      <td>NaN</td>\n",
       "      <td>20</td>\n",
       "      <td>10</td>\n",
       "      <td>South End Grounds I</td>\n",
       "    </tr>\n",
       "    <tr>\n",
       "      <th>1</th>\n",
       "      <td>1871</td>\n",
       "      <td>NaN</td>\n",
       "      <td>CH1</td>\n",
       "      <td>CNA</td>\n",
       "      <td>NaN</td>\n",
       "      <td>2</td>\n",
       "      <td>28</td>\n",
       "      <td>NaN</td>\n",
       "      <td>19</td>\n",
       "      <td>9</td>\n",
       "      <td>Union Base-Ball Grounds</td>\n",
       "    </tr>\n",
       "    <tr>\n",
       "      <th>2</th>\n",
       "      <td>1871</td>\n",
       "      <td>NaN</td>\n",
       "      <td>CL1</td>\n",
       "      <td>CFC</td>\n",
       "      <td>NaN</td>\n",
       "      <td>8</td>\n",
       "      <td>29</td>\n",
       "      <td>NaN</td>\n",
       "      <td>10</td>\n",
       "      <td>19</td>\n",
       "      <td>National Association Grounds</td>\n",
       "    </tr>\n",
       "    <tr>\n",
       "      <th>3</th>\n",
       "      <td>1871</td>\n",
       "      <td>NaN</td>\n",
       "      <td>FW1</td>\n",
       "      <td>KEK</td>\n",
       "      <td>NaN</td>\n",
       "      <td>7</td>\n",
       "      <td>19</td>\n",
       "      <td>NaN</td>\n",
       "      <td>7</td>\n",
       "      <td>12</td>\n",
       "      <td>Hamilton Field</td>\n",
       "    </tr>\n",
       "    <tr>\n",
       "      <th>4</th>\n",
       "      <td>1871</td>\n",
       "      <td>NaN</td>\n",
       "      <td>NY2</td>\n",
       "      <td>NNA</td>\n",
       "      <td>NaN</td>\n",
       "      <td>5</td>\n",
       "      <td>33</td>\n",
       "      <td>NaN</td>\n",
       "      <td>16</td>\n",
       "      <td>17</td>\n",
       "      <td>Union Grounds (Brooklyn)</td>\n",
       "    </tr>\n",
       "  </tbody>\n",
       "</table>\n",
       "</div>"
      ],
      "text/plain": [
       "   yearID lgID teamID franchID divID  Rank   G  Ghome   W   L  \\\n",
       "0    1871  NaN    BS1      BNA   NaN     3  31    NaN  20  10   \n",
       "1    1871  NaN    CH1      CNA   NaN     2  28    NaN  19   9   \n",
       "2    1871  NaN    CL1      CFC   NaN     8  29    NaN  10  19   \n",
       "3    1871  NaN    FW1      KEK   NaN     7  19    NaN   7  12   \n",
       "4    1871  NaN    NY2      NNA   NaN     5  33    NaN  16  17   \n",
       "\n",
       "                           park  \n",
       "0           South End Grounds I  \n",
       "1       Union Base-Ball Grounds  \n",
       "2  National Association Grounds  \n",
       "3                Hamilton Field  \n",
       "4      Union Grounds (Brooklyn)  "
      ]
     },
     "metadata": {},
     "output_type": "display_data"
    },
    {
     "data": {
      "text/html": [
       "<div>\n",
       "<style scoped>\n",
       "    .dataframe tbody tr th:only-of-type {\n",
       "        vertical-align: middle;\n",
       "    }\n",
       "\n",
       "    .dataframe tbody tr th {\n",
       "        vertical-align: top;\n",
       "    }\n",
       "\n",
       "    .dataframe thead th {\n",
       "        text-align: right;\n",
       "    }\n",
       "</style>\n",
       "<table border=\"1\" class=\"dataframe\">\n",
       "  <thead>\n",
       "    <tr style=\"text-align: right;\">\n",
       "      <th></th>\n",
       "      <th>franchID</th>\n",
       "      <th>franchName</th>\n",
       "      <th>active</th>\n",
       "    </tr>\n",
       "  </thead>\n",
       "  <tbody>\n",
       "    <tr>\n",
       "      <th>0</th>\n",
       "      <td>ALT</td>\n",
       "      <td>Altoona Mountain City</td>\n",
       "      <td>N</td>\n",
       "    </tr>\n",
       "    <tr>\n",
       "      <th>1</th>\n",
       "      <td>ANA</td>\n",
       "      <td>Los Angeles Angels of Anaheim</td>\n",
       "      <td>Y</td>\n",
       "    </tr>\n",
       "    <tr>\n",
       "      <th>2</th>\n",
       "      <td>ARI</td>\n",
       "      <td>Arizona Diamondbacks</td>\n",
       "      <td>Y</td>\n",
       "    </tr>\n",
       "    <tr>\n",
       "      <th>3</th>\n",
       "      <td>ATH</td>\n",
       "      <td>Philadelphia Athletics</td>\n",
       "      <td>N</td>\n",
       "    </tr>\n",
       "    <tr>\n",
       "      <th>4</th>\n",
       "      <td>ATL</td>\n",
       "      <td>Atlanta Braves</td>\n",
       "      <td>Y</td>\n",
       "    </tr>\n",
       "  </tbody>\n",
       "</table>\n",
       "</div>"
      ],
      "text/plain": [
       "  franchID                     franchName active\n",
       "0      ALT          Altoona Mountain City      N\n",
       "1      ANA  Los Angeles Angels of Anaheim      Y\n",
       "2      ARI           Arizona Diamondbacks      Y\n",
       "3      ATH         Philadelphia Athletics      N\n",
       "4      ATL                 Atlanta Braves      Y"
      ]
     },
     "metadata": {},
     "output_type": "display_data"
    }
   ],
   "source": [
    "'''Import data from the Sean Lahman baseball dataset. Create initial dataframes'''\n",
    "\n",
    "\n",
    "batting_data = \"./data/csv_data/core/Batting.csv\"\n",
    "people_data = \"./data/csv_data/core/People.csv\"\n",
    "fielding_data = \"./data/csv_data/core/Fielding.csv\"\n",
    "franchise_data = \"./data/csv_data/core/TeamsFranchises.csv\"\n",
    "teams_data = \"./data/csv_data/core/Teams.csv\"\n",
    "appearances_data = \"./data/csv_data/core/Appearances.csv\"\n",
    "park_data = \"./data/csv_data/core/Parks.csv\"\n",
    "\n",
    "# include all batting columns\n",
    "# include all appearances columns\n",
    "# include all parks columns\n",
    "\n",
    "people_cols = ['playerID', 'birthYear', 'birthMonth', 'nameFirst', 'nameLast', 'nameGiven', 'weight', 'height', 'bats', 'throws', 'debut', 'finalGame', 'retroID', 'bbrefID']\n",
    "\n",
    "fielding_cols = ['playerID', 'yearID', 'stint', 'teamID', 'lgID', 'POS', 'G', 'GS']\n",
    "\n",
    "team_cols = ['yearID', 'lgID', 'teamID', 'franchID', 'divID', 'Rank', 'G', 'Ghome', 'W', 'L', 'park']\n",
    "\n",
    "franch_cols = ['franchID', 'franchName', 'active']\n",
    "\n",
    "\n",
    "df_batting = pd.read_csv(batting_data, header=0)\n",
    "df_app = pd.read_csv(appearances_data, header=0)\n",
    "df_parks = pd.read_csv(park_data, header=0)\n",
    "df_people = pd.read_csv(people_data, header=0, usecols=people_cols)\n",
    "df_fielding = pd.read_csv(fielding_data, header=0, usecols=fielding_cols)\n",
    "df_teams = pd.read_csv(teams_data, header=0, usecols=team_cols)\n",
    "df_franch = pd.read_csv(franchise_data, header=0, usecols=franch_cols)\n",
    "\n",
    "display(df_batting.head(5))\n",
    "display(df_app.head(5))\n",
    "display(df_parks.head(5))\n",
    "display(df_people.head(5))\n",
    "display(df_fielding.head(5))\n",
    "display(df_teams.head(5))\n",
    "display(df_franch.head(5))"
   ]
  },
  {
   "cell_type": "markdown",
   "metadata": {},
   "source": [
    "In order to filter/merge the ballparks based on teams parks needs to be extended in order to account for alias name references."
   ]
  },
  {
   "cell_type": "code",
   "execution_count": 3,
   "metadata": {},
   "outputs": [
    {
     "name": "stdout",
     "output_type": "stream",
     "text": [
      "Number of parks not including alias names: 255\n",
      "Number of parks including alias names 326\n"
     ]
    }
   ],
   "source": [
    "df_park_split = df_parks['park.alias'].str.split(\";\", n=5, expand=True)\n",
    "#display(df_park_split)\n",
    "\n",
    "df_parks2 = df_parks.merge(df_park_split, how='left', left_index=True, right_index=True)\n",
    "#display(df_parks2.head(5))\n",
    "\n",
    "df_park_extend_0 = df_parks2[['park.key', 0, 'city', 'state', 'country']]\n",
    "df_park_extend_1 = df_parks2[['park.key', 1, 'city', 'state', 'country']]\n",
    "df_park_extend_2 = df_parks2[['park.key', 2, 'city', 'state', 'country']]\n",
    "df_park_extend_3 = df_parks2[['park.key', 3, 'city', 'state', 'country']]\n",
    "\n",
    "df_park_extend_0.rename(columns={0: 'park.name'}, inplace=True)\n",
    "df_park_extend_1.rename(columns={1: 'park.name'}, inplace=True)\n",
    "df_park_extend_2.rename(columns={2: 'park.name'}, inplace=True)\n",
    "df_park_extend_3.rename(columns={3: 'park.name'}, inplace=True)\n",
    "\n",
    "df_park_extend_0.dropna(subset=['park.name'], inplace=True)\n",
    "df_park_extend_1.dropna(subset=['park.name'], inplace=True)\n",
    "df_park_extend_2.dropna(subset=['park.name'], inplace=True)\n",
    "df_park_extend_3.dropna(subset=['park.name'], inplace=True)\n",
    "\n",
    "print(f\"Number of parks not including alias names: {len(df_parks.index)}\")\n",
    "\n",
    "df_parks = df_parks.append(df_park_extend_0, ignore_index=True)\n",
    "df_parks = df_parks.append(df_park_extend_1, ignore_index=True)\n",
    "df_parks = df_parks.append(df_park_extend_2, ignore_index=True)\n",
    "df_parks = df_parks.append(df_park_extend_3, ignore_index=True)\n",
    "\n",
    "df_parks.drop_duplicates(inplace=True, ignore_index=True)\n",
    "\n",
    "print(f\"Number of parks including alias names {len(df_parks.index)}\")\n",
    "#display(df_parks.head(5))\n",
    "#display(df_parks.tail(5))"
   ]
  },
  {
   "cell_type": "markdown",
   "metadata": {},
   "source": [
    "Initial Constrains:\n",
    "- Minimum number of at bats = 150\n",
    "- Exclude Pitchers\n",
    "    - players that are pitchers the majority of their games played\n",
    "- Minimum debut year = 1970\n",
    "    - we want the stats of a player over his full career and stats prior to this year may be missing and/or inaccurate\n",
    "    - drop players with missing debut year\n"
   ]
  },
  {
   "cell_type": "code",
   "execution_count": 4,
   "metadata": {},
   "outputs": [
    {
     "name": "stdout",
     "output_type": "stream",
     "text": [
      "19892\n",
      "9193\n",
      "9193\n"
     ]
    }
   ],
   "source": [
    "'''Calculate player experience based on their debut year'''\n",
    "\n",
    "df_people = df_people.dropna(axis=0, subset=['debut'])\n",
    "\n",
    "def get_year(cell):\n",
    "\n",
    "    if isinstance(cell, str):\n",
    "        debut_dt = dt.datetime.strptime(cell, \"%Y-%m-%d\")\n",
    "        return debut_dt.year \n",
    "    \n",
    "    return np.nan\n",
    "\n",
    "def get_month(cell):\n",
    "\n",
    "    if isinstance(cell, str):\n",
    "        final_dt = dt.datetime.strptime(cell, \"%Y-%m-%d\")\n",
    "        return final_dt.month\n",
    "    \n",
    "    return np.nan\n",
    "\n",
    "df_people['debut_yr'] = df_people['debut'].apply(get_year)\n",
    "\n",
    "print(len(df_people.index))\n",
    "df_people = df_people[df_people['debut_yr'] > 1970]\n",
    "print(len(df_people.index))\n",
    "\n",
    "df_people['final_month'] = df_people['finalGame'].apply(get_month)\n",
    "df_people['final_yr'] = df_people['finalGame'].apply(get_year)\n",
    "df_people['final_yr_adj'] = np.where(df_people['final_month'] < 5, df_people['final_yr'] - 1, df_people['final_yr'])\n",
    "df_people['seasons_exp'] = df_people['final_yr_adj'] - df_people['debut_yr']\n",
    "\n",
    "print(len(df_people.index)) # shouldn't change"
   ]
  },
  {
   "cell_type": "markdown",
   "metadata": {},
   "source": [
    "Get actual number of seasons played and check if a player missed any seasons.\n",
    "This captures any missing seasons, regardless of reason (injuries, time off, or our exclusion critieria)"
   ]
  },
  {
   "cell_type": "code",
   "execution_count": 5,
   "metadata": {},
   "outputs": [
    {
     "data": {
      "text/html": [
       "<div>\n",
       "<style scoped>\n",
       "    .dataframe tbody tr th:only-of-type {\n",
       "        vertical-align: middle;\n",
       "    }\n",
       "\n",
       "    .dataframe tbody tr th {\n",
       "        vertical-align: top;\n",
       "    }\n",
       "\n",
       "    .dataframe thead th {\n",
       "        text-align: right;\n",
       "    }\n",
       "</style>\n",
       "<table border=\"1\" class=\"dataframe\">\n",
       "  <thead>\n",
       "    <tr style=\"text-align: right;\">\n",
       "      <th></th>\n",
       "      <th>playerID</th>\n",
       "      <th>seasons_act</th>\n",
       "    </tr>\n",
       "  </thead>\n",
       "  <tbody>\n",
       "    <tr>\n",
       "      <th>0</th>\n",
       "      <td>aardsda01</td>\n",
       "      <td>9</td>\n",
       "    </tr>\n",
       "    <tr>\n",
       "      <th>1</th>\n",
       "      <td>aaronha01</td>\n",
       "      <td>23</td>\n",
       "    </tr>\n",
       "    <tr>\n",
       "      <th>2</th>\n",
       "      <td>aaronto01</td>\n",
       "      <td>7</td>\n",
       "    </tr>\n",
       "    <tr>\n",
       "      <th>3</th>\n",
       "      <td>aasedo01</td>\n",
       "      <td>13</td>\n",
       "    </tr>\n",
       "    <tr>\n",
       "      <th>4</th>\n",
       "      <td>abadan01</td>\n",
       "      <td>3</td>\n",
       "    </tr>\n",
       "  </tbody>\n",
       "</table>\n",
       "</div>"
      ],
      "text/plain": [
       "    playerID  seasons_act\n",
       "0  aardsda01            9\n",
       "1  aaronha01           23\n",
       "2  aaronto01            7\n",
       "3   aasedo01           13\n",
       "4   abadan01            3"
      ]
     },
     "metadata": {},
     "output_type": "display_data"
    },
    {
     "name": "stdout",
     "output_type": "stream",
     "text": [
      "9192\n"
     ]
    },
    {
     "data": {
      "text/html": [
       "<div>\n",
       "<style scoped>\n",
       "    .dataframe tbody tr th:only-of-type {\n",
       "        vertical-align: middle;\n",
       "    }\n",
       "\n",
       "    .dataframe tbody tr th {\n",
       "        vertical-align: top;\n",
       "    }\n",
       "\n",
       "    .dataframe thead th {\n",
       "        text-align: right;\n",
       "    }\n",
       "</style>\n",
       "<table border=\"1\" class=\"dataframe\">\n",
       "  <thead>\n",
       "    <tr style=\"text-align: right;\">\n",
       "      <th></th>\n",
       "      <th>playerID</th>\n",
       "      <th>birthYear</th>\n",
       "      <th>birthMonth</th>\n",
       "      <th>nameFirst</th>\n",
       "      <th>nameLast</th>\n",
       "      <th>nameGiven</th>\n",
       "      <th>weight</th>\n",
       "      <th>height</th>\n",
       "      <th>bats</th>\n",
       "      <th>throws</th>\n",
       "      <th>...</th>\n",
       "      <th>finalGame</th>\n",
       "      <th>retroID</th>\n",
       "      <th>bbrefID</th>\n",
       "      <th>debut_yr</th>\n",
       "      <th>final_month</th>\n",
       "      <th>final_yr</th>\n",
       "      <th>final_yr_adj</th>\n",
       "      <th>seasons_exp</th>\n",
       "      <th>seasons_act</th>\n",
       "      <th>missed_any</th>\n",
       "    </tr>\n",
       "  </thead>\n",
       "  <tbody>\n",
       "    <tr>\n",
       "      <th>0</th>\n",
       "      <td>aardsda01</td>\n",
       "      <td>1981.0</td>\n",
       "      <td>12.0</td>\n",
       "      <td>David</td>\n",
       "      <td>Aardsma</td>\n",
       "      <td>David Allan</td>\n",
       "      <td>215.0</td>\n",
       "      <td>75.0</td>\n",
       "      <td>R</td>\n",
       "      <td>R</td>\n",
       "      <td>...</td>\n",
       "      <td>2015-08-23</td>\n",
       "      <td>aardd001</td>\n",
       "      <td>aardsda01</td>\n",
       "      <td>2004</td>\n",
       "      <td>8</td>\n",
       "      <td>2015</td>\n",
       "      <td>2015</td>\n",
       "      <td>11</td>\n",
       "      <td>9.0</td>\n",
       "      <td>1</td>\n",
       "    </tr>\n",
       "    <tr>\n",
       "      <th>1</th>\n",
       "      <td>aasedo01</td>\n",
       "      <td>1954.0</td>\n",
       "      <td>9.0</td>\n",
       "      <td>Don</td>\n",
       "      <td>Aase</td>\n",
       "      <td>Donald William</td>\n",
       "      <td>190.0</td>\n",
       "      <td>75.0</td>\n",
       "      <td>R</td>\n",
       "      <td>R</td>\n",
       "      <td>...</td>\n",
       "      <td>1990-10-03</td>\n",
       "      <td>aased001</td>\n",
       "      <td>aasedo01</td>\n",
       "      <td>1977</td>\n",
       "      <td>10</td>\n",
       "      <td>1990</td>\n",
       "      <td>1990</td>\n",
       "      <td>13</td>\n",
       "      <td>13.0</td>\n",
       "      <td>0</td>\n",
       "    </tr>\n",
       "    <tr>\n",
       "      <th>2</th>\n",
       "      <td>abadan01</td>\n",
       "      <td>1972.0</td>\n",
       "      <td>8.0</td>\n",
       "      <td>Andy</td>\n",
       "      <td>Abad</td>\n",
       "      <td>Fausto Andres</td>\n",
       "      <td>184.0</td>\n",
       "      <td>73.0</td>\n",
       "      <td>L</td>\n",
       "      <td>L</td>\n",
       "      <td>...</td>\n",
       "      <td>2006-04-13</td>\n",
       "      <td>abada001</td>\n",
       "      <td>abadan01</td>\n",
       "      <td>2001</td>\n",
       "      <td>4</td>\n",
       "      <td>2006</td>\n",
       "      <td>2005</td>\n",
       "      <td>4</td>\n",
       "      <td>3.0</td>\n",
       "      <td>1</td>\n",
       "    </tr>\n",
       "    <tr>\n",
       "      <th>3</th>\n",
       "      <td>abadfe01</td>\n",
       "      <td>1985.0</td>\n",
       "      <td>12.0</td>\n",
       "      <td>Fernando</td>\n",
       "      <td>Abad</td>\n",
       "      <td>Fernando Antonio</td>\n",
       "      <td>235.0</td>\n",
       "      <td>74.0</td>\n",
       "      <td>L</td>\n",
       "      <td>L</td>\n",
       "      <td>...</td>\n",
       "      <td>2019-09-28</td>\n",
       "      <td>abadf001</td>\n",
       "      <td>abadfe01</td>\n",
       "      <td>2010</td>\n",
       "      <td>9</td>\n",
       "      <td>2019</td>\n",
       "      <td>2019</td>\n",
       "      <td>9</td>\n",
       "      <td>10.0</td>\n",
       "      <td>1</td>\n",
       "    </tr>\n",
       "    <tr>\n",
       "      <th>4</th>\n",
       "      <td>abbotgl01</td>\n",
       "      <td>1951.0</td>\n",
       "      <td>2.0</td>\n",
       "      <td>Glenn</td>\n",
       "      <td>Abbott</td>\n",
       "      <td>William Glenn</td>\n",
       "      <td>200.0</td>\n",
       "      <td>78.0</td>\n",
       "      <td>R</td>\n",
       "      <td>R</td>\n",
       "      <td>...</td>\n",
       "      <td>1984-08-08</td>\n",
       "      <td>abbog001</td>\n",
       "      <td>abbotgl01</td>\n",
       "      <td>1973</td>\n",
       "      <td>8</td>\n",
       "      <td>1984</td>\n",
       "      <td>1984</td>\n",
       "      <td>11</td>\n",
       "      <td>12.0</td>\n",
       "      <td>1</td>\n",
       "    </tr>\n",
       "  </tbody>\n",
       "</table>\n",
       "<p>5 rows × 21 columns</p>\n",
       "</div>"
      ],
      "text/plain": [
       "    playerID  birthYear  birthMonth nameFirst nameLast         nameGiven  \\\n",
       "0  aardsda01     1981.0        12.0     David  Aardsma       David Allan   \n",
       "1   aasedo01     1954.0         9.0       Don     Aase    Donald William   \n",
       "2   abadan01     1972.0         8.0      Andy     Abad     Fausto Andres   \n",
       "3   abadfe01     1985.0        12.0  Fernando     Abad  Fernando Antonio   \n",
       "4  abbotgl01     1951.0         2.0     Glenn   Abbott     William Glenn   \n",
       "\n",
       "   weight  height bats throws  ...   finalGame   retroID    bbrefID debut_yr  \\\n",
       "0   215.0    75.0    R      R  ...  2015-08-23  aardd001  aardsda01     2004   \n",
       "1   190.0    75.0    R      R  ...  1990-10-03  aased001   aasedo01     1977   \n",
       "2   184.0    73.0    L      L  ...  2006-04-13  abada001   abadan01     2001   \n",
       "3   235.0    74.0    L      L  ...  2019-09-28  abadf001   abadfe01     2010   \n",
       "4   200.0    78.0    R      R  ...  1984-08-08  abbog001  abbotgl01     1973   \n",
       "\n",
       "   final_month  final_yr  final_yr_adj  seasons_exp  seasons_act  missed_any  \n",
       "0            8      2015          2015           11          9.0           1  \n",
       "1           10      1990          1990           13         13.0           0  \n",
       "2            4      2006          2005            4          3.0           1  \n",
       "3            9      2019          2019            9         10.0           1  \n",
       "4            8      1984          1984           11         12.0           1  \n",
       "\n",
       "[5 rows x 21 columns]"
      ]
     },
     "metadata": {},
     "output_type": "display_data"
    }
   ],
   "source": [
    "batting_seasons = df_batting[['playerID', 'yearID']]\n",
    "season_count = batting_seasons.groupby(['playerID'])['yearID'].count()\n",
    "season_count = season_count.to_frame().reset_index().rename(columns={'yearID': 'seasons_act'})\n",
    "display(season_count.head())\n",
    "\n",
    "df_people = df_people.merge(season_count, how='left', on='playerID')\n",
    "df_people.dropna(subset=['seasons_act'], inplace=True) # don't need to do this if I do inner merge\n",
    "df_people['missed_any'] = np.where(df_people['seasons_exp'] != df_people['seasons_act'], 1, 0)\n",
    "\n",
    "print(len(df_people.index))\n",
    "display(df_people.head())"
   ]
  },
  {
   "cell_type": "markdown",
   "metadata": {},
   "source": [
    "Identify player's primary position and filter out pitchers."
   ]
  },
  {
   "cell_type": "code",
   "execution_count": 6,
   "metadata": {},
   "outputs": [
    {
     "name": "stdout",
     "output_type": "stream",
     "text": [
      "9192\n",
      "4096\n"
     ]
    }
   ],
   "source": [
    "# identify player by primary position\n",
    "df_pos = df_fielding.groupby(['playerID', 'POS'])['G'].count()\n",
    "df_pos = df_pos.unstack()\n",
    "\n",
    "pos_cols = ['1B', '2B', '3B', 'C', 'OF', 'P', 'SS']\n",
    "\n",
    "def get_main_pos(row):\n",
    "    # return col name for max pos\n",
    "    max_col_val = 0\n",
    "    max_col = ''\n",
    "    for col in pos_cols:\n",
    "        if row[col] > max_col_val:\n",
    "            max_col = col\n",
    "\n",
    "    return max_col\n",
    "\n",
    "df_pos['p_pos'] = df_pos.apply(get_main_pos, axis=1) \n",
    "df_pos.reset_index(inplace=True)\n",
    "df_pos = df_pos[['playerID', 'p_pos']]\n",
    "df_pos = df_pos.rename_axis(None, axis=1)\n",
    "#display(df_pos.head(5))\n",
    "print(len(df_people.index))\n",
    "df_people = df_people.merge(df_pos, how='inner', on='playerID')\n",
    "df_people = df_people[df_people['p_pos'] != 'P']\n",
    "print(len(df_people.index))"
   ]
  },
  {
   "cell_type": "code",
   "execution_count": 7,
   "metadata": {},
   "outputs": [
    {
     "name": "stdout",
     "output_type": "stream",
     "text": [
      "Batting start count: 108789\n",
      "Appearance start cound: 108717\n",
      "Parks start count: 326\n",
      "Fielding start count: 144768\n",
      "Teams start count: 2955\n",
      "Franchise start count: 120\n",
      "\n",
      " ---------- \n",
      "\n",
      "Batting end count: 26665\n",
      "Appearance end count: 26652\n",
      "Parks end count: 61\n",
      "Fielding end count: 42100\n",
      "Teams end count: 1414\n",
      "Franchise end count: 30\n"
     ]
    }
   ],
   "source": [
    "debut_filter = df_people[['playerID']]\n",
    "\n",
    "print(f\"Batting start count: {len(df_batting.index)}\")\n",
    "print(f\"Appearance start cound: {len(df_app.index)}\")\n",
    "print(f\"Parks start count: {len(df_parks.index)}\")\n",
    "print(f\"Fielding start count: {len(df_fielding.index)}\")\n",
    "print(f\"Teams start count: {len(df_teams.index)}\")\n",
    "print(f\"Franchise start count: {len(df_franch.index)}\")\n",
    "\n",
    "# Filter the remaining dataframes to include restricted player sample\n",
    "df_batting = df_batting.merge(debut_filter, how='inner', on='playerID') \n",
    "df_app = df_app.merge(debut_filter, how='inner', on='playerID') \n",
    "df_fielding = df_fielding.merge(debut_filter, how='inner', on='playerID')\n",
    "\n",
    "# Teams can be filtered by yearID\n",
    "df_teams = df_teams[df_teams['yearID'] >= 1970]\n",
    "\n",
    "# Parks can be filtered by remaining parks from filtered teams\n",
    "park_filter = df_teams[['park']]\n",
    "df_parks = df_parks.merge(park_filter, how='inner', left_on='park.name', right_on='park')\n",
    "\n",
    "# Franchises can be filtered by remaining franchID from filtered teams\n",
    "franch_filter = df_teams[['franchID']]\n",
    "df_franch = df_franch.merge(franch_filter, how='inner', on='franchID')\n",
    "\n",
    "df_batting.drop_duplicates(inplace=True, ignore_index=True)\n",
    "df_app.drop_duplicates(inplace=True, ignore_index=True)\n",
    "df_fielding.drop_duplicates(inplace=True, ignore_index=True)\n",
    "df_teams.drop_duplicates(inplace=True, ignore_index=True)\n",
    "df_parks.drop_duplicates(inplace=True, ignore_index=True)\n",
    "df_franch.drop_duplicates(inplace=True, ignore_index=True)\n",
    "\n",
    "\n",
    "print(\"\\n ---------- \\n\")\n",
    "print(f\"Batting end count: {len(df_batting.index)}\")\n",
    "print(f\"Appearance end count: {len(df_app.index)}\")\n",
    "print(f\"Parks end count: {len(df_parks.index)}\")\n",
    "print(f\"Fielding end count: {len(df_fielding.index)}\")\n",
    "print(f\"Teams end count: {len(df_teams.index)}\")\n",
    "print(f\"Franchise end count: {len(df_franch.index)}\")"
   ]
  },
  {
   "cell_type": "code",
   "execution_count": 8,
   "metadata": {},
   "outputs": [
    {
     "name": "stdout",
     "output_type": "stream",
     "text": [
      "Final count of batting instances: 14224\n"
     ]
    }
   ],
   "source": [
    "# Only include instances where a player had at least the minimum number of at bats\n",
    "ab_min = 150\n",
    "df_batting = df_batting[df_batting.AB >= ab_min]\n",
    "print(f\"Final count of batting instances: {len(df_batting.index)}\")"
   ]
  },
  {
   "cell_type": "markdown",
   "metadata": {},
   "source": [
    "Calculate TB, OBP, SLG, and OPS"
   ]
  },
  {
   "cell_type": "code",
   "execution_count": 9,
   "metadata": {},
   "outputs": [],
   "source": [
    "df_batting['1B'] = df_batting['H'] - (df_batting['2B'] + df_batting['3B'] + df_batting['HR'])\n",
    "df_batting['TB'] = df_batting['1B'] + (df_batting['2B'] * 2) + (df_batting['3B'] * 3) + (df_batting['HR'] * 4)\n",
    "df_batting['obp'] = (df_batting.H + df_batting.BB + df_batting.HBP) / (df_batting.AB + df_batting.BB + df_batting.SF + df_batting.HBP)\n",
    "df_batting['slg'] = df_batting.TB / df_batting.AB\n",
    "df_batting['ops'] = df_batting['obp'] + df_batting['slg']"
   ]
  },
  {
   "cell_type": "markdown",
   "metadata": {},
   "source": [
    "Identify if a player bats and throws with the same hand (bt_same)"
   ]
  },
  {
   "cell_type": "code",
   "execution_count": 10,
   "metadata": {},
   "outputs": [],
   "source": [
    "df_people['bt_same'] = np.where(df_people['bats'] == df_people['throws'], 1, 0)"
   ]
  },
  {
   "cell_type": "markdown",
   "metadata": {},
   "source": [
    "Calculate Players Age and years of experience (yoe)"
   ]
  },
  {
   "cell_type": "code",
   "execution_count": 11,
   "metadata": {},
   "outputs": [
    {
     "name": "stdout",
     "output_type": "stream",
     "text": [
      "14224\n"
     ]
    },
    {
     "data": {
      "text/html": [
       "<div>\n",
       "<style scoped>\n",
       "    .dataframe tbody tr th:only-of-type {\n",
       "        vertical-align: middle;\n",
       "    }\n",
       "\n",
       "    .dataframe tbody tr th {\n",
       "        vertical-align: top;\n",
       "    }\n",
       "\n",
       "    .dataframe thead th {\n",
       "        text-align: right;\n",
       "    }\n",
       "</style>\n",
       "<table border=\"1\" class=\"dataframe\">\n",
       "  <thead>\n",
       "    <tr style=\"text-align: right;\">\n",
       "      <th></th>\n",
       "      <th>playerID</th>\n",
       "      <th>yearID</th>\n",
       "      <th>stint</th>\n",
       "      <th>teamID</th>\n",
       "      <th>lgID</th>\n",
       "      <th>G</th>\n",
       "      <th>AB</th>\n",
       "      <th>R</th>\n",
       "      <th>H</th>\n",
       "      <th>2B</th>\n",
       "      <th>...</th>\n",
       "      <th>ops</th>\n",
       "      <th>final_yr_adj</th>\n",
       "      <th>debut_yr</th>\n",
       "      <th>missed_any</th>\n",
       "      <th>bt_same</th>\n",
       "      <th>p_pos</th>\n",
       "      <th>height</th>\n",
       "      <th>weight</th>\n",
       "      <th>age</th>\n",
       "      <th>yoe</th>\n",
       "    </tr>\n",
       "  </thead>\n",
       "  <tbody>\n",
       "    <tr>\n",
       "      <th>0</th>\n",
       "      <td>arnolch01</td>\n",
       "      <td>1974</td>\n",
       "      <td>1</td>\n",
       "      <td>SFN</td>\n",
       "      <td>NL</td>\n",
       "      <td>78</td>\n",
       "      <td>174</td>\n",
       "      <td>22</td>\n",
       "      <td>42</td>\n",
       "      <td>7</td>\n",
       "      <td>...</td>\n",
       "      <td>0.635417</td>\n",
       "      <td>1976</td>\n",
       "      <td>1971</td>\n",
       "      <td>1</td>\n",
       "      <td>1</td>\n",
       "      <td>SS</td>\n",
       "      <td>70.0</td>\n",
       "      <td>160.0</td>\n",
       "      <td>27.0</td>\n",
       "      <td>3</td>\n",
       "    </tr>\n",
       "    <tr>\n",
       "      <th>1</th>\n",
       "      <td>auerbri01</td>\n",
       "      <td>1971</td>\n",
       "      <td>1</td>\n",
       "      <td>ML4</td>\n",
       "      <td>AL</td>\n",
       "      <td>79</td>\n",
       "      <td>236</td>\n",
       "      <td>22</td>\n",
       "      <td>48</td>\n",
       "      <td>10</td>\n",
       "      <td>...</td>\n",
       "      <td>0.529792</td>\n",
       "      <td>1981</td>\n",
       "      <td>1971</td>\n",
       "      <td>1</td>\n",
       "      <td>1</td>\n",
       "      <td>SS</td>\n",
       "      <td>72.0</td>\n",
       "      <td>165.0</td>\n",
       "      <td>21.0</td>\n",
       "      <td>0</td>\n",
       "    </tr>\n",
       "    <tr>\n",
       "      <th>2</th>\n",
       "      <td>auerbri01</td>\n",
       "      <td>1972</td>\n",
       "      <td>1</td>\n",
       "      <td>ML4</td>\n",
       "      <td>AL</td>\n",
       "      <td>153</td>\n",
       "      <td>554</td>\n",
       "      <td>50</td>\n",
       "      <td>121</td>\n",
       "      <td>16</td>\n",
       "      <td>...</td>\n",
       "      <td>0.545620</td>\n",
       "      <td>1981</td>\n",
       "      <td>1971</td>\n",
       "      <td>1</td>\n",
       "      <td>1</td>\n",
       "      <td>SS</td>\n",
       "      <td>72.0</td>\n",
       "      <td>165.0</td>\n",
       "      <td>22.0</td>\n",
       "      <td>1</td>\n",
       "    </tr>\n",
       "    <tr>\n",
       "      <th>3</th>\n",
       "      <td>auerbri01</td>\n",
       "      <td>1975</td>\n",
       "      <td>1</td>\n",
       "      <td>LAN</td>\n",
       "      <td>NL</td>\n",
       "      <td>85</td>\n",
       "      <td>170</td>\n",
       "      <td>18</td>\n",
       "      <td>38</td>\n",
       "      <td>9</td>\n",
       "      <td>...</td>\n",
       "      <td>0.574343</td>\n",
       "      <td>1981</td>\n",
       "      <td>1971</td>\n",
       "      <td>1</td>\n",
       "      <td>1</td>\n",
       "      <td>SS</td>\n",
       "      <td>72.0</td>\n",
       "      <td>165.0</td>\n",
       "      <td>25.0</td>\n",
       "      <td>4</td>\n",
       "    </tr>\n",
       "    <tr>\n",
       "      <th>4</th>\n",
       "      <td>beniqju01</td>\n",
       "      <td>1974</td>\n",
       "      <td>1</td>\n",
       "      <td>BOS</td>\n",
       "      <td>AL</td>\n",
       "      <td>106</td>\n",
       "      <td>389</td>\n",
       "      <td>60</td>\n",
       "      <td>104</td>\n",
       "      <td>14</td>\n",
       "      <td>...</td>\n",
       "      <td>0.669826</td>\n",
       "      <td>1988</td>\n",
       "      <td>1971</td>\n",
       "      <td>1</td>\n",
       "      <td>1</td>\n",
       "      <td>SS</td>\n",
       "      <td>71.0</td>\n",
       "      <td>150.0</td>\n",
       "      <td>24.0</td>\n",
       "      <td>3</td>\n",
       "    </tr>\n",
       "  </tbody>\n",
       "</table>\n",
       "<p>5 rows × 36 columns</p>\n",
       "</div>"
      ],
      "text/plain": [
       "    playerID  yearID  stint teamID lgID    G   AB   R    H  2B  ...       ops  \\\n",
       "0  arnolch01    1974      1    SFN   NL   78  174  22   42   7  ...  0.635417   \n",
       "1  auerbri01    1971      1    ML4   AL   79  236  22   48  10  ...  0.529792   \n",
       "2  auerbri01    1972      1    ML4   AL  153  554  50  121  16  ...  0.545620   \n",
       "3  auerbri01    1975      1    LAN   NL   85  170  18   38   9  ...  0.574343   \n",
       "4  beniqju01    1974      1    BOS   AL  106  389  60  104  14  ...  0.669826   \n",
       "\n",
       "   final_yr_adj  debut_yr  missed_any  bt_same  p_pos  height  weight   age  \\\n",
       "0          1976      1971           1        1     SS    70.0   160.0  27.0   \n",
       "1          1981      1971           1        1     SS    72.0   165.0  21.0   \n",
       "2          1981      1971           1        1     SS    72.0   165.0  22.0   \n",
       "3          1981      1971           1        1     SS    72.0   165.0  25.0   \n",
       "4          1988      1971           1        1     SS    71.0   150.0  24.0   \n",
       "\n",
       "   yoe  \n",
       "0    3  \n",
       "1    0  \n",
       "2    1  \n",
       "3    4  \n",
       "4    3  \n",
       "\n",
       "[5 rows x 36 columns]"
      ]
     },
     "metadata": {},
     "output_type": "display_data"
    }
   ],
   "source": [
    "df_birth_years = df_people[['playerID','birthYear', 'final_yr_adj', 'debut_yr', 'missed_any', 'bt_same', 'p_pos', 'height', 'weight']]\n",
    "\n",
    "df_main = df_batting.merge(df_birth_years, how='inner', on='playerID')\n",
    "df_main['age'] = df_main['yearID'] - df_main['birthYear']\n",
    "df_main['yoe'] = df_main['yearID'] - df_main['debut_yr']\n",
    "\n",
    "df_main.drop(columns=['birthYear'], inplace=True)\n",
    "print(len(df_main.index))\n",
    "display(df_main.head())"
   ]
  },
  {
   "cell_type": "markdown",
   "metadata": {},
   "source": [
    "Calculate adjusted years of experience (yoe_adj).\n",
    "you_adj is the numbers of years a player has been included in our data.\n",
    "i.e. only count seasons they played and had at least X number of at bats."
   ]
  },
  {
   "cell_type": "code",
   "execution_count": 12,
   "metadata": {},
   "outputs": [
    {
     "name": "stdout",
     "output_type": "stream",
     "text": [
      "[1973, 1974, 1976, 1977, 1978, 1979, 1980, 1981]\n"
     ]
    },
    {
     "data": {
      "text/html": [
       "<div>\n",
       "<style scoped>\n",
       "    .dataframe tbody tr th:only-of-type {\n",
       "        vertical-align: middle;\n",
       "    }\n",
       "\n",
       "    .dataframe tbody tr th {\n",
       "        vertical-align: top;\n",
       "    }\n",
       "\n",
       "    .dataframe thead th {\n",
       "        text-align: right;\n",
       "    }\n",
       "</style>\n",
       "<table border=\"1\" class=\"dataframe\">\n",
       "  <thead>\n",
       "    <tr style=\"text-align: right;\">\n",
       "      <th></th>\n",
       "      <th>playerID</th>\n",
       "      <th>yearID</th>\n",
       "      <th>yoe_adj</th>\n",
       "    </tr>\n",
       "  </thead>\n",
       "  <tbody>\n",
       "    <tr>\n",
       "      <th>1</th>\n",
       "      <td>auerbri01</td>\n",
       "      <td>1971</td>\n",
       "      <td>0</td>\n",
       "    </tr>\n",
       "    <tr>\n",
       "      <th>2</th>\n",
       "      <td>auerbri01</td>\n",
       "      <td>1972</td>\n",
       "      <td>1</td>\n",
       "    </tr>\n",
       "    <tr>\n",
       "      <th>3</th>\n",
       "      <td>auerbri01</td>\n",
       "      <td>1975</td>\n",
       "      <td>2</td>\n",
       "    </tr>\n",
       "  </tbody>\n",
       "</table>\n",
       "</div>"
      ],
      "text/plain": [
       "    playerID  yearID  yoe_adj\n",
       "1  auerbri01    1971        0\n",
       "2  auerbri01    1972        1\n",
       "3  auerbri01    1975        2"
      ]
     },
     "metadata": {},
     "output_type": "display_data"
    },
    {
     "data": {
      "text/html": [
       "<div>\n",
       "<style scoped>\n",
       "    .dataframe tbody tr th:only-of-type {\n",
       "        vertical-align: middle;\n",
       "    }\n",
       "\n",
       "    .dataframe tbody tr th {\n",
       "        vertical-align: top;\n",
       "    }\n",
       "\n",
       "    .dataframe thead th {\n",
       "        text-align: right;\n",
       "    }\n",
       "</style>\n",
       "<table border=\"1\" class=\"dataframe\">\n",
       "  <thead>\n",
       "    <tr style=\"text-align: right;\">\n",
       "      <th></th>\n",
       "      <th>playerID</th>\n",
       "      <th>yearID</th>\n",
       "      <th>stint</th>\n",
       "      <th>teamID</th>\n",
       "      <th>lgID</th>\n",
       "      <th>G</th>\n",
       "      <th>AB</th>\n",
       "      <th>R</th>\n",
       "      <th>H</th>\n",
       "      <th>2B</th>\n",
       "      <th>...</th>\n",
       "      <th>final_yr_adj</th>\n",
       "      <th>debut_yr</th>\n",
       "      <th>missed_any</th>\n",
       "      <th>bt_same</th>\n",
       "      <th>p_pos</th>\n",
       "      <th>height</th>\n",
       "      <th>weight</th>\n",
       "      <th>age</th>\n",
       "      <th>yoe</th>\n",
       "      <th>yoe_adj</th>\n",
       "    </tr>\n",
       "  </thead>\n",
       "  <tbody>\n",
       "    <tr>\n",
       "      <th>1</th>\n",
       "      <td>auerbri01</td>\n",
       "      <td>1971</td>\n",
       "      <td>1</td>\n",
       "      <td>ML4</td>\n",
       "      <td>AL</td>\n",
       "      <td>79</td>\n",
       "      <td>236</td>\n",
       "      <td>22</td>\n",
       "      <td>48</td>\n",
       "      <td>10</td>\n",
       "      <td>...</td>\n",
       "      <td>1981</td>\n",
       "      <td>1971</td>\n",
       "      <td>1</td>\n",
       "      <td>1</td>\n",
       "      <td>SS</td>\n",
       "      <td>72.0</td>\n",
       "      <td>165.0</td>\n",
       "      <td>21.0</td>\n",
       "      <td>0</td>\n",
       "      <td>0</td>\n",
       "    </tr>\n",
       "    <tr>\n",
       "      <th>2</th>\n",
       "      <td>auerbri01</td>\n",
       "      <td>1972</td>\n",
       "      <td>1</td>\n",
       "      <td>ML4</td>\n",
       "      <td>AL</td>\n",
       "      <td>153</td>\n",
       "      <td>554</td>\n",
       "      <td>50</td>\n",
       "      <td>121</td>\n",
       "      <td>16</td>\n",
       "      <td>...</td>\n",
       "      <td>1981</td>\n",
       "      <td>1971</td>\n",
       "      <td>1</td>\n",
       "      <td>1</td>\n",
       "      <td>SS</td>\n",
       "      <td>72.0</td>\n",
       "      <td>165.0</td>\n",
       "      <td>22.0</td>\n",
       "      <td>1</td>\n",
       "      <td>1</td>\n",
       "    </tr>\n",
       "    <tr>\n",
       "      <th>3</th>\n",
       "      <td>auerbri01</td>\n",
       "      <td>1975</td>\n",
       "      <td>1</td>\n",
       "      <td>LAN</td>\n",
       "      <td>NL</td>\n",
       "      <td>85</td>\n",
       "      <td>170</td>\n",
       "      <td>18</td>\n",
       "      <td>38</td>\n",
       "      <td>9</td>\n",
       "      <td>...</td>\n",
       "      <td>1981</td>\n",
       "      <td>1971</td>\n",
       "      <td>1</td>\n",
       "      <td>1</td>\n",
       "      <td>SS</td>\n",
       "      <td>72.0</td>\n",
       "      <td>165.0</td>\n",
       "      <td>25.0</td>\n",
       "      <td>4</td>\n",
       "      <td>2</td>\n",
       "    </tr>\n",
       "  </tbody>\n",
       "</table>\n",
       "<p>3 rows × 37 columns</p>\n",
       "</div>"
      ],
      "text/plain": [
       "    playerID  yearID  stint teamID lgID    G   AB   R    H  2B  ...  \\\n",
       "1  auerbri01    1971      1    ML4   AL   79  236  22   48  10  ...   \n",
       "2  auerbri01    1972      1    ML4   AL  153  554  50  121  16  ...   \n",
       "3  auerbri01    1975      1    LAN   NL   85  170  18   38   9  ...   \n",
       "\n",
       "   final_yr_adj  debut_yr  missed_any  bt_same  p_pos  height  weight   age  \\\n",
       "1          1981      1971           1        1     SS    72.0   165.0  21.0   \n",
       "2          1981      1971           1        1     SS    72.0   165.0  22.0   \n",
       "3          1981      1971           1        1     SS    72.0   165.0  25.0   \n",
       "\n",
       "   yoe  yoe_adj  \n",
       "1    0        0  \n",
       "2    1        1  \n",
       "3    4        2  \n",
       "\n",
       "[3 rows x 37 columns]"
      ]
     },
     "metadata": {},
     "output_type": "display_data"
    }
   ],
   "source": [
    "df_start_end = df_main[['playerID', 'yearID', 'debut_yr', 'final_yr_adj', 'yoe']]\n",
    "df_start_end.sort_values(by=['yearID'], inplace=True)\n",
    "\n",
    "\n",
    "player_careers = {}\n",
    "count = 0\n",
    "\n",
    "for ind, row in df_start_end.iterrows():\n",
    "\n",
    "    if row['playerID'] not in player_careers:\n",
    "        player_careers[row['playerID']] = {}\n",
    "\n",
    "    player_careers[row['playerID']]['exp_career'] = [x for x in range(row['debut_yr'], row['final_yr_adj'] + 1)]\n",
    "    \n",
    "    if 'act_career' not in player_careers[row['playerID']].keys():\n",
    "        player_careers[row['playerID']]['act_career'] = []\n",
    "\n",
    "    player_careers[row['playerID']]['act_career'].append(row['yearID'])\n",
    "\n",
    "missed_years = {}\n",
    "for player in player_careers:\n",
    "    exp_years = set(player_careers[player]['exp_career'])\n",
    "    act_years = set(player_careers[player]['act_career'])\n",
    "\n",
    "    if exp_years != act_years:\n",
    "        missed_years[player] = [int(x) for x in exp_years.difference(act_years)]\n",
    "\n",
    "\n",
    "\n",
    "df_sub_main = df_main[['playerID','yearID','yoe']]\n",
    "\n",
    "for index, row in df_main.iterrows():\n",
    "    player = row['playerID']\n",
    "    yearID = row['yearID']\n",
    "    yoe_adj = row['yoe']\n",
    "\n",
    "    if player in missed_years:\n",
    "        \n",
    "        for year in missed_years[player]:\n",
    "            if yearID > year:\n",
    "                yoe_adj -= 1\n",
    "    \n",
    "    df_sub_main['yoe'].iloc[index] = yoe_adj\n",
    "\n",
    "\n",
    "df_sub_main.rename(columns={'yoe': 'yoe_adj'}, inplace=True)\n",
    "df_main = df_main.merge(df_sub_main, how='inner', on=['playerID','yearID'])\n",
    "\n",
    "\n",
    "#display(df_start_end.head())\n",
    "#display(df_start_end[df_start_end['playerID'] == 'stennre01'])\n",
    "#print(player_careers['stennre01']) # missed his last season based on our criteria (only 87 AB's his last season)\n",
    "# however, the only other year that was close to the threshold was his first year (153 AB's)\n",
    "# all other seasons were > 300 AB's with 3 seasons over 600 AB's...\n",
    "# maybe consider averaging a players AB's and if they meet that criteria then we count all their years...\n",
    "print(missed_years['auerbri01'])\n",
    "display(df_sub_main[df_sub_main['playerID'] == 'auerbri01'])\n",
    "display(df_main[df_main['playerID'] == 'auerbri01'])"
   ]
  },
  {
   "cell_type": "markdown",
   "metadata": {},
   "source": [
    "classify breakout seasons and classify if a player ever has a breakout season"
   ]
  },
  {
   "cell_type": "code",
   "execution_count": 13,
   "metadata": {},
   "outputs": [
    {
     "data": {
      "text/html": [
       "<div>\n",
       "<style scoped>\n",
       "    .dataframe tbody tr th:only-of-type {\n",
       "        vertical-align: middle;\n",
       "    }\n",
       "\n",
       "    .dataframe tbody tr th {\n",
       "        vertical-align: top;\n",
       "    }\n",
       "\n",
       "    .dataframe thead th {\n",
       "        text-align: right;\n",
       "    }\n",
       "</style>\n",
       "<table border=\"1\" class=\"dataframe\">\n",
       "  <thead>\n",
       "    <tr style=\"text-align: right;\">\n",
       "      <th></th>\n",
       "      <th>playerID</th>\n",
       "      <th>yearID</th>\n",
       "      <th>stint</th>\n",
       "      <th>teamID</th>\n",
       "      <th>lgID</th>\n",
       "      <th>G</th>\n",
       "      <th>AB</th>\n",
       "      <th>R</th>\n",
       "      <th>H</th>\n",
       "      <th>2B</th>\n",
       "      <th>...</th>\n",
       "      <th>bt_same</th>\n",
       "      <th>p_pos</th>\n",
       "      <th>height</th>\n",
       "      <th>weight</th>\n",
       "      <th>age</th>\n",
       "      <th>yoe</th>\n",
       "      <th>yoe_adj</th>\n",
       "      <th>ops_per_delta</th>\n",
       "      <th>bo_season</th>\n",
       "      <th>bo_ever</th>\n",
       "    </tr>\n",
       "  </thead>\n",
       "  <tbody>\n",
       "    <tr>\n",
       "      <th>0</th>\n",
       "      <td>auerbri01</td>\n",
       "      <td>1971</td>\n",
       "      <td>1</td>\n",
       "      <td>ML4</td>\n",
       "      <td>AL</td>\n",
       "      <td>79</td>\n",
       "      <td>236</td>\n",
       "      <td>22</td>\n",
       "      <td>48</td>\n",
       "      <td>10</td>\n",
       "      <td>...</td>\n",
       "      <td>1</td>\n",
       "      <td>SS</td>\n",
       "      <td>72.0</td>\n",
       "      <td>165.0</td>\n",
       "      <td>21.0</td>\n",
       "      <td>0</td>\n",
       "      <td>0</td>\n",
       "      <td>-0.166228</td>\n",
       "      <td>0</td>\n",
       "      <td>0.0</td>\n",
       "    </tr>\n",
       "    <tr>\n",
       "      <th>1</th>\n",
       "      <td>auerbri01</td>\n",
       "      <td>1972</td>\n",
       "      <td>1</td>\n",
       "      <td>ML4</td>\n",
       "      <td>AL</td>\n",
       "      <td>153</td>\n",
       "      <td>554</td>\n",
       "      <td>50</td>\n",
       "      <td>121</td>\n",
       "      <td>16</td>\n",
       "      <td>...</td>\n",
       "      <td>1</td>\n",
       "      <td>SS</td>\n",
       "      <td>72.0</td>\n",
       "      <td>165.0</td>\n",
       "      <td>22.0</td>\n",
       "      <td>1</td>\n",
       "      <td>1</td>\n",
       "      <td>0.029875</td>\n",
       "      <td>0</td>\n",
       "      <td>0.0</td>\n",
       "    </tr>\n",
       "    <tr>\n",
       "      <th>2</th>\n",
       "      <td>auerbri01</td>\n",
       "      <td>1975</td>\n",
       "      <td>1</td>\n",
       "      <td>LAN</td>\n",
       "      <td>NL</td>\n",
       "      <td>85</td>\n",
       "      <td>170</td>\n",
       "      <td>18</td>\n",
       "      <td>38</td>\n",
       "      <td>9</td>\n",
       "      <td>...</td>\n",
       "      <td>1</td>\n",
       "      <td>SS</td>\n",
       "      <td>72.0</td>\n",
       "      <td>165.0</td>\n",
       "      <td>25.0</td>\n",
       "      <td>4</td>\n",
       "      <td>2</td>\n",
       "      <td>0.052643</td>\n",
       "      <td>0</td>\n",
       "      <td>0.0</td>\n",
       "    </tr>\n",
       "    <tr>\n",
       "      <th>3</th>\n",
       "      <td>beniqju01</td>\n",
       "      <td>1974</td>\n",
       "      <td>1</td>\n",
       "      <td>BOS</td>\n",
       "      <td>AL</td>\n",
       "      <td>106</td>\n",
       "      <td>389</td>\n",
       "      <td>60</td>\n",
       "      <td>104</td>\n",
       "      <td>14</td>\n",
       "      <td>...</td>\n",
       "      <td>1</td>\n",
       "      <td>SS</td>\n",
       "      <td>71.0</td>\n",
       "      <td>150.0</td>\n",
       "      <td>24.0</td>\n",
       "      <td>3</td>\n",
       "      <td>0</td>\n",
       "      <td>0.166248</td>\n",
       "      <td>0</td>\n",
       "      <td>1.0</td>\n",
       "    </tr>\n",
       "    <tr>\n",
       "      <th>4</th>\n",
       "      <td>beniqju01</td>\n",
       "      <td>1974</td>\n",
       "      <td>1</td>\n",
       "      <td>BOS</td>\n",
       "      <td>AL</td>\n",
       "      <td>106</td>\n",
       "      <td>389</td>\n",
       "      <td>60</td>\n",
       "      <td>104</td>\n",
       "      <td>14</td>\n",
       "      <td>...</td>\n",
       "      <td>1</td>\n",
       "      <td>SS</td>\n",
       "      <td>71.0</td>\n",
       "      <td>150.0</td>\n",
       "      <td>24.0</td>\n",
       "      <td>3</td>\n",
       "      <td>0</td>\n",
       "      <td>0.166248</td>\n",
       "      <td>0</td>\n",
       "      <td>1.0</td>\n",
       "    </tr>\n",
       "  </tbody>\n",
       "</table>\n",
       "<p>5 rows × 40 columns</p>\n",
       "</div>"
      ],
      "text/plain": [
       "    playerID  yearID  stint teamID lgID    G   AB   R    H  2B  ...  bt_same  \\\n",
       "0  auerbri01    1971      1    ML4   AL   79  236  22   48  10  ...        1   \n",
       "1  auerbri01    1972      1    ML4   AL  153  554  50  121  16  ...        1   \n",
       "2  auerbri01    1975      1    LAN   NL   85  170  18   38   9  ...        1   \n",
       "3  beniqju01    1974      1    BOS   AL  106  389  60  104  14  ...        1   \n",
       "4  beniqju01    1974      1    BOS   AL  106  389  60  104  14  ...        1   \n",
       "\n",
       "   p_pos  height  weight   age  yoe  yoe_adj  ops_per_delta  bo_season  \\\n",
       "0     SS    72.0   165.0  21.0    0        0      -0.166228          0   \n",
       "1     SS    72.0   165.0  22.0    1        1       0.029875          0   \n",
       "2     SS    72.0   165.0  25.0    4        2       0.052643          0   \n",
       "3     SS    71.0   150.0  24.0    3        0       0.166248          0   \n",
       "4     SS    71.0   150.0  24.0    3        0       0.166248          0   \n",
       "\n",
       "   bo_ever  \n",
       "0      0.0  \n",
       "1      0.0  \n",
       "2      0.0  \n",
       "3      1.0  \n",
       "4      1.0  \n",
       "\n",
       "[5 rows x 40 columns]"
      ]
     },
     "metadata": {},
     "output_type": "display_data"
    }
   ],
   "source": [
    "df_main['ops_per_delta'] = df_main['ops'].pct_change(periods=1, fill_method='ffill')\n",
    "df_main.dropna(subset=['ops_per_delta'], inplace=True)\n",
    "\n",
    "df_post_debut = df_main[df_main['yoe_adj'] > 0]\n",
    "#df_post_debut['ops_per_delta'].describe([.5, .75, .8, .9, .95])\n",
    "df_main['bo_season'] = np.where( (df_main['ops_per_delta'] >= .175) & (df_main['yoe_adj'] > 0), 1, 0)\n",
    "#display(df_main[df_main['bo_season'] == 1]) #1178 instance\n",
    "\n",
    "breakout_players = df_main[df_main['bo_season'] == 1]\n",
    "breakout_players = breakout_players[['playerID', 'bo_season']]\n",
    "breakout_players.rename(columns={'bo_season': 'bo_ever'}, inplace=True)\n",
    "\n",
    "df_main = df_main.merge(breakout_players, how='left', on='playerID')\n",
    "df_main['bo_ever'].fillna(0, inplace=True)\n",
    "display(df_main.head())"
   ]
  },
  {
   "cell_type": "code",
   "execution_count": 14,
   "metadata": {},
   "outputs": [
    {
     "data": {
      "text/plain": [
       "playerID          object\n",
       "yearID             int64\n",
       "stint              int64\n",
       "teamID            object\n",
       "lgID              object\n",
       "G                  int64\n",
       "AB                 int64\n",
       "R                  int64\n",
       "H                  int64\n",
       "2B                 int64\n",
       "3B                 int64\n",
       "HR                 int64\n",
       "RBI              float64\n",
       "SB               float64\n",
       "CS               float64\n",
       "BB                 int64\n",
       "SO               float64\n",
       "IBB              float64\n",
       "HBP              float64\n",
       "SH               float64\n",
       "SF               float64\n",
       "GIDP             float64\n",
       "1B                 int64\n",
       "TB                 int64\n",
       "obp              float64\n",
       "slg              float64\n",
       "ops              float64\n",
       "final_yr_adj       int64\n",
       "debut_yr           int64\n",
       "missed_any         int32\n",
       "bt_same            int32\n",
       "p_pos             object\n",
       "height           float64\n",
       "weight           float64\n",
       "age                int32\n",
       "yoe                int64\n",
       "yoe_adj            int64\n",
       "ops_per_delta    float64\n",
       "bo_season          int32\n",
       "bo_ever            int32\n",
       "dtype: object"
      ]
     },
     "execution_count": 14,
     "metadata": {},
     "output_type": "execute_result"
    }
   ],
   "source": [
    "df_main['bo_ever'] = df_main['bo_ever'].astype('int32')\n",
    "df_main['age'] = df_main['age'].astype('int32')\n",
    "\n",
    "df_main.dtypes"
   ]
  },
  {
   "cell_type": "markdown",
   "metadata": {},
   "source": [
    "Arbitrary Column formatting"
   ]
  },
  {
   "cell_type": "code",
   "execution_count": 15,
   "metadata": {},
   "outputs": [],
   "source": [
    "# Batting cols float to int\n",
    "batting_ints = {'RBI':'int32', 'SB':'int32', 'CS':'int32', 'SO':'int32', 'IBB':'int32', 'HBP':'int32', 'SH':'int32', 'SF':'int32', 'GIDP':'int32'}\n",
    "\n",
    "app_ints = {'GS':'int32', 'G_defense':'int32', 'G_dh':'int32', 'G_ph':'int32', 'G_pr':'int32'}\n",
    "\n",
    "fielding_ints = {'GS':'int32'}\n",
    "\n",
    "# leaving weight and height as floats\n",
    "people_ints = {'birthYear':'int32', 'birthMonth':'int32'}\n",
    "\n",
    "team_ints = {'Ghome':'int32'}\n",
    "\n",
    "df_main = df_main.astype(batting_ints)\n",
    "df_batting = df_batting.astype(batting_ints)\n",
    "df_app = df_app.astype(app_ints)\n",
    "df_fielding = df_fielding.astype(fielding_ints)\n",
    "df_people = df_people.astype(people_ints)\n",
    "df_teams = df_teams.astype(team_ints)"
   ]
  },
  {
   "cell_type": "markdown",
   "metadata": {},
   "source": [
    "Write to csv files"
   ]
  },
  {
   "cell_type": "code",
   "execution_count": 16,
   "metadata": {},
   "outputs": [],
   "source": [
    "df_batting.to_csv(\"./data/cleaned_data/batting_clean.csv\" , index=False)\n",
    "df_app.to_csv(\"./data/cleaned_data/appearance_clean.csv\" , index=False)\n",
    "df_people.to_csv(\"./data/cleaned_data/people_clean.csv\", index=False)\n",
    "df_fielding.to_csv(\"./data/cleaned_data/fielding_clean.csv\" , index=False)\n",
    "df_teams.to_csv(\"./data/cleaned_data/teams_clean.csv\", index=False)\n",
    "df_parks.to_csv(\"./data/cleaned_data/parks_clean.csv\", index=False)\n",
    "df_franch.to_csv(\"./data/cleaned_data/franch_clean.csv\", index=False)\n",
    "df_main.to_csv(\"./data/cleaned_data/main_clean.csv\", index=False)"
   ]
  },
  {
   "cell_type": "markdown",
   "metadata": {},
   "source": [
    "Write to sqlite db"
   ]
  },
  {
   "cell_type": "code",
   "execution_count": 17,
   "metadata": {},
   "outputs": [],
   "source": [
    "con = sqlite3.connect('./data/cleaned_data/cleaned_data.db')\n",
    "\n",
    "df_batting.to_sql(\"batting_clean\", con, index=False, if_exists='replace')\n",
    "df_app.to_sql(\"appearance_clean\", con,  index=False, if_exists='replace')\n",
    "df_people.to_sql(\"people_clean\", con, index=False, if_exists='replace')\n",
    "df_fielding.to_sql(\"fielding_clean\", con, index=False, if_exists='replace')\n",
    "df_teams.to_sql(\"teams_clean\", con, index=False, if_exists='replace')\n",
    "df_parks.to_sql(\"parks_clean\", con, index=False, if_exists='replace')\n",
    "df_franch.to_sql(\"franch_clean\", con, index=False, if_exists='replace')\n",
    "df_main.to_sql(\"main_clean\", con, index=False, if_exists='replace')\n",
    "\n",
    "con.commit()\n",
    "con.close()"
   ]
  },
  {
   "cell_type": "code",
   "execution_count": 18,
   "metadata": {},
   "outputs": [
    {
     "data": {
      "text/plain": [
       "Index(['playerID', 'yearID', 'stint', 'teamID', 'lgID', 'G', 'AB', 'R', 'H',\n",
       "       '2B', '3B', 'HR', 'RBI', 'SB', 'CS', 'BB', 'SO', 'IBB', 'HBP', 'SH',\n",
       "       'SF', 'GIDP', '1B', 'TB', 'obp', 'slg', 'ops', 'final_yr_adj',\n",
       "       'debut_yr', 'missed_any', 'bt_same', 'p_pos', 'height', 'weight', 'age',\n",
       "       'yoe', 'yoe_adj', 'ops_per_delta', 'bo_season', 'bo_ever'],\n",
       "      dtype='object')"
      ]
     },
     "execution_count": 18,
     "metadata": {},
     "output_type": "execute_result"
    }
   ],
   "source": [
    "df_main.columns"
   ]
  },
  {
   "cell_type": "code",
   "execution_count": 19,
   "metadata": {},
   "outputs": [],
   "source": [
    "df_new_main = df_main[['playerID', 'yearID', 'lgID', 'G', 'AB', 'R', 'H',\n",
    "       '2B', '3B', 'HR', 'RBI', 'SB', 'CS', 'BB', 'SO', 'IBB', 'HBP', 'SH',\n",
    "       'SF', 'GIDP', '1B', 'TB', 'obp', 'slg', 'ops', \n",
    "        'missed_any', 'bt_same', 'p_pos', 'height', 'weight', 'age',\n",
    "       'yoe', 'yoe_adj', 'ops_per_delta', 'bo_season', 'bo_ever']].copy()"
   ]
  },
  {
   "cell_type": "code",
   "execution_count": 20,
   "metadata": {},
   "outputs": [],
   "source": [
    "Breakout_Players = df_new_main[df_new_main['bo_ever'] == 1].copy()"
   ]
  },
  {
   "cell_type": "code",
   "execution_count": 21,
   "metadata": {},
   "outputs": [],
   "source": [
    "Breakout_Seasons = df_new_main[df_new_main['bo_season']==1].copy()\n",
    "Breakout_Seasons.sort_values(['playerID', 'yearID'], ascending=True, inplace=True)\n",
    "\n",
    "Breakout_Seasons = Breakout_Seasons[['playerID', 'yearID']]\n",
    "Breakout_Seasons.drop_duplicates(subset=['playerID'], keep='first', inplace=True)\n",
    "Breakout_Seasons_Map = pd.Series(Breakout_Seasons['yearID'].values, index=Breakout_Seasons['playerID']).to_dict()\n"
   ]
  },
  {
   "cell_type": "code",
   "execution_count": 22,
   "metadata": {},
   "outputs": [],
   "source": [
    "Breakout_Players_NoBS = Breakout_Players.copy()\n",
    "\n",
    "for item in Breakout_Seasons_Map.items():\n",
    "    Breakout_Players_NoBS = Breakout_Players_NoBS.drop(Breakout_Players_NoBS[(Breakout_Players_NoBS['playerID'] == item[0]) & (Breakout_Players_NoBS['yearID'] >= item[1])].index)\n",
    "    "
   ]
  },
  {
   "cell_type": "code",
   "execution_count": 23,
   "metadata": {},
   "outputs": [],
   "source": [
    "'''Concat Breakout_Players_NoBS with no breakout players'''\n",
    "Non_Breakout_Players = df_new_main[df_new_main['bo_ever']==0].copy()\n",
    "first_breakout_training = pd.concat([Breakout_Players_NoBS, Non_Breakout_Players])"
   ]
  },
  {
   "cell_type": "code",
   "execution_count": 24,
   "metadata": {},
   "outputs": [],
   "source": [
    "first_breakout_training.to_csv(\"./data/cleaned_data/first_breakout_training.csv\", index=False)"
   ]
  },
  {
   "cell_type": "code",
   "execution_count": 25,
   "metadata": {},
   "outputs": [],
   "source": [
    "'''Filter out ages 30+ because imbalanced datasets. Most first breakouts occur in mid/late twenties'''\n",
    "first_breakout_training = first_breakout_training[first_breakout_training['age'] < 30].copy()\n",
    "first_breakout_training_avg = first_breakout_training.copy()"
   ]
  },
  {
   "cell_type": "code",
   "execution_count": 26,
   "metadata": {},
   "outputs": [
    {
     "data": {
      "text/plain": [
       "LabelEncoder()"
      ]
     },
     "execution_count": 26,
     "metadata": {},
     "output_type": "execute_result"
    }
   ],
   "source": [
    "'''Convert position strings to integers. Scikit learn requires quantitative predictors'''\n",
    "from sklearn import preprocessing\n",
    "pos_list = list(set(first_breakout_training['p_pos']))\n",
    "le = preprocessing.LabelEncoder()\n",
    "le.fit(pos_list)"
   ]
  },
  {
   "cell_type": "code",
   "execution_count": 27,
   "metadata": {},
   "outputs": [
    {
     "data": {
      "text/plain": [
       "['1B', '2B', '3B', 'C', 'OF', 'SS']"
      ]
     },
     "execution_count": 27,
     "metadata": {},
     "output_type": "execute_result"
    }
   ],
   "source": [
    "list(le.inverse_transform([0,1,2,3,4,5]))"
   ]
  },
  {
   "cell_type": "code",
   "execution_count": 28,
   "metadata": {},
   "outputs": [],
   "source": [
    "first_breakout_training.drop_duplicates(inplace=True)\n",
    "df_new_main.drop_duplicates(inplace=True)"
   ]
  },
  {
   "cell_type": "code",
   "execution_count": 29,
   "metadata": {},
   "outputs": [],
   "source": [
    "first_breakout_training['p_pos'] = le.transform(first_breakout_training['p_pos'])\n",
    "first_breakout_training['lgID'].replace('AL', 0, inplace=True)\n",
    "first_breakout_training['lgID'].replace('NL', 1, inplace=True)"
   ]
  },
  {
   "cell_type": "code",
   "execution_count": 30,
   "metadata": {},
   "outputs": [
    {
     "name": "stdout",
     "output_type": "stream",
     "text": [
      "     playerID  yearID  lgID    G   AB   R    H  2B  3B  HR  ...  bt_same  \\\n",
      "3   beniqju01    1974     0  106  389  60  104  14   3   5  ...        1   \n",
      "5   beniqju01    1975     0   78  254  43   74  14   4   2  ...        1   \n",
      "7   beniqju01    1976     0  145  478  49  122  14   4   0  ...        1   \n",
      "34  braunst01    1971     0  128  343  51   87  12   2   5  ...        0   \n",
      "35  braunst01    1972     0  121  402  40  116  21   0   2  ...        0   \n",
      "\n",
      "    p_pos  height  weight  age  yoe  yoe_adj  ops_per_delta  bo_season  \\\n",
      "3       5    71.0   150.0   24    3        0       0.166248          0   \n",
      "5       5    71.0   150.0   25    4        1       0.134220          0   \n",
      "7       5    71.0   150.0   26    5        2      -0.189141          0   \n",
      "34      5    70.0   180.0   23    0        0       0.072807          0   \n",
      "35      5    70.0   180.0   24    1        1       0.031010          0   \n",
      "\n",
      "    bo_ever  \n",
      "3         1  \n",
      "5         1  \n",
      "7         1  \n",
      "34        1  \n",
      "35        1  \n",
      "\n",
      "[5 rows x 36 columns]\n"
     ]
    }
   ],
   "source": [
    "print(first_breakout_training.head())"
   ]
  },
  {
   "cell_type": "code",
   "execution_count": 31,
   "metadata": {},
   "outputs": [],
   "source": [
    "'''Drop playerID col'''\n",
    "first_breakout_training.drop(['playerID'], axis=1, inplace=True)\n",
    "first_breakout_training.drop(['bo_season'], axis=1, inplace=True)"
   ]
  },
  {
   "cell_type": "code",
   "execution_count": 32,
   "metadata": {},
   "outputs": [],
   "source": [
    "x_data = first_breakout_training.iloc[:, :-1]\n",
    "y_data = first_breakout_training[['bo_ever']].copy()"
   ]
  },
  {
   "cell_type": "code",
   "execution_count": 65,
   "metadata": {},
   "outputs": [],
   "source": [
    "'''Create training data and test data dataframes for the logistic regression model. Leave out 25% of data as the test set'''\n",
    "from sklearn.model_selection import train_test_split\n",
    "#x_data = x_data[test1].copy()\n",
    "x_train, x_test, y_train, y_test = train_test_split(x_data[test2], y_data, test_size=0.25, random_state=100)\n",
    "y_train = np.array(y_train).ravel()\n",
    "y_test = np.array(y_test).ravel()"
   ]
  },
  {
   "cell_type": "code",
   "execution_count": 66,
   "metadata": {},
   "outputs": [
    {
     "name": "stdout",
     "output_type": "stream",
     "text": [
      "(1700, 7)\n",
      "(567, 7)\n",
      "(1700,)\n",
      "(567,)\n"
     ]
    }
   ],
   "source": [
    "print(x_train.shape)\n",
    "print(x_test.shape)\n",
    "print(y_train.shape)\n",
    "print(y_test.shape)"
   ]
  },
  {
   "cell_type": "code",
   "execution_count": 67,
   "metadata": {},
   "outputs": [],
   "source": [
    "from sklearn.preprocessing import StandardScaler\n",
    "scaler = StandardScaler()\n",
    "#scaler.fit(data)\n",
    "scaled_x_train = scaler.fit_transform(x_train)\n",
    "scaled_x_test = scaler.fit_transform(x_test)"
   ]
  },
  {
   "cell_type": "code",
   "execution_count": 68,
   "metadata": {},
   "outputs": [
    {
     "data": {
      "text/plain": [
       "LogisticRegression(C=1.0, class_weight=None, dual=False, fit_intercept=True,\n",
       "                   intercept_scaling=1, l1_ratio=None, max_iter=100,\n",
       "                   multi_class='auto', n_jobs=None, penalty='l2',\n",
       "                   random_state=None, solver='lbfgs', tol=0.0001, verbose=0,\n",
       "                   warm_start=False)"
      ]
     },
     "execution_count": 68,
     "metadata": {},
     "output_type": "execute_result"
    }
   ],
   "source": [
    "from sklearn.linear_model import LogisticRegression\n",
    "#https://towardsdatascience.com/logistic-regression-using-python-sklearn-numpy-mnist-handwriting-recognition-matplotlib-a6b31e2b166a\n",
    "# all parameters not specified are set to their defaults\n",
    "logisticRegr = LogisticRegression()\n",
    "logisticRegr.fit(scaled_x_train, y_train)"
   ]
  },
  {
   "cell_type": "code",
   "execution_count": 69,
   "metadata": {},
   "outputs": [
    {
     "name": "stdout",
     "output_type": "stream",
     "text": [
      "0.6754850088183422\n"
     ]
    }
   ],
   "source": [
    "predictions = logisticRegr.predict(scaled_x_test)\n",
    "score = logisticRegr.score(scaled_x_test, y_test)\n",
    "print(score)"
   ]
  },
  {
   "cell_type": "code",
   "execution_count": 70,
   "metadata": {},
   "outputs": [
    {
     "name": "stdout",
     "output_type": "stream",
     "text": [
      "Feature: 0, Score: -0.34442\n",
      "Feature: 1, Score: 0.27838\n",
      "Feature: 2, Score: 0.47648\n",
      "Feature: 3, Score: -0.60272\n",
      "Feature: 4, Score: 0.15543\n",
      "Feature: 5, Score: 0.26108\n",
      "Feature: 6, Score: -0.57557\n"
     ]
    }
   ],
   "source": [
    "'''https://machinelearningmastery.com/calculate-feature-importance-with-python/'''\n",
    "importance = logisticRegr.coef_[0]\n",
    "for i,v in enumerate(importance):\n",
    "\tprint('Feature: %0d, Score: %.5f' % (i,v))"
   ]
  },
  {
   "cell_type": "code",
   "execution_count": 71,
   "metadata": {},
   "outputs": [
    {
     "name": "stdout",
     "output_type": "stream",
     "text": [
      "Index(['yearID', 'BB', 'TB', 'ops', 'p_pos', 'weight', 'age'], dtype='object')\n"
     ]
    },
    {
     "data": {
      "image/png": "[encoded data removed]",
      "text/plain": [
       "<Figure size 432x288 with 1 Axes>"
      ]
     },
     "metadata": {
      "needs_background": "light"
     },
     "output_type": "display_data"
    }
   ],
   "source": [
    "from matplotlib import pyplot\n",
    "print(x_train.columns)\n",
    "pyplot.bar([x for x in range(len(importance))], importance)\n",
    "pyplot.show()"
   ]
  },
  {
   "cell_type": "code",
   "execution_count": 72,
   "metadata": {},
   "outputs": [],
   "source": [
    "'''Function to test various combinations of data fields'''\n",
    "def log_model_score(x_data, y_data):\n",
    "    x_train, x_test, y_train, y_test = train_test_split(x_data, y_data, test_size=0.25, random_state=100)\n",
    "    y_train = np.array(y_train).ravel()\n",
    "    y_test = np.array(y_test).ravel()\n",
    "    scaler = StandardScaler()\n",
    "    #scaler.fit(data)\n",
    "    scaled_x_train = scaler.fit_transform(x_train)\n",
    "    scaled_x_test = scaler.fit_transform(x_test)\n",
    "    logisticRegr = LogisticRegression()\n",
    "    logisticRegr.fit(scaled_x_train, y_train)\n",
    "    score = logisticRegr.score(scaled_x_test, y_test)\n",
    "    return score"
   ]
  },
  {
   "cell_type": "code",
   "execution_count": 73,
   "metadata": {},
   "outputs": [
    {
     "data": {
      "text/plain": [
       "Index(['yearID', 'lgID', 'G', 'AB', 'R', 'H', '2B', '3B', 'HR', 'RBI', 'SB',\n",
       "       'CS', 'BB', 'SO', 'IBB', 'HBP', 'SH', 'SF', 'GIDP', '1B', 'TB', 'obp',\n",
       "       'slg', 'ops', 'missed_any', 'bt_same', 'p_pos', 'height', 'weight',\n",
       "       'age', 'yoe', 'yoe_adj', 'ops_per_delta'],\n",
       "      dtype='object')"
      ]
     },
     "execution_count": 73,
     "metadata": {},
     "output_type": "execute_result"
    }
   ],
   "source": [
    "x_data.columns"
   ]
  },
  {
   "cell_type": "code",
   "execution_count": 74,
   "metadata": {},
   "outputs": [],
   "source": [
    "test1 = ['yearID', 'R', 'H', 'RBI', 'SB',\n",
    "       'BB', 'SO', 'p_pos', 'weight', 'age']\n",
    "\n",
    "test2 = ['yearID', 'R', 'H', 'RBI', 'SB',\n",
    "       'BB', 'SO', 'p_pos', 'weight',\n",
    "       'age']\n",
    "\n",
    "test3 = ['yearID', 'R', 'TB', 'RBI', 'SB',\n",
    "       'BB', 'SO', 'p_pos', 'weight',\n",
    "       'age']"
   ]
  },
  {
   "cell_type": "code",
   "execution_count": 75,
   "metadata": {},
   "outputs": [
    {
     "data": {
      "text/plain": [
       "0.6578483245149912"
      ]
     },
     "execution_count": 75,
     "metadata": {},
     "output_type": "execute_result"
    }
   ],
   "source": [
    "log_model_score(x_data[test1], y_data)\n"
   ]
  },
  {
   "cell_type": "code",
   "execution_count": 76,
   "metadata": {},
   "outputs": [
    {
     "data": {
      "text/plain": [
       "0.6578483245149912"
      ]
     },
     "execution_count": 76,
     "metadata": {},
     "output_type": "execute_result"
    }
   ],
   "source": [
    "log_model_score(x_data[test2], y_data)\n"
   ]
  },
  {
   "cell_type": "code",
   "execution_count": 77,
   "metadata": {},
   "outputs": [
    {
     "data": {
      "text/plain": [
       "0.654320987654321"
      ]
     },
     "execution_count": 77,
     "metadata": {},
     "output_type": "execute_result"
    }
   ],
   "source": [
    "log_model_score(x_data[test3], y_data)"
   ]
  },
  {
   "cell_type": "code",
   "execution_count": 78,
   "metadata": {},
   "outputs": [],
   "source": [
    "from statsmodels.stats.outliers_influence import variance_inflation_factor\n",
    "\n",
    "def calc_vif(X):\n",
    "\n",
    "    # Calculating VIF\n",
    "    vif = pd.DataFrame()\n",
    "    vif[\"variables\"] = X.columns\n",
    "    vif[\"VIF\"] = [variance_inflation_factor(X.values, i) for i in range(X.shape[1])]\n",
    "\n",
    "    return(vif)"
   ]
  },
  {
   "cell_type": "code",
   "execution_count": 79,
   "metadata": {},
   "outputs": [
    {
     "data": {
      "text/html": [
       "<div>\n",
       "<style scoped>\n",
       "    .dataframe tbody tr th:only-of-type {\n",
       "        vertical-align: middle;\n",
       "    }\n",
       "\n",
       "    .dataframe tbody tr th {\n",
       "        vertical-align: top;\n",
       "    }\n",
       "\n",
       "    .dataframe thead th {\n",
       "        text-align: right;\n",
       "    }\n",
       "</style>\n",
       "<table border=\"1\" class=\"dataframe\">\n",
       "  <thead>\n",
       "    <tr style=\"text-align: right;\">\n",
       "      <th></th>\n",
       "      <th>variables</th>\n",
       "      <th>VIF</th>\n",
       "    </tr>\n",
       "  </thead>\n",
       "  <tbody>\n",
       "    <tr>\n",
       "      <th>0</th>\n",
       "      <td>yearID</td>\n",
       "      <td>369.654920</td>\n",
       "    </tr>\n",
       "    <tr>\n",
       "      <th>1</th>\n",
       "      <td>R</td>\n",
       "      <td>100.248551</td>\n",
       "    </tr>\n",
       "    <tr>\n",
       "      <th>2</th>\n",
       "      <td>TB</td>\n",
       "      <td>161.353192</td>\n",
       "    </tr>\n",
       "    <tr>\n",
       "      <th>3</th>\n",
       "      <td>RBI</td>\n",
       "      <td>56.050225</td>\n",
       "    </tr>\n",
       "    <tr>\n",
       "      <th>4</th>\n",
       "      <td>SB</td>\n",
       "      <td>3.577011</td>\n",
       "    </tr>\n",
       "    <tr>\n",
       "      <th>5</th>\n",
       "      <td>BB</td>\n",
       "      <td>12.540711</td>\n",
       "    </tr>\n",
       "    <tr>\n",
       "      <th>6</th>\n",
       "      <td>SO</td>\n",
       "      <td>12.860873</td>\n",
       "    </tr>\n",
       "    <tr>\n",
       "      <th>7</th>\n",
       "      <td>p_pos</td>\n",
       "      <td>19.676442</td>\n",
       "    </tr>\n",
       "    <tr>\n",
       "      <th>8</th>\n",
       "      <td>weight</td>\n",
       "      <td>127.168414</td>\n",
       "    </tr>\n",
       "    <tr>\n",
       "      <th>9</th>\n",
       "      <td>age</td>\n",
       "      <td>207.271649</td>\n",
       "    </tr>\n",
       "  </tbody>\n",
       "</table>\n",
       "</div>"
      ],
      "text/plain": [
       "  variables         VIF\n",
       "0    yearID  369.654920\n",
       "1         R  100.248551\n",
       "2        TB  161.353192\n",
       "3       RBI   56.050225\n",
       "4        SB    3.577011\n",
       "5        BB   12.540711\n",
       "6        SO   12.860873\n",
       "7     p_pos   19.676442\n",
       "8    weight  127.168414\n",
       "9       age  207.271649"
      ]
     },
     "execution_count": 79,
     "metadata": {},
     "output_type": "execute_result"
    }
   ],
   "source": [
    "calc_vif(x_data[test3])"
   ]
  },
  {
   "cell_type": "code",
   "execution_count": 80,
   "metadata": {},
   "outputs": [
    {
     "data": {
      "text/plain": [
       "'Calculate avgs across all seasons....avg change across seasons? \\nThen only one row as player features and breakout vs. not\\nAvg yearly change in TB, OPS, OBP, SLG. Height, weight. Position. \\nAvg H, TB, OPS (not yearly change)'"
      ]
     },
     "execution_count": 80,
     "metadata": {},
     "output_type": "execute_result"
    }
   ],
   "source": [
    "'''Calculate avgs across all seasons....avg change across seasons? \n",
    "Then only one row as player features and breakout vs. not\n",
    "Avg yearly change in TB, OPS, OBP, SLG. Height, weight. Position. \n",
    "Avg H, TB, OPS (not yearly change)'''"
   ]
  },
  {
   "cell_type": "code",
   "execution_count": 81,
   "metadata": {},
   "outputs": [
    {
     "data": {
      "text/plain": [
       "Index(['playerID', 'yearID', 'lgID', 'G', 'AB', 'R', 'H', '2B', '3B', 'HR',\n",
       "       'RBI', 'SB', 'CS', 'BB', 'SO', 'IBB', 'HBP', 'SH', 'SF', 'GIDP', '1B',\n",
       "       'TB', 'obp', 'slg', 'ops', 'missed_any', 'bt_same', 'p_pos', 'height',\n",
       "       'weight', 'age', 'yoe', 'yoe_adj', 'ops_per_delta', 'bo_season',\n",
       "       'bo_ever'],\n",
       "      dtype='object')"
      ]
     },
     "execution_count": 81,
     "metadata": {},
     "output_type": "execute_result"
    }
   ],
   "source": [
    "first_breakout_training_avg.columns"
   ]
  },
  {
   "cell_type": "code",
   "execution_count": 82,
   "metadata": {},
   "outputs": [
    {
     "data": {
      "text/plain": [
       "[0, 1, 2, 3, 4, 5]"
      ]
     },
     "execution_count": 82,
     "metadata": {},
     "output_type": "execute_result"
    }
   ],
   "source": [
    "pos_list = list(set(first_breakout_training_avg['p_pos']))\n",
    "le = preprocessing.LabelEncoder()\n",
    "le.fit(pos_list)\n",
    "list(le.inverse_transform([0,1,2,3,4,5]))"
   ]
  },
  {
   "cell_type": "code",
   "execution_count": 83,
   "metadata": {},
   "outputs": [],
   "source": [
    "first_breakout_training_avg.drop_duplicates(inplace=True)\n",
    "first_breakout_training_avg['p_pos'] = le.transform(first_breakout_training_avg['p_pos'])\n",
    "first_breakout_training_avg['lgID'].replace('AL', 0, inplace=True)\n",
    "first_breakout_training_avg['lgID'].replace('NL', 1, inplace=True)"
   ]
  },
  {
   "cell_type": "code",
   "execution_count": 141,
   "metadata": {},
   "outputs": [],
   "source": [
    "training_avg_groupby = first_breakout_training_avg.groupby(['playerID'])['yearID', 'lgID', 'G', 'AB', 'R', 'H', '2B', '3B', 'HR',\n",
    "       'RBI', 'SB', 'CS', 'BB', 'SO', 'IBB', 'HBP', 'SH', 'SF', 'GIDP', '1B',\n",
    "       'TB', 'obp', 'slg', 'ops', 'missed_any', 'bt_same', 'p_pos', 'height',\n",
    "       'weight', 'age', 'yoe', 'yoe_adj', 'ops_per_delta', 'bo_ever'].mean()"
   ]
  },
  {
   "cell_type": "code",
   "execution_count": 142,
   "metadata": {},
   "outputs": [
    {
     "name": "stdout",
     "output_type": "stream",
     "text": [
      "           yearID  lgID      G      AB      R      H     2B    3B    HR   RBI  \\\n",
      "playerID                                                                        \n",
      "abbotje01  1999.0   0.0   84.5  229.50  32.00  63.50  14.50  1.00   7.5  35.0   \n",
      "abbotku01  1995.5   1.0  106.0  334.25  43.25  85.75  17.75  4.75  10.0  39.0   \n",
      "abercre01  2006.0   1.0  111.0  255.00  39.00  54.00  12.00  2.00   5.0  24.0   \n",
      "abernbr01  2001.5   0.0   98.0  383.50  44.50  97.00  17.50  2.50   3.5  36.5   \n",
      "abnersh01  1991.0   0.5   94.0  196.00  19.00  51.50   9.50  0.50   1.0  15.5   \n",
      "\n",
      "           ...  missed_any  bt_same  p_pos  height  weight   age  yoe  \\\n",
      "playerID   ...                                                          \n",
      "abbotje01  ...         1.0      0.0    4.0    74.0   190.0  27.0  2.0   \n",
      "abbotku01  ...         1.0      1.0    5.0    71.0   180.0  26.5  2.5   \n",
      "abercre01  ...         1.0      1.0    4.0    75.0   215.0  26.0  0.0   \n",
      "abernbr01  ...         1.0      1.0    4.0    73.0   185.0  24.5  0.5   \n",
      "abnersh01  ...         1.0      1.0    4.0    73.0   190.0  25.0  4.0   \n",
      "\n",
      "           yoe_adj  ops_per_delta  bo_ever  \n",
      "playerID                                    \n",
      "abbotje01      0.5      -0.035417      0.0  \n",
      "abbotku01      1.5       0.008364      0.0  \n",
      "abercre01      0.0      -0.179510      0.0  \n",
      "abernbr01      0.5      -0.092473      0.0  \n",
      "abnersh01      0.5       0.087452      0.0  \n",
      "\n",
      "[5 rows x 34 columns]\n"
     ]
    }
   ],
   "source": [
    "print(training_avg_groupby.head())"
   ]
  },
  {
   "cell_type": "code",
   "execution_count": 143,
   "metadata": {},
   "outputs": [],
   "source": [
    "training_avg_groupby = training_avg_groupby.reset_index()"
   ]
  },
  {
   "cell_type": "code",
   "execution_count": 144,
   "metadata": {},
   "outputs": [
    {
     "name": "stdout",
     "output_type": "stream",
     "text": [
      "    playerID  yearID  lgID      G      AB      R      H     2B    3B    HR  \\\n",
      "0  abbotje01  1999.0   0.0   84.5  229.50  32.00  63.50  14.50  1.00   7.5   \n",
      "1  abbotku01  1995.5   1.0  106.0  334.25  43.25  85.75  17.75  4.75  10.0   \n",
      "2  abercre01  2006.0   1.0  111.0  255.00  39.00  54.00  12.00  2.00   5.0   \n",
      "3  abernbr01  2001.5   0.0   98.0  383.50  44.50  97.00  17.50  2.50   3.5   \n",
      "4  abnersh01  1991.0   0.5   94.0  196.00  19.00  51.50   9.50  0.50   1.0   \n",
      "\n",
      "   ...  missed_any  bt_same  p_pos  height  weight   age  yoe  yoe_adj  \\\n",
      "0  ...         1.0      0.0    4.0    74.0   190.0  27.0  2.0      0.5   \n",
      "1  ...         1.0      1.0    5.0    71.0   180.0  26.5  2.5      1.5   \n",
      "2  ...         1.0      1.0    4.0    75.0   215.0  26.0  0.0      0.0   \n",
      "3  ...         1.0      1.0    4.0    73.0   185.0  24.5  0.5      0.5   \n",
      "4  ...         1.0      1.0    4.0    73.0   190.0  25.0  4.0      0.5   \n",
      "\n",
      "   ops_per_delta  bo_ever  \n",
      "0      -0.035417      0.0  \n",
      "1       0.008364      0.0  \n",
      "2      -0.179510      0.0  \n",
      "3      -0.092473      0.0  \n",
      "4       0.087452      0.0  \n",
      "\n",
      "[5 rows x 35 columns]\n"
     ]
    }
   ],
   "source": [
    "print(training_avg_groupby.head())"
   ]
  },
  {
   "cell_type": "code",
   "execution_count": 145,
   "metadata": {},
   "outputs": [],
   "source": [
    "'''Drop playerID col'''\n",
    "training_avg_groupby2 = training_avg_groupby.copy()\n",
    "training_avg_groupby.drop(['playerID'], axis=1, inplace=True)\n"
   ]
  },
  {
   "cell_type": "code",
   "execution_count": 89,
   "metadata": {},
   "outputs": [],
   "source": [
    "x_data = training_avg_groupby.iloc[:, :-1]\n",
    "y_data = training_avg_groupby[['bo_ever']].copy()"
   ]
  },
  {
   "cell_type": "code",
   "execution_count": 90,
   "metadata": {},
   "outputs": [
    {
     "data": {
      "text/plain": [
       "0.6807760141093474"
      ]
     },
     "execution_count": 90,
     "metadata": {},
     "output_type": "execute_result"
    }
   ],
   "source": [
    "log_model_score(x_data, y_data)\n"
   ]
  },
  {
   "cell_type": "code",
   "execution_count": 91,
   "metadata": {},
   "outputs": [],
   "source": [
    "'''The best features was test2 with a 67.5%. I chose a slightly lower accuracy than other models since it had fewer predictors'''\n",
    "\n",
    "test1 = ['yearID', 'H', 'HR',\n",
    "       'BB', 'p_pos', 'ops_per_delta', 'weight', 'age']\n",
    "\n",
    "test2 = ['yearID', 'BB',\n",
    "       'TB', 'ops', 'p_pos',\n",
    "       'weight', 'age']\n",
    "\n",
    "test3 = ['yearID', 'lgID', 'AB', 'R', 'H', 'HR',\n",
    "       'RBI', 'BB',\n",
    "       'TB', 'p_pos',\n",
    "       'weight', 'age', 'ops_per_delta']"
   ]
  },
  {
   "cell_type": "code",
   "execution_count": 92,
   "metadata": {},
   "outputs": [
    {
     "data": {
      "text/plain": [
       "0.6578483245149912"
      ]
     },
     "execution_count": 92,
     "metadata": {},
     "output_type": "execute_result"
    }
   ],
   "source": [
    "log_model_score(x_data[test1], y_data)\n"
   ]
  },
  {
   "cell_type": "code",
   "execution_count": 93,
   "metadata": {},
   "outputs": [
    {
     "data": {
      "text/plain": [
       "0.6754850088183422"
      ]
     },
     "execution_count": 93,
     "metadata": {},
     "output_type": "execute_result"
    }
   ],
   "source": [
    "log_model_score(x_data[test2], y_data)\n"
   ]
  },
  {
   "cell_type": "code",
   "execution_count": 94,
   "metadata": {},
   "outputs": [
    {
     "data": {
      "text/plain": [
       "0.673721340388007"
      ]
     },
     "execution_count": 94,
     "metadata": {},
     "output_type": "execute_result"
    }
   ],
   "source": [
    "log_model_score(x_data[test3], y_data)\n"
   ]
  },
  {
   "cell_type": "code",
   "execution_count": 97,
   "metadata": {},
   "outputs": [],
   "source": [
    "'''Calculate confusion matrix for the logistic model'''\n",
    "from sklearn.metrics import confusion_matrix\n",
    "tn, fp, fn, tp = confusion_matrix(y_test, predictions).ravel()"
   ]
  },
  {
   "cell_type": "code",
   "execution_count": 98,
   "metadata": {},
   "outputs": [
    {
     "data": {
      "text/plain": [
       "(276, 57, 127, 107)"
      ]
     },
     "execution_count": 98,
     "metadata": {},
     "output_type": "execute_result"
    }
   ],
   "source": [
    "(tn, fp, fn, tp)"
   ]
  },
  {
   "cell_type": "code",
   "execution_count": null,
   "metadata": {},
   "outputs": [],
   "source": [
    "clf.predict_proba"
   ]
  },
  {
   "cell_type": "code",
   "execution_count": 99,
   "metadata": {},
   "outputs": [],
   "source": [
    "def log_model_prob(x_data, y_data):\n",
    "    x_train, x_test, y_train, y_test = train_test_split(x_data, y_data, test_size=0.25, random_state=100)\n",
    "    y_train = np.array(y_train).ravel()\n",
    "    y_test = np.array(y_test).ravel()\n",
    "    scaler = StandardScaler()\n",
    "    #scaler.fit(data)\n",
    "    scaled_x_train = scaler.fit_transform(x_train)\n",
    "    scaled_x_test = scaler.fit_transform(x_test)\n",
    "    logisticRegr = LogisticRegression()\n",
    "    logisticRegr.fit(scaled_x_train, y_train)\n",
    "    score = logisticRegr.score(scaled_x_test, y_test)\n",
    "    prob = logisticRegr.predict_proba\n",
    "    return prob"
   ]
  },
  {
   "cell_type": "code",
   "execution_count": 100,
   "metadata": {},
   "outputs": [
    {
     "data": {
      "text/plain": [
       "<bound method LogisticRegression.predict_proba of LogisticRegression(C=1.0, class_weight=None, dual=False, fit_intercept=True,\n",
       "                   intercept_scaling=1, l1_ratio=None, max_iter=100,\n",
       "                   multi_class='auto', n_jobs=None, penalty='l2',\n",
       "                   random_state=None, solver='lbfgs', tol=0.0001, verbose=0,\n",
       "                   warm_start=False)>"
      ]
     },
     "execution_count": 100,
     "metadata": {},
     "output_type": "execute_result"
    }
   ],
   "source": [
    "log_model_prob(x_data[test2], y_data)\n"
   ]
  },
  {
   "cell_type": "code",
   "execution_count": 102,
   "metadata": {},
   "outputs": [],
   "source": [
    "x_train, x_test, y_train, y_test = train_test_split(x_data[test2], y_data, test_size=0.25, random_state=100)\n",
    "y_train = np.array(y_train).ravel()\n",
    "y_test = np.array(y_test).ravel()\n",
    "scaler = StandardScaler()\n",
    "#scaler.fit(data)\n",
    "scaled_x_train = scaler.fit_transform(x_train)\n",
    "scaled_x_test = scaler.fit_transform(x_test)\n",
    "logisticRegr = LogisticRegression()\n",
    "logisticRegr.fit(scaled_x_train, y_train)\n",
    "prob = logisticRegr.predict_proba"
   ]
  },
  {
   "cell_type": "code",
   "execution_count": 111,
   "metadata": {},
   "outputs": [],
   "source": [
    "prob_predictions = logisticRegr.predict_proba(scaled_x_test)"
   ]
  },
  {
   "cell_type": "code",
   "execution_count": 112,
   "metadata": {},
   "outputs": [
    {
     "name": "stdout",
     "output_type": "stream",
     "text": [
      "[[0.42231637 0.57768363]\n",
      " [0.61326017 0.38673983]\n",
      " [0.76951172 0.23048828]\n",
      " ...\n",
      " [0.63950462 0.36049538]\n",
      " [0.69350279 0.30649721]\n",
      " [0.5730535  0.4269465 ]]\n"
     ]
    }
   ],
   "source": [
    "print(prob_predictions)"
   ]
  },
  {
   "cell_type": "code",
   "execution_count": 113,
   "metadata": {},
   "outputs": [],
   "source": [
    "'''Next 10 cells merge prediction probabilities of breakout with the playerID and player name'''\n",
    "predictions_df = pd.DataFrame(prob_predictions)"
   ]
  },
  {
   "cell_type": "code",
   "execution_count": 118,
   "metadata": {},
   "outputs": [],
   "source": [
    "scaled_x_test_df = pd.DataFrame(scaled_x_test, columns = test2)"
   ]
  },
  {
   "cell_type": "code",
   "execution_count": 119,
   "metadata": {},
   "outputs": [
    {
     "name": "stdout",
     "output_type": "stream",
     "text": [
      "     yearID        BB        TB       ops     p_pos    weight       age\n",
      "0 -1.603984 -0.086010 -0.725459 -0.794964 -0.027351 -1.448997 -0.948409\n",
      "1  0.207649  0.956613  0.713642  0.759226 -0.027351  1.416438  0.680696\n",
      "2  1.512025 -0.411830 -0.054643 -0.350777  0.941898  0.007208  0.680696\n",
      "3  0.932302 -1.128633 -0.691058  0.018909 -0.027351  0.007208 -0.405374\n",
      "4 -1.676449  0.630793  0.151762 -1.282363  0.941898 -1.308074 -0.405374\n"
     ]
    }
   ],
   "source": [
    "print(scaled_x_test_df.head())"
   ]
  },
  {
   "cell_type": "code",
   "execution_count": 120,
   "metadata": {},
   "outputs": [],
   "source": [
    "x_test_df = pd.DataFrame(x_test, columns = test2)"
   ]
  },
  {
   "cell_type": "code",
   "execution_count": 121,
   "metadata": {},
   "outputs": [
    {
     "name": "stdout",
     "output_type": "stream",
     "text": [
      "      yearID    BB          TB       ops  p_pos  weight   age\n",
      "2180  1976.0  27.0   87.000000  0.628911    4.0   164.0  24.0\n",
      "463   2001.0  43.0  170.666667  0.769496    4.0   225.0  27.0\n",
      "2192  2019.0  22.0  126.000000  0.669090    5.0   195.0  27.0\n",
      "561   2011.0  11.0   89.000000  0.702530    4.0   195.0  25.0\n",
      "203   1975.0  38.0  138.000000  0.584822    5.0   167.0  25.0\n"
     ]
    }
   ],
   "source": [
    "print(x_test_df.head())"
   ]
  },
  {
   "cell_type": "code",
   "execution_count": 122,
   "metadata": {},
   "outputs": [],
   "source": [
    "test_index = x_test_df.index"
   ]
  },
  {
   "cell_type": "code",
   "execution_count": 123,
   "metadata": {},
   "outputs": [
    {
     "name": "stdout",
     "output_type": "stream",
     "text": [
      "<class 'pandas.core.indexes.numeric.Int64Index'>\n"
     ]
    }
   ],
   "source": [
    "print(type(test_index))"
   ]
  },
  {
   "cell_type": "code",
   "execution_count": 124,
   "metadata": {},
   "outputs": [
    {
     "name": "stdout",
     "output_type": "stream",
     "text": [
      "Int64Index([2180,  463, 2192,  561,  203, 1127,  739, 2076, 1633, 2203,\n",
      "            ...\n",
      "             699,  791, 1582, 1598,  538,  569,  613,    4,  880, 1749],\n",
      "           dtype='int64', length=567)\n"
     ]
    }
   ],
   "source": [
    "print(test_index)"
   ]
  },
  {
   "cell_type": "code",
   "execution_count": 134,
   "metadata": {},
   "outputs": [],
   "source": [
    "#print(x_data[test_index])\n",
    "test10_df = x_data.loc[x_test_df.index]\n"
   ]
  },
  {
   "cell_type": "code",
   "execution_count": 135,
   "metadata": {},
   "outputs": [],
   "source": [
    "test10_df = test10_df.join(predictions_df, how='inner')"
   ]
  },
  {
   "cell_type": "code",
   "execution_count": 136,
   "metadata": {},
   "outputs": [
    {
     "name": "stdout",
     "output_type": "stream",
     "text": [
      "     yearID  lgID      G          AB          R           H         2B  \\\n",
      "463  2001.0   0.0  124.0  406.666667  48.666667  106.666667  23.666667   \n",
      "561  2011.0   0.0   78.0  219.000000  34.000000   55.000000  13.000000   \n",
      "203  1975.0   1.0  141.0  471.000000  49.000000  110.000000  13.000000   \n",
      "134  2018.5   0.0  106.5  347.500000  47.000000   74.500000  19.000000   \n",
      "250  1993.0   1.0  125.0  381.000000  40.000000   92.000000  15.000000   \n",
      "\n",
      "           3B    HR        RBI  ...  bt_same  p_pos  height  weight   age  \\\n",
      "463  0.666667  13.0  52.666667  ...      1.0    4.0    76.0   225.0  27.0   \n",
      "561  0.000000   7.0  28.000000  ...      1.0    4.0    72.0   195.0  25.0   \n",
      "203  3.000000   3.0  38.000000  ...      1.0    5.0    68.0   167.0  25.0   \n",
      "134  1.500000  11.5  45.500000  ...      1.0    4.0    73.0   195.0  23.5   \n",
      "250  1.000000   3.0  22.000000  ...      0.0    5.0    72.0   180.0  26.0   \n",
      "\n",
      "     yoe  yoe_adj  ops_per_delta         0         1  \n",
      "463  2.0      1.0      -0.009752  0.618759  0.381241  \n",
      "561  0.0      0.0       0.126896  0.544665  0.455335  \n",
      "203  3.0      0.0      -0.135521  0.833538  0.166462  \n",
      "134  0.5      0.5      -0.119376  0.438172  0.561828  \n",
      "250  1.0      0.0       0.050363  0.651936  0.348064  \n",
      "\n",
      "[5 rows x 35 columns]\n"
     ]
    }
   ],
   "source": [
    "print(test10_df.head())"
   ]
  },
  {
   "cell_type": "code",
   "execution_count": 148,
   "metadata": {},
   "outputs": [],
   "source": [
    "test10_df.to_csv(\"./data/cleaned_data/predictions_logistic.csv\", index=True)"
   ]
  },
  {
   "cell_type": "code",
   "execution_count": 146,
   "metadata": {},
   "outputs": [],
   "source": [
    "batting_withprobabilityprediction = test10_df.join(training_avg_groupby2[['playerID']], how='inner')"
   ]
  },
  {
   "cell_type": "code",
   "execution_count": 147,
   "metadata": {},
   "outputs": [
    {
     "name": "stdout",
     "output_type": "stream",
     "text": [
      "   yearID  lgID      G      AB      R      H     2B    3B    HR   RBI  ...  \\\n",
      "0  1999.0   0.0   84.5  229.50  32.00  63.50  14.50  1.00   7.5  35.0  ...   \n",
      "1  1995.5   1.0  106.0  334.25  43.25  85.75  17.75  4.75  10.0  39.0  ...   \n",
      "2  2006.0   1.0  111.0  255.00  39.00  54.00  12.00  2.00   5.0  24.0  ...   \n",
      "3  2001.5   0.0   98.0  383.50  44.50  97.00  17.50  2.50   3.5  36.5  ...   \n",
      "4  1991.0   0.5   94.0  196.00  19.00  51.50   9.50  0.50   1.0  15.5  ...   \n",
      "\n",
      "   missed_any  bt_same  p_pos  height  weight   age  yoe  yoe_adj  \\\n",
      "0         1.0      0.0    4.0    74.0   190.0  27.0  2.0      0.5   \n",
      "1         1.0      1.0    5.0    71.0   180.0  26.5  2.5      1.5   \n",
      "2         1.0      1.0    4.0    75.0   215.0  26.0  0.0      0.0   \n",
      "3         1.0      1.0    4.0    73.0   185.0  24.5  0.5      0.5   \n",
      "4         1.0      1.0    4.0    73.0   190.0  25.0  4.0      0.5   \n",
      "\n",
      "   ops_per_delta  bo_ever  \n",
      "0      -0.035417      0.0  \n",
      "1       0.008364      0.0  \n",
      "2      -0.179510      0.0  \n",
      "3      -0.092473      0.0  \n",
      "4       0.087452      0.0  \n",
      "\n",
      "[5 rows x 34 columns]\n"
     ]
    }
   ],
   "source": [
    "print(training_avg_groupby.head())"
   ]
  },
  {
   "cell_type": "code",
   "execution_count": null,
   "metadata": {},
   "outputs": [],
   "source": []
  }
 ],
 "metadata": {
  "kernelspec": {
   "display_name": "Python 3",
   "language": "python",
   "name": "python3"
  },
  "language_info": {
   "codemirror_mode": {
    "name": "ipython",
    "version": 3
   },
   "file_extension": ".py",
   "mimetype": "text/x-python",
   "name": "python",
   "nbconvert_exporter": "python",
   "pygments_lexer": "ipython3",
   "version": "3.7.1"
  }
 },
 "nbformat": 4,
 "nbformat_minor": 2
}
